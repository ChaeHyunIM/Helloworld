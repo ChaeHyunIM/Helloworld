{
  "nbformat": 4,
  "nbformat_minor": 0,
  "metadata": {
    "colab": {
      "name": "day19.ipynb",
      "provenance": [],
      "authorship_tag": "ABX9TyMBsoCNgbmSengH2AWkh8On",
      "include_colab_link": true
    },
    "kernelspec": {
      "name": "python3",
      "display_name": "Python 3"
    },
    "language_info": {
      "name": "python"
    }
  },
  "cells": [
    {
      "cell_type": "markdown",
      "metadata": {
        "id": "view-in-github",
        "colab_type": "text"
      },
      "source": [
        "<a href=\"https://colab.research.google.com/github/ChaeHyunIM/Helloworld/blob/main/day19.ipynb\" target=\"_parent\"><img src=\"https://colab.research.google.com/assets/colab-badge.svg\" alt=\"Open In Colab\"/></a>"
      ]
    },
    {
      "cell_type": "code",
      "metadata": {
        "id": "RMEYlFe9zXt3"
      },
      "source": [
        "s='seoul seoul korea seoul'"
      ],
      "execution_count": null,
      "outputs": []
    },
    {
      "cell_type": "code",
      "metadata": {
        "colab": {
          "base_uri": "https://localhost:8080/"
        },
        "id": "x2ZqCzpr0PYH",
        "outputId": "eb8cdf47-20e6-44ad-b60b-7566cea963fc"
      },
      "source": [
        "s.count('s')"
      ],
      "execution_count": null,
      "outputs": [
        {
          "output_type": "execute_result",
          "data": {
            "text/plain": [
              "3"
            ]
          },
          "metadata": {
            "tags": []
          },
          "execution_count": 2
        }
      ]
    },
    {
      "cell_type": "code",
      "metadata": {
        "colab": {
          "base_uri": "https://localhost:8080/"
        },
        "id": "KRBdOJRe0Tej",
        "outputId": "bd40b3f1-1606-4eae-f462-2b847f6a6b7c"
      },
      "source": [
        "s.find('seo')"
      ],
      "execution_count": null,
      "outputs": [
        {
          "output_type": "execute_result",
          "data": {
            "text/plain": [
              "0"
            ]
          },
          "metadata": {
            "tags": []
          },
          "execution_count": 3
        }
      ]
    },
    {
      "cell_type": "code",
      "metadata": {
        "colab": {
          "base_uri": "https://localhost:8080/",
          "height": 35
        },
        "id": "nQq3Kh5H0c0K",
        "outputId": "a16f2ec6-7064-44e3-c58c-afddbaec2cb2"
      },
      "source": [
        "s.replace('seoul', 'pusan')"
      ],
      "execution_count": null,
      "outputs": [
        {
          "output_type": "execute_result",
          "data": {
            "application/vnd.google.colaboratory.intrinsic+json": {
              "type": "string"
            },
            "text/plain": [
              "'pusan pusan korea pusan'"
            ]
          },
          "metadata": {
            "tags": []
          },
          "execution_count": 4
        }
      ]
    },
    {
      "cell_type": "code",
      "metadata": {
        "colab": {
          "base_uri": "https://localhost:8080/"
        },
        "id": "NRrlXv5X0lB3",
        "outputId": "bde92ecb-9ac7-4641-8b7e-fa4f03e57fb5"
      },
      "source": [
        "s.index('o')"
      ],
      "execution_count": null,
      "outputs": [
        {
          "output_type": "execute_result",
          "data": {
            "text/plain": [
              "2"
            ]
          },
          "metadata": {
            "tags": []
          },
          "execution_count": 5
        }
      ]
    },
    {
      "cell_type": "code",
      "metadata": {
        "colab": {
          "base_uri": "https://localhost:8080/"
        },
        "id": "FDp5yxLy0s3C",
        "outputId": "00e244c0-daaa-4622-a85a-f7af740263f1"
      },
      "source": [
        "s.split(' ')"
      ],
      "execution_count": null,
      "outputs": [
        {
          "output_type": "execute_result",
          "data": {
            "text/plain": [
              "['seoul', 'seoul', 'korea', 'seoul']"
            ]
          },
          "metadata": {
            "tags": []
          },
          "execution_count": 8
        }
      ]
    },
    {
      "cell_type": "code",
      "metadata": {
        "colab": {
          "base_uri": "https://localhost:8080/",
          "height": 35
        },
        "id": "KOqeEtCJ01kB",
        "outputId": "3d29e464-bc83-4f53-820b-f9c105696081"
      },
      "source": [
        "'korea'.upper()"
      ],
      "execution_count": null,
      "outputs": [
        {
          "output_type": "execute_result",
          "data": {
            "application/vnd.google.colaboratory.intrinsic+json": {
              "type": "string"
            },
            "text/plain": [
              "'KOREA'"
            ]
          },
          "metadata": {
            "tags": []
          },
          "execution_count": 9
        }
      ]
    },
    {
      "cell_type": "code",
      "metadata": {
        "colab": {
          "base_uri": "https://localhost:8080/",
          "height": 35
        },
        "id": "yhoWB7tQ1HgL",
        "outputId": "e227df8c-8888-4fed-9418-cff719a5faf4"
      },
      "source": [
        "'SEOUL'.lower()"
      ],
      "execution_count": null,
      "outputs": [
        {
          "output_type": "execute_result",
          "data": {
            "application/vnd.google.colaboratory.intrinsic+json": {
              "type": "string"
            },
            "text/plain": [
              "'seoul'"
            ]
          },
          "metadata": {
            "tags": []
          },
          "execution_count": 10
        }
      ]
    },
    {
      "cell_type": "code",
      "metadata": {
        "colab": {
          "base_uri": "https://localhost:8080/"
        },
        "id": "-2oTNJn_1Jph",
        "outputId": "7c0658c4-0777-44c1-b828-56298680e72d"
      },
      "source": [
        "s.rfind('u')"
      ],
      "execution_count": null,
      "outputs": [
        {
          "output_type": "execute_result",
          "data": {
            "text/plain": [
              "21"
            ]
          },
          "metadata": {
            "tags": []
          },
          "execution_count": 12
        }
      ]
    },
    {
      "cell_type": "code",
      "metadata": {
        "colab": {
          "base_uri": "https://localhost:8080/"
        },
        "id": "dgh6G6AL1PWU",
        "outputId": "31eb8ac2-f2bc-407b-cac4-409314b875e3"
      },
      "source": [
        "s.split('e')"
      ],
      "execution_count": null,
      "outputs": [
        {
          "output_type": "execute_result",
          "data": {
            "text/plain": [
              "['s', 'oul s', 'oul kor', 'a s', 'oul']"
            ]
          },
          "metadata": {
            "tags": []
          },
          "execution_count": 13
        }
      ]
    },
    {
      "cell_type": "code",
      "metadata": {
        "colab": {
          "base_uri": "https://localhost:8080/",
          "height": 35
        },
        "id": "K59SXMqi1zC2",
        "outputId": "33eeb1e8-f72e-449c-b1ad-02aa4618335d"
      },
      "source": [
        "'  TTT  '.strip()"
      ],
      "execution_count": null,
      "outputs": [
        {
          "output_type": "execute_result",
          "data": {
            "application/vnd.google.colaboratory.intrinsic+json": {
              "type": "string"
            },
            "text/plain": [
              "'TTT'"
            ]
          },
          "metadata": {
            "tags": []
          },
          "execution_count": 14
        }
      ]
    },
    {
      "cell_type": "code",
      "metadata": {
        "colab": {
          "base_uri": "https://localhost:8080/",
          "height": 35
        },
        "id": "VtBJzYh616mU",
        "outputId": "8888ccc6-85b7-4762-b207-a34a3dc407a0"
      },
      "source": [
        "'  TTT  '.rstrip() ##우측 공백 제거"
      ],
      "execution_count": null,
      "outputs": [
        {
          "output_type": "execute_result",
          "data": {
            "application/vnd.google.colaboratory.intrinsic+json": {
              "type": "string"
            },
            "text/plain": [
              "'  TTT'"
            ]
          },
          "metadata": {
            "tags": []
          },
          "execution_count": 15
        }
      ]
    },
    {
      "cell_type": "code",
      "metadata": {
        "colab": {
          "base_uri": "https://localhost:8080/",
          "height": 35
        },
        "id": "VTLtp--11_nz",
        "outputId": "9631b2ce-06ee-49a3-c87a-b95e165a0ff9"
      },
      "source": [
        "'  TTT  '.lstrip() ##좌측 공백 제거"
      ],
      "execution_count": null,
      "outputs": [
        {
          "output_type": "execute_result",
          "data": {
            "application/vnd.google.colaboratory.intrinsic+json": {
              "type": "string"
            },
            "text/plain": [
              "'TTT  '"
            ]
          },
          "metadata": {
            "tags": []
          },
          "execution_count": 16
        }
      ]
    },
    {
      "cell_type": "code",
      "metadata": {
        "colab": {
          "base_uri": "https://localhost:8080/",
          "height": 35
        },
        "id": "uyunaVp42CIL",
        "outputId": "c2b9c375-0907-4b40-c8fa-0614d9d3da0b"
      },
      "source": [
        "s.ljust(40, 'l')"
      ],
      "execution_count": null,
      "outputs": [
        {
          "output_type": "execute_result",
          "data": {
            "application/vnd.google.colaboratory.intrinsic+json": {
              "type": "string"
            },
            "text/plain": [
              "'seoul seoul korea seoullllllllllllllllll'"
            ]
          },
          "metadata": {
            "tags": []
          },
          "execution_count": 17
        }
      ]
    },
    {
      "cell_type": "code",
      "metadata": {
        "colab": {
          "base_uri": "https://localhost:8080/",
          "height": 35
        },
        "id": "R5rsGnT62UHD",
        "outputId": "2788c632-e4f1-40f8-a004-9d8d5cbf89fc"
      },
      "source": [
        "s.rjust(30, '#')"
      ],
      "execution_count": null,
      "outputs": [
        {
          "output_type": "execute_result",
          "data": {
            "application/vnd.google.colaboratory.intrinsic+json": {
              "type": "string"
            },
            "text/plain": [
              "'#######seoul seoul korea seoul'"
            ]
          },
          "metadata": {
            "tags": []
          },
          "execution_count": 18
        }
      ]
    },
    {
      "cell_type": "code",
      "metadata": {
        "id": "h66kyA4o2cmo"
      },
      "source": [
        "import re"
      ],
      "execution_count": null,
      "outputs": []
    },
    {
      "cell_type": "code",
      "metadata": {
        "colab": {
          "base_uri": "https://localhost:8080/",
          "height": 35
        },
        "id": "cpE8fuWw218y",
        "outputId": "71d398c4-d3e6-4a48-fadd-f49b2f1b9ef5"
      },
      "source": [
        "'SSSSS'.join(s)"
      ],
      "execution_count": null,
      "outputs": [
        {
          "output_type": "execute_result",
          "data": {
            "application/vnd.google.colaboratory.intrinsic+json": {
              "type": "string"
            },
            "text/plain": [
              "'sSSSSSeSSSSSoSSSSSuSSSSSlSSSSS SSSSSsSSSSSeSSSSSoSSSSSuSSSSSlSSSSS SSSSSkSSSSSoSSSSSrSSSSSeSSSSSaSSSSS SSSSSsSSSSSeSSSSSoSSSSSuSSSSSl'"
            ]
          },
          "metadata": {
            "tags": []
          },
          "execution_count": 20
        }
      ]
    },
    {
      "cell_type": "code",
      "metadata": {
        "colab": {
          "base_uri": "https://localhost:8080/",
          "height": 35
        },
        "id": "8TBbozUH3dYw",
        "outputId": "9be2e7d4-a208-47bc-c61a-0a1dfdd84883"
      },
      "source": [
        "'###'.join(s)"
      ],
      "execution_count": null,
      "outputs": [
        {
          "output_type": "execute_result",
          "data": {
            "application/vnd.google.colaboratory.intrinsic+json": {
              "type": "string"
            },
            "text/plain": [
              "'s###e###o###u###l### ###s###e###o###u###l### ###k###o###r###e###a### ###s###e###o###u###l'"
            ]
          },
          "metadata": {
            "tags": []
          },
          "execution_count": 21
        }
      ]
    },
    {
      "cell_type": "code",
      "metadata": {
        "colab": {
          "base_uri": "https://localhost:8080/"
        },
        "id": "Gns7xwPN3lqJ",
        "outputId": "caf15065-5f1b-405d-de28-ca8a023cb71d"
      },
      "source": [
        "jumin_number = '''\n",
        "chio 901230-2011435\n",
        "yang 980127-1132654\n",
        "park 201123-1698745\n",
        "'''\n",
        "p=re.compile('\\d{6})[-]\\d{7}')\n",
        "print(p.sub('\\g<1>-*******', jumin_number))"
      ],
      "execution_count": null,
      "outputs": [
        {
          "output_type": "stream",
          "text": [
            "\n",
            "chio 901230-*******\n",
            "yang 980127-*******\n",
            "park 201123-*******\n",
            "\n"
          ],
          "name": "stdout"
        }
      ]
    },
    {
      "cell_type": "code",
      "metadata": {
        "colab": {
          "base_uri": "https://localhost:8080/"
        },
        "id": "cuWVZDir42yc",
        "outputId": "22b7e058-93c8-4835-a0c2-f5f36e4a6717"
      },
      "source": [
        "for i in range(3):\n",
        "  my_str = input(' Enter String(영문자+숫자만 입력): ')\n",
        "  p=re.compile('[a-zA-Z0-9]+')\n",
        "  m=p.match(my_str)\n",
        "  if m:\n",
        "    print('매칭 됨: ', m.group())\n",
        "  else:\n",
        "    print('매칭 안됨', my_str)"
      ],
      "execution_count": null,
      "outputs": [
        {
          "output_type": "stream",
          "text": [
            " Enter String(영문자+숫자만 입력): john9674\n",
            "매칭 됨:  john9674\n",
            " Enter String(영문자+숫자만 입력): sadkl232323\n",
            "매칭 됨:  sadkl232323\n",
            " Enter String(영문자+숫자만 입력): dlacogus74!\n",
            "매칭 됨:  dlacogus74\n"
          ],
          "name": "stdout"
        }
      ]
    },
    {
      "cell_type": "code",
      "metadata": {
        "colab": {
          "base_uri": "https://localhost:8080/"
        },
        "id": "C0Zztl7b-EPf",
        "outputId": "6632f4a3-0a56-4c2a-a602-f379780e2e71"
      },
      "source": [
        "p=re.compile('AAA|BBB|CCC')\n",
        "m=p.match('BBB-good')\n",
        "m"
      ],
      "execution_count": null,
      "outputs": [
        {
          "output_type": "execute_result",
          "data": {
            "text/plain": [
              "<re.Match object; span=(0, 3), match='BBB'>"
            ]
          },
          "metadata": {
            "tags": []
          },
          "execution_count": 30
        }
      ]
    },
    {
      "cell_type": "code",
      "metadata": {
        "colab": {
          "base_uri": "https://localhost:8080/"
        },
        "id": "5GjUjhQhA5Ly",
        "outputId": "05a64b32-8a6f-4116-891f-c9d349872982"
      },
      "source": [
        "%%writefile my.py\n",
        "print(' 파이썬 코딩' )\n",
        "for i in range(5):\n",
        "  print('Python Good')"
      ],
      "execution_count": null,
      "outputs": [
        {
          "output_type": "stream",
          "text": [
            "Writing my.py\n"
          ],
          "name": "stdout"
        }
      ]
    },
    {
      "cell_type": "code",
      "metadata": {
        "colab": {
          "base_uri": "https://localhost:8080/"
        },
        "id": "dterwiu_GVSc",
        "outputId": "0577628c-74de-427c-f8b5-719921b9f1e9"
      },
      "source": [
        "!ls"
      ],
      "execution_count": null,
      "outputs": [
        {
          "output_type": "stream",
          "text": [
            "my.py  sample_data\n"
          ],
          "name": "stdout"
        }
      ]
    },
    {
      "cell_type": "code",
      "metadata": {
        "colab": {
          "base_uri": "https://localhost:8080/"
        },
        "id": "Ukq1IzXVGb31",
        "outputId": "450a6731-21e9-4fa8-a74f-14c64c5f06cb"
      },
      "source": [
        "%run my.py"
      ],
      "execution_count": null,
      "outputs": [
        {
          "output_type": "stream",
          "text": [
            " 파이썬 코딩\n",
            "Python Good\n",
            "Python Good\n",
            "Python Good\n",
            "Python Good\n",
            "Python Good\n"
          ],
          "name": "stdout"
        }
      ]
    },
    {
      "cell_type": "code",
      "metadata": {
        "id": "kdngaJOvGkXk"
      },
      "source": [
        "import numpy as np\n",
        "import pandas as pd\n",
        "from numpy import nan as NA"
      ],
      "execution_count": null,
      "outputs": []
    },
    {
      "cell_type": "code",
      "metadata": {
        "colab": {
          "base_uri": "https://localhost:8080/"
        },
        "id": "D14EwrzFijbS",
        "outputId": "2ff63675-2662-4006-f760-ff51b802e507"
      },
      "source": [
        "d=pd.Series([1, NA, 6, 3, NA, 9])\n",
        "d"
      ],
      "execution_count": null,
      "outputs": [
        {
          "output_type": "execute_result",
          "data": {
            "text/plain": [
              "0    1.0\n",
              "1    NaN\n",
              "2    6.0\n",
              "3    3.0\n",
              "4    NaN\n",
              "5    9.0\n",
              "dtype: float64"
            ]
          },
          "metadata": {
            "tags": []
          },
          "execution_count": 39
        }
      ]
    },
    {
      "cell_type": "code",
      "metadata": {
        "id": "0j9UOL3djDAr"
      },
      "source": [
        "dd=d.dropna()"
      ],
      "execution_count": null,
      "outputs": []
    },
    {
      "cell_type": "code",
      "metadata": {
        "colab": {
          "base_uri": "https://localhost:8080/"
        },
        "id": "pPquLIgojXRu",
        "outputId": "764614b5-ef00-42cd-b95e-1d6e25668602"
      },
      "source": [
        "dd"
      ],
      "execution_count": null,
      "outputs": [
        {
          "output_type": "execute_result",
          "data": {
            "text/plain": [
              "0    1.0\n",
              "2    6.0\n",
              "3    3.0\n",
              "5    9.0\n",
              "dtype: float64"
            ]
          },
          "metadata": {
            "tags": []
          },
          "execution_count": 41
        }
      ]
    },
    {
      "cell_type": "code",
      "metadata": {
        "colab": {
          "base_uri": "https://localhost:8080/"
        },
        "id": "8Wn972QFjYte",
        "outputId": "bce02949-8f55-4f8c-c043-c4372cfd7633"
      },
      "source": [
        "d.fillna(55)"
      ],
      "execution_count": null,
      "outputs": [
        {
          "output_type": "execute_result",
          "data": {
            "text/plain": [
              "0     1.0\n",
              "1    55.0\n",
              "2     6.0\n",
              "3     3.0\n",
              "4    55.0\n",
              "5     9.0\n",
              "dtype: float64"
            ]
          },
          "metadata": {
            "tags": []
          },
          "execution_count": 42
        }
      ]
    },
    {
      "cell_type": "code",
      "metadata": {
        "id": "mexeOHJTjgft"
      },
      "source": [
        "import numpy as np\n",
        "b=np.arange(1000, 13000, 1000).reshape(4,3)"
      ],
      "execution_count": null,
      "outputs": []
    },
    {
      "cell_type": "code",
      "metadata": {
        "colab": {
          "base_uri": "https://localhost:8080/"
        },
        "id": "5sZVmYrikrHp",
        "outputId": "f526e7b0-f9f2-488d-8755-adaa2508caff"
      },
      "source": [
        "b[3]"
      ],
      "execution_count": null,
      "outputs": [
        {
          "output_type": "execute_result",
          "data": {
            "text/plain": [
              "array([10000, 11000, 12000])"
            ]
          },
          "metadata": {
            "tags": []
          },
          "execution_count": 45
        }
      ]
    },
    {
      "cell_type": "code",
      "metadata": {
        "colab": {
          "base_uri": "https://localhost:8080/"
        },
        "id": "8PSK5RG3kvui",
        "outputId": "69c3a64c-b47f-4136-e1f0-71f2cf999c3d"
      },
      "source": [
        "b[2:,0:1]"
      ],
      "execution_count": null,
      "outputs": [
        {
          "output_type": "execute_result",
          "data": {
            "text/plain": [
              "array([[ 7000],\n",
              "       [10000]])"
            ]
          },
          "metadata": {
            "tags": []
          },
          "execution_count": 47
        }
      ]
    },
    {
      "cell_type": "code",
      "metadata": {
        "id": "CcfonNmSk1nH",
        "colab": {
          "base_uri": "https://localhost:8080/"
        },
        "outputId": "ce91acd0-fdd1-4086-e7ed-666ad88273b4"
      },
      "source": [
        "%%writefile my.html\n",
        "\n",
        "<!DOCTYPE html>\n",
        "\n",
        "<html>\n",
        "\n",
        "<head>\n",
        "    <meta charset=\"utf-8\"> \n",
        " \t<title>나의 타이틀</title>\n",
        "</head>\n",
        "\n",
        "<body bocolor=green  text=white>\n",
        "\n",
        "  <h1>짱구네 집</h1>\n",
        "  <p>단락. paragraph</p>\n",
        "\n",
        "  <div>\n",
        "  \t<a href='http://func.kr'>우리카페</a>\n",
        "  </div>\n",
        "\n",
        "  <div>\n",
        "    <a href='http://www.naver.com'>네이버</a>\n",
        "  </div>\n",
        "\n",
        " <div>\n",
        "    <a href='http://w3schools.com'>공부하러가자</a>\n",
        "</div>\n",
        "\n",
        "<table style='width:50%' border=1 align=center>\n",
        "  <tr align=center>\n",
        "    <th>이름</th>\n",
        "    <th>소속</th> \n",
        "    <th>연봉</th>\n",
        "  </tr>\n",
        "  \n",
        "  <tr align=center>\n",
        "    <td>류현진</td>\n",
        "    <td>토론토</td>\n",
        "    <td>1500</td>\n",
        "  </tr>\n",
        "  \n",
        "  <tr align=center>\n",
        "    <td>김하성</td>\n",
        "    <td>센디에이고</td>\n",
        "    <td>700</td>\n",
        "  </tr>\n",
        "  \n",
        "  <tr align=center>\n",
        "    <td>양현종</td>\n",
        "    <td>텍사스</td>\n",
        "    <td>800</td>\n",
        "  </tr>\n",
        "  \n",
        "</table>\n",
        "    \n",
        "  \n",
        "  <div id='id1'>\n",
        "  \t   여기는 서울 \n",
        "       <p> 단락 </p>\n",
        "  </div>\n",
        "  \n",
        "</body>\n",
        "\n",
        "</html>"
      ],
      "execution_count": 50,
      "outputs": [
        {
          "output_type": "stream",
          "text": [
            "Writing my.html\n"
          ],
          "name": "stdout"
        }
      ]
    },
    {
      "cell_type": "code",
      "metadata": {
        "colab": {
          "base_uri": "https://localhost:8080/"
        },
        "id": "oUi86JDXBycB",
        "outputId": "34539ffd-4cc6-4066-f15d-0692d5893dde"
      },
      "source": [
        "!ls"
      ],
      "execution_count": 51,
      "outputs": [
        {
          "output_type": "stream",
          "text": [
            "my.html  my.py\tsample_data\n"
          ],
          "name": "stdout"
        }
      ]
    },
    {
      "cell_type": "code",
      "metadata": {
        "colab": {
          "base_uri": "https://localhost:8080/"
        },
        "id": "zVWsjkUSCNoo",
        "outputId": "982cffe8-b643-44ba-be75-bbb53f3cbaba"
      },
      "source": [
        "!nl my.html"
      ],
      "execution_count": 53,
      "outputs": [
        {
          "output_type": "stream",
          "text": [
            "       \n",
            "     1\t<!DOCTYPE html>\n",
            "       \n",
            "     2\t<html>\n",
            "       \n",
            "     3\t<head>\n",
            "     4\t    <meta charset=\"utf-8\"> \n",
            "     5\t \t<title>나의 타이틀</title>\n",
            "     6\t</head>\n",
            "       \n",
            "     7\t<body bocolor=green  text=white>\n",
            "       \n",
            "     8\t  <h1>짱구네 집</h1>\n",
            "     9\t  <p>단락. paragraph</p>\n",
            "       \n",
            "    10\t  <div>\n",
            "    11\t  \t<a href='http://func.kr'>우리카페</a>\n",
            "    12\t  </div>\n",
            "       \n",
            "    13\t  <div>\n",
            "    14\t    <a href='http://www.naver.com'>네이버</a>\n",
            "    15\t  </div>\n",
            "       \n",
            "    16\t <div>\n",
            "    17\t    <a href='http://w3schools.com'>공부하러가자</a>\n",
            "    18\t</div>\n",
            "       \n",
            "    19\t<table style='width:50%' border=1 align=center>\n",
            "    20\t  <tr align=center>\n",
            "    21\t    <th>이름</th>\n",
            "    22\t    <th>소속</th> \n",
            "    23\t    <th>연봉</th>\n",
            "    24\t  </tr>\n",
            "    25\t  \n",
            "    26\t  <tr align=center>\n",
            "    27\t    <td>류현진</td>\n",
            "    28\t    <td>토론토</td>\n",
            "    29\t    <td>1500</td>\n",
            "    30\t  </tr>\n",
            "    31\t  \n",
            "    32\t  <tr align=center>\n",
            "    33\t    <td>김하성</td>\n",
            "    34\t    <td>센디에이고</td>\n",
            "    35\t    <td>700</td>\n",
            "    36\t  </tr>\n",
            "    37\t  \n",
            "    38\t  <tr align=center>\n",
            "    39\t    <td>양현종</td>\n",
            "    40\t    <td>텍사스</td>\n",
            "    41\t    <td>800</td>\n",
            "    42\t  </tr>\n",
            "    43\t  \n",
            "    44\t</table>\n",
            "    45\t    \n",
            "    46\t  \n",
            "    47\t  <div id='id1'>\n",
            "    48\t  \t   여기는 서울 \n",
            "    49\t       <p> 단락 </p>\n",
            "    50\t  </div>\n",
            "    51\t  \n",
            "    52\t</body>\n",
            "       \n",
            "    53\t</html>\n"
          ],
          "name": "stdout"
        }
      ]
    },
    {
      "cell_type": "code",
      "metadata": {
        "colab": {
          "base_uri": "https://localhost:8080/"
        },
        "id": "Bu6KsUT3CcEB",
        "outputId": "f0e2df05-e513-43a6-9600-7714bb3134d4"
      },
      "source": [
        "from bs4 import BeautifulSoup\n",
        "import urllib.request\n",
        "\n",
        "with open('my.html') as f:\n",
        "  s = BeautifulSoup(f, 'html.parser')\n",
        "print(s)"
      ],
      "execution_count": 54,
      "outputs": [
        {
          "output_type": "stream",
          "text": [
            "\n",
            "<!DOCTYPE html>\n",
            "\n",
            "<html>\n",
            "<head>\n",
            "<meta charset=\"utf-8\"/>\n",
            "<title>나의 타이틀</title>\n",
            "</head>\n",
            "<body bocolor=\"green\" text=\"white\">\n",
            "<h1>짱구네 집</h1>\n",
            "<p>단락. paragraph</p>\n",
            "<div>\n",
            "<a href=\"http://func.kr\">우리카페</a>\n",
            "</div>\n",
            "<div>\n",
            "<a href=\"http://www.naver.com\">네이버</a>\n",
            "</div>\n",
            "<div>\n",
            "<a href=\"http://w3schools.com\">공부하러가자</a>\n",
            "</div>\n",
            "<table align=\"center\" border=\"1\" style=\"width:50%\">\n",
            "<tr align=\"center\">\n",
            "<th>이름</th>\n",
            "<th>소속</th>\n",
            "<th>연봉</th>\n",
            "</tr>\n",
            "<tr align=\"center\">\n",
            "<td>류현진</td>\n",
            "<td>토론토</td>\n",
            "<td>1500</td>\n",
            "</tr>\n",
            "<tr align=\"center\">\n",
            "<td>김하성</td>\n",
            "<td>센디에이고</td>\n",
            "<td>700</td>\n",
            "</tr>\n",
            "<tr align=\"center\">\n",
            "<td>양현종</td>\n",
            "<td>텍사스</td>\n",
            "<td>800</td>\n",
            "</tr>\n",
            "</table>\n",
            "<div id=\"id1\">\n",
            "  \t   여기는 서울 \n",
            "       <p> 단락 </p>\n",
            "</div>\n",
            "</body>\n",
            "</html>\n"
          ],
          "name": "stdout"
        }
      ]
    },
    {
      "cell_type": "code",
      "metadata": {
        "colab": {
          "base_uri": "https://localhost:8080/"
        },
        "id": "7Dntbav9DOmX",
        "outputId": "a3e72426-e116-43be-d3f1-05d24f63a94c"
      },
      "source": [
        "s.title"
      ],
      "execution_count": 55,
      "outputs": [
        {
          "output_type": "execute_result",
          "data": {
            "text/plain": [
              "<title>나의 타이틀</title>"
            ]
          },
          "metadata": {
            "tags": []
          },
          "execution_count": 55
        }
      ]
    },
    {
      "cell_type": "code",
      "metadata": {
        "colab": {
          "base_uri": "https://localhost:8080/"
        },
        "id": "MqTwLyh3Dld7",
        "outputId": "9ea3fcf4-4e27-4cff-c0c5-2a51eab77f2e"
      },
      "source": [
        "s.head"
      ],
      "execution_count": 56,
      "outputs": [
        {
          "output_type": "execute_result",
          "data": {
            "text/plain": [
              "<head>\n",
              "<meta charset=\"utf-8\"/>\n",
              "<title>나의 타이틀</title>\n",
              "</head>"
            ]
          },
          "metadata": {
            "tags": []
          },
          "execution_count": 56
        }
      ]
    },
    {
      "cell_type": "code",
      "metadata": {
        "colab": {
          "base_uri": "https://localhost:8080/"
        },
        "id": "eKv7MLDoDm-g",
        "outputId": "88fa637b-67cd-4452-8e23-bf63b4d33a92"
      },
      "source": [
        "s.body"
      ],
      "execution_count": 58,
      "outputs": [
        {
          "output_type": "execute_result",
          "data": {
            "text/plain": [
              "<body bocolor=\"green\" text=\"white\">\n",
              "<h1>짱구네 집</h1>\n",
              "<p>단락. paragraph</p>\n",
              "<div>\n",
              "<a href=\"http://func.kr\">우리카페</a>\n",
              "</div>\n",
              "<div>\n",
              "<a href=\"http://www.naver.com\">네이버</a>\n",
              "</div>\n",
              "<div>\n",
              "<a href=\"http://w3schools.com\">공부하러가자</a>\n",
              "</div>\n",
              "<table align=\"center\" border=\"1\" style=\"width:50%\">\n",
              "<tr align=\"center\">\n",
              "<th>이름</th>\n",
              "<th>소속</th>\n",
              "<th>연봉</th>\n",
              "</tr>\n",
              "<tr align=\"center\">\n",
              "<td>류현진</td>\n",
              "<td>토론토</td>\n",
              "<td>1500</td>\n",
              "</tr>\n",
              "<tr align=\"center\">\n",
              "<td>김하성</td>\n",
              "<td>센디에이고</td>\n",
              "<td>700</td>\n",
              "</tr>\n",
              "<tr align=\"center\">\n",
              "<td>양현종</td>\n",
              "<td>텍사스</td>\n",
              "<td>800</td>\n",
              "</tr>\n",
              "</table>\n",
              "<div id=\"id1\">\n",
              "  \t   여기는 서울 \n",
              "       <p> 단락 </p>\n",
              "</div>\n",
              "</body>"
            ]
          },
          "metadata": {
            "tags": []
          },
          "execution_count": 58
        }
      ]
    },
    {
      "cell_type": "code",
      "metadata": {
        "colab": {
          "base_uri": "https://localhost:8080/"
        },
        "id": "oPu5TxkfDnlW",
        "outputId": "2d27df08-4e7b-4dfc-b262-64738b72ef89"
      },
      "source": [
        "s.h1"
      ],
      "execution_count": 59,
      "outputs": [
        {
          "output_type": "execute_result",
          "data": {
            "text/plain": [
              "<h1>짱구네 집</h1>"
            ]
          },
          "metadata": {
            "tags": []
          },
          "execution_count": 59
        }
      ]
    },
    {
      "cell_type": "code",
      "metadata": {
        "colab": {
          "base_uri": "https://localhost:8080/"
        },
        "id": "Ss_vECZlDqoi",
        "outputId": "176c3888-1e46-44c4-ab7b-5802f70c430d"
      },
      "source": [
        "import requests\n",
        "from bs4 import BeautifulSoup\n",
        " \n",
        "data = requests.get('https://movie.naver.com/movie/sdb/rank/rmovie.nhn')\n",
        "soup = BeautifulSoup(data.text, 'html.parser')\n",
        "\n",
        "movies = soup.select('#old_content > table > tbody > tr')\n",
        "\n",
        "for i in movies:   \n",
        "    a = i.select_one('td.title > div > a')\n",
        "    if a is not None:        \n",
        "        print(a.text)"
      ],
      "execution_count": 61,
      "outputs": [
        {
          "output_type": "stream",
          "text": [
            "크루엘라\n",
            "분노의 질주: 더 얼티메이트\n",
            "파이프라인\n",
            "보이저스\n",
            "극장판 귀멸의 칼날: 무한열차편\n",
            "도라에몽: 스탠바이미 2\n",
            "스파이럴\n",
            "애플\n",
            "비와 당신의 이야기\n",
            "500일의 썸머\n",
            "굴뚝마을의 푸펠\n",
            "컨저링 3: 악마가 시켰다\n",
            "아미 오브 더 데드\n",
            "캐시트럭\n",
            "라이더스 오브 저스티스\n",
            "노매드랜드\n",
            "더 스파이\n",
            "혼자 사는 사람들\n",
            "인트로덕션\n",
            "크루즈 패밀리: 뉴 에이지\n",
            "이터널스\n",
            "미나리\n",
            "내일의 기억\n",
            "프로페서 앤 매드맨\n",
            "아들의 이름으로\n",
            "브리짓 존스의 일기\n",
            "내가 죽기를 바라는 자들\n",
            "썰\n",
            "낫아웃\n",
            "좋은 빛, 좋은 공기\n",
            "베놈 2: 렛 데어 비 카니지\n",
            "콰이어트 플레이스 2\n",
            "극장판 콩순이: 장난감나라 대모험\n",
            "써니\n",
            "발신제한\n",
            "쇼크 웨이브 2\n",
            "2067\n",
            "킬러의 보디가드 2\n",
            "잭 스나이더의 저스티스 리그\n",
            "인셉션\n",
            "여고괴담 여섯번째 이야기 : 모교\n",
            "어른들은 몰라요\n",
            "진범\n",
            "아이들은 즐겁다\n",
            "그린 북\n",
            "노바디 \n",
            "자산어보\n",
            "명탐정 코난: 비색의 탄환\n",
            "분노의 질주: 더 세븐\n",
            "비밀의 정원\n"
          ],
          "name": "stdout"
        }
      ]
    },
    {
      "cell_type": "code",
      "metadata": {
        "colab": {
          "base_uri": "https://localhost:8080/"
        },
        "id": "gmsqdp8vGlut",
        "outputId": "7b8c6348-0875-4cf0-c316-16a9db6d7c6c"
      },
      "source": [
        "import os\n",
        "import sys\n",
        "import urllib.request\n",
        "client_id = \"lNCiCxt7Oz2la4wfCMIJ\"\n",
        "client_secret = \"61GyziUYiK\"\n",
        "encText = urllib.parse.quote(\"강아지\")\n",
        "url = \"https://openapi.naver.com/v1/search/webkr?query=\" + encText \n",
        "request = urllib.request.Request(url)\n",
        "request.add_header(\"X-Naver-Client-Id\",client_id)\n",
        "request.add_header(\"X-Naver-Client-Secret\",client_secret)\n",
        "response = urllib.request.urlopen(request)\n",
        "rescode = response.getcode()\n",
        "if(rescode==200):\n",
        "    response_body = response.read()\n",
        "    print(response_body.decode('utf-8'))\n",
        "else:\n",
        "    print(\"Error Code:\" + rescode)"
      ],
      "execution_count": 64,
      "outputs": [
        {
          "output_type": "stream",
          "text": [
            "{\n",
            "\"lastBuildDate\": \"Mon, 31 May 2021 16:24:12 +0900\",\n",
            "\"total\": 18965264,\n",
            "\"start\": 1,\n",
            "\"display\": 10,\n",
            "\"items\": [\n",
            "{\n",
            "\"title\": \"<b>강아지</b> - 나무위키\",\n",
            "\"link\": \"https://namu.wiki/w/%EA%B0%95%EC%95%84%EC%A7%80\",\n",
            "\"description\": \"등장하는 <b>강아지</b>: <b>강아지</b>(코드:브레이커) 노라조의 노래: 멍멍이와 냥이 유희왕의 카드 : 멍멍이!? 1. 개요... 개[kahj] [2] + 작다는 뜻의 접두어 앚 [3] + 명사전성어미 &quot;이&quot;가 합쳐져서 <b>강아지</b>가 됐다. 아지는 옛날에... \"\n",
            "\n",
            "},\n",
            "{\n",
            "\"title\": \"180개의 <b>강아지</b> 아이디어 | <b>강아지</b>, 동물, 개\",\n",
            "\"link\": \"https://www.pinterest.com/hyeung_lee/%EA%B0%95%EC%95%84%EC%A7%80/\",\n",
            "\"description\": \"2018. 4. 4 - Pinterest에서 495명이 팔로우한 inhyeung lee님의 &quot;<b>강아지</b>&quot; 보드를 살펴보세요. <b>강아지</b>, 동물, 개에 관한 아이디어를 더 확인해 보세요.\"\n",
            "\n",
            "},\n",
            "{\n",
            "\"title\": \"850개의 <b>강아지</b> 아이디어 | <b>강아지</b>, 동물, 개\",\n",
            "\"link\": \"https://www.pinterest.com/althsus8383/%EA%B0%95%EC%95%84%EC%A7%80/\",\n",
            "\"description\": \"2020. 8. 3 - Pinterest에서 575명이 팔로우한 한국인님의 &quot;<b>강아지</b>&quot; 보드를 살펴보세요. <b>강아지</b>, 동물, 개에 관한 아이디어를 더 확인해 보세요.\"\n",
            "\n",
            "},\n",
            "{\n",
            "\"title\": \"<b>강아지</b> - 허프포스트코리아 - Global Online News Media\",\n",
            "\"link\": \"http://www.huffingtonpost.kr/news/gang-a-ji\",\n",
            "\"description\": \" \"\n",
            "\n",
            "},\n",
            "{\n",
            "\"title\": \"처음 <b>강아지</b> 키울 때 꼭 하는 10가지 실수 | 펫슬랩\",\n",
            "\"link\": \"https://1boon.kakao.com/petxlab/57569086ed94d200011e26eb\",\n",
            "\"description\": \"<b>강아지</b>를 처음 키울 때사료를 얼만큼 줘야하는 지 몰라서 한번씩은 다 고민을 해봤을 것.주면 먹고, 주면 먹는 <b>강아지</b>들 때문에부족한가 생각하고 계속 주게 되는데……!과식한 <b>강아지</b>들이 토를 했던 일들이 비일비재.\"\n",
            "\n",
            "},\n",
            "{\n",
            "\"title\": \"<b>강아지</b>를 위한 LURVIG 루르비그 컬렉션 보러 가기 - IKEA\",\n",
            "\"link\": \"https://www.ikea.com/kr/ko/cat/dogs-39570/\",\n",
            "\"description\": \"제품 반려동물 <b>강아지</b> <b>강아지</b> 개와 함께 살면 자고, 먹고, 놀고, 산책하는 등 개들이 좋아하는 활동에 필요한 물건들도 필요하게 되죠. 그래서 개를 위한 가구와 제품 시리즈를 출시하게 되었고, 길이조절 목줄... \"\n",
            "\n",
            "},\n",
            "{\n",
            "\"title\": \"#<b>강아지</b> 해시태그 • Instagram 사진 및 동영상\",\n",
            "\"link\": \"https://www.instagram.com/explore/tags/%EA%B0%95%EC%95%84%EC%A7%80/\",\n",
            "\"description\": \"게시물 21.6백만개 - '<b>강아지</b>' 해시태그가 표시된 Instagram 사진 및 동영상 보기\"\n",
            "\n",
            "},\n",
            "{\n",
            "\"title\": \"<b>강아지</b> 간식 전체 - 반려소반 - 반려동물의 모든 순간을 바르게\",\n",
            "\"link\": \"https://petsoban.com/all-items-dog\",\n",
            "\"description\": \"베스트 고양이 <b>강아지</b> 대용량존 커뮤니티\"\n",
            "\n",
            "},\n",
            "{\n",
            "\"title\": \"강사모-반려견 훈련 교육법, <b>강아지</b> 종류 유기견 입양 방법 안내\",\n",
            "\"link\": \"https://cafe.naver.com/dogpalza\",\n",
            "\"description\": \"약 189만 명의 회원을 보유한 강사모-반려견 훈련 교육법, <b>강아지</b> 종류 유기견 입양 방법 안내카페 (숲 등급)입니다. <b>강아지</b>키우기,애견훈련소,티컵<b>강아지</b>종류,말티즈,시츄,푸들,슈나우저,<b>강아지</b>카페,<b>강아지</b>옷\"\n",
            "\n",
            "},\n",
            "{\n",
            "\"title\": \"[알쓸다정] <b>강아지</b> 혼내는 법에도 정답이 있다 - 글이 작품이 되는 공간, 브런치\",\n",
            "\"link\": \"https://brunch.co.kr/@pjsprau/197\",\n",
            "\"description\": \"나온 <b>강아지</b>들 주위에는 항상 미소를 띤 사람들이 가득하다. 그러나 육아란 멀리서 보면 천국, 가까이서 보면 지옥인 법. <b>강아지</b> 키우기도 예외가 아니다. 천사 같이 귀여운 <b>강아지</b>들도 집에서는 ‘육아전쟁’의 주범일\"\n",
            "\n",
            "}\n",
            "]\n",
            "}\n",
            "\n"
          ],
          "name": "stdout"
        }
      ]
    },
    {
      "cell_type": "code",
      "metadata": {
        "colab": {
          "base_uri": "https://localhost:8080/"
        },
        "id": "hBtfOX00Rzye",
        "outputId": "600957ce-9bf7-4247-b875-857b5c5f6cde"
      },
      "source": [
        "import os\n",
        "import re\n",
        "import json\n",
        "import pandas as pd\n",
        "import urllib.request\n",
        "client_id = \"lNCiCxt7Oz2la4wfCMIJ\"\n",
        "client_secret = \"61GyziUYiK\"\n",
        "\n",
        "query = urllib.parse.quote(input(\"검색어를 입력하세요:\"))\n",
        "\n",
        "\n",
        "cols = ['Title', 'Link', 'Description', 'Blogger Name', 'Blogger Link']\n",
        "blog_df=pd.DataFrame(columns=cols)\n",
        "\n",
        "count = 0\n",
        "\n",
        "for i in range(1, 101, 10):\n",
        "  url = \"https://openapi.naver.com/v1/search/blog?query=\" + query + '&display=' + str(10) + '&start=' + str(i) + '&sort=' + 'sim'\n",
        "  request = urllib.request.Request(url)\n",
        "  request.add_header(\"X-Naver-Client-Id\",client_id)\n",
        "  request.add_header(\"X-Naver-Client-Secret\",client_secret)\n",
        "  response = urllib.request.urlopen(request)\n",
        "  rescode = response.getcode()\n",
        "  if(rescode==200):\n",
        "      response_body = response.read()\n",
        "      response_dict = json.loads(response_body.decode('utf-8'))\n",
        "      print(response_body.decode('utf-8'))\n",
        "      items = response_dict['items']\n",
        "\n",
        "      for j in range(0, len(items)):\n",
        "        p= re.compile('<.*?>')\n",
        "        title = re.sub(p, '', items[j]['title'])\n",
        "        link = items[j]['link']\n",
        "        description = re.sub(p, '', items[j]['description'])\n",
        "        blogger_name = items[j]['bloggername']\n",
        "        blogger_link = items[j]['bloggerlink']\n",
        "        blog_df.loc[count] = [title, link, description, blogger_name, blogger_link]\n",
        "        print(count, end=' ')\n",
        "        count += 1\n",
        "  else:\n",
        "      print(\"Error Code:\" + rescode)"
      ],
      "execution_count": 23,
      "outputs": [
        {
          "output_type": "stream",
          "text": [
            "검색어를 입력하세요:리눅스\n",
            "{\n",
            "\"lastBuildDate\": \"Mon, 31 May 2021 17:08:16 +0900\",\n",
            "\"total\": 278550,\n",
            "\"start\": 1,\n",
            "\"display\": 10,\n",
            "\"items\": [\n",
            "{\n",
            "\"title\": \"지는 Cent OS8의 대체 RedHat계열 <b>리눅스</b> 엔터프라이즈 버전\",\n",
            "\"link\": \"https:\\/\\/blog.naver.com\\/kcallda?Redirect=Log&logNo=222303896327\",\n",
            "\"description\": \"이 운영체제는 RHEL(레드햇 엔터프라이즈 <b>리눅스</b>)와 거의 완벽하게 호환되는 무료 기업용 <b>리눅스</b> 운영체제예요. 기업 시스템에 사용하기 적합한 안정된 <b>리눅스</b> 배포판이면서도 무료로 사용할 수 있기... \",\n",
            "\"bloggername\": \"Beyond Expectations\",\n",
            "\"bloggerlink\": \"https://blog.naver.com/kcallda\",\n",
            "\"postdate\": \"20210409\"\n",
            "\n",
            "},\n",
            "{\n",
            "\"title\": \"유용한 <b>리눅스</b> 커맨드라인 앱\",\n",
            "\"link\": \"http://madchick.egloos.com/4196540\",\n",
            "\"description\": \"vim sudo apt-get install vim 엄청 빠른 텍스트 에디터 - <b>리눅스</b> 사용에 필수라 두말하면 잔소리... be/XA2WjJbmmoM vi 보다 사용하기 편하다고 하는데, 인터넷에 연결되지 않은 <b>리눅스</b> 다눌 일이 더... \",\n",
            "\"bloggername\": \"미친병아리가 삐약삐약\",\n",
            "\"bloggerlink\": \"http://madchick.egloos.com/\",\n",
            "\"postdate\": \"20210428\"\n",
            "\n",
            "},\n",
            "{\n",
            "\"title\": \"<b>리눅스</b>마스터 2급 시험일정과 준비방법\",\n",
            "\"link\": \"https:\\/\\/blog.naver.com\\/skh556?Redirect=Log&logNo=222202749493\",\n",
            "\"description\": \"오늘은 비전공자도 많이 도전하고 비교적 쉽게 취득이 가능한 <b>리눅스</b>마스터 2급 자격증에 대해서 포스팅을 진행해 보겠습니다. <b>리눅스</b>란? <b>리눅스</b>는 대표적인 오픈 소스 기반 운영체제입니다. 오픈 소스란?... \",\n",
            "\"bloggername\": \"우렁찬한우의 국비 교육 이야기\",\n",
            "\"bloggerlink\": \"https://blog.naver.com/skh556\",\n",
            "\"postdate\": \"20210111\"\n",
            "\n",
            "},\n",
            "{\n",
            "\"title\": \"<b>리눅스</b> 취약점과 보안 강화\",\n",
            "\"link\": \"https:\\/\\/blog.naver.com\\/leejjoo112?Redirect=Log&logNo=222362754319\",\n",
            "\"description\": \"<b>리눅스</b> 취약점 1. setuid root 프로그램 남용 슈퍼유저가 소유한 프로그램으로서 setuid 비트가... 얻음 ↓ <b>리눅스</b> 명령(ls, ps 등)이나, 로드 가능한 커널 모듈(LKM; Loadable Kernel Module)을 악성 코드를... \",\n",
            "\"bloggername\": \"vis ta vie\",\n",
            "\"bloggerlink\": \"https://blog.naver.com/leejjoo112\",\n",
            "\"postdate\": \"20210523\"\n",
            "\n",
            "},\n",
            "{\n",
            "\"title\": \"키크론 K3 | 기계식 키보드 맥북 윈도우 <b>리눅스</b> 지원\",\n",
            "\"link\": \"https:\\/\\/blog.naver.com\\/ehdus85?Redirect=Log&logNo=222297304189\",\n",
            "\"description\": \"윈도우와 <b>리눅스</b>에서도 호환이 잘되는 것 같아 제가 생각한 요구사항에 딱 들어 맞는 것 같았어요. 키크론 K3(Keychron K3) 키보드 키크론 K3(Keychron K3) 키보드 키크론 K3 간략 특징 1. 맥북+윈도우+<b>리눅스</b> 호환 2.... \",\n",
            "\"bloggername\": \"Journey with the Son\",\n",
            "\"bloggerlink\": \"https://blog.naver.com/ehdus85\",\n",
            "\"postdate\": \"20210403\"\n",
            "\n",
            "},\n",
            "{\n",
            "\"title\": \"<b>리눅스</b>마스터2급 : 시험 목적이 취업이라면 필독!\",\n",
            "\"link\": \"https:\\/\\/blog.naver.com\\/ridesafe?Redirect=Log&logNo=222239253614\",\n",
            "\"description\": \"<b>리눅스</b>마스터2급 : 시험 목적이 취업이라면 필독! <b>리눅스</b>(Linux) 개요 ◆ Mostly Linux → 클라우드 서버의 토대 ◆ IOT(사물인터넷), 통신(5G), 드론, 스마트폰 등의 모든 산업에 기반이 되는 운영체제 ◆ IT 분야로... \",\n",
            "\"bloggername\": \"비비디 바비디 부\",\n",
            "\"bloggerlink\": \"https://blog.naver.com/ridesafe\",\n",
            "\"postdate\": \"20210212\"\n",
            "\n",
            "},\n",
            "{\n",
            "\"title\": \"[<b>리눅스</b>] VMware workstation 16 player, CentOS 7 설치\",\n",
            "\"link\": \"https:\\/\\/blog.naver.com\\/owl6615?Redirect=Log&logNo=222176239525\",\n",
            "\"description\": \"이제, 생성된 가상 머신 위에 <b>리눅스</b> 운영체제인 CentOS 7을 설치한다. 여기서 edit virtual... 패스워드는 필수적으로 설정해야 하고, 오른쪽 사용자 생성은 기초 수준으로만 <b>리눅스</b>를... \",\n",
            "\"bloggername\": \"창백한 푸른 점\",\n",
            "\"bloggerlink\": \"https://blog.naver.com/owl6615\",\n",
            "\"postdate\": \"20201217\"\n",
            "\n",
            "},\n",
            "{\n",
            "\"title\": \"<b>리눅스</b>란 무엇인가? - 자격증 및 활용 분야\",\n",
            "\"link\": \"https:\\/\\/blog.naver.com\\/urmyver?Redirect=Log&logNo=222070543998\",\n",
            "\"description\": \"<b>리눅스</b>(Linux)란? 간단 개요 <b>리눅스</b>는 컴퓨터 운영체제 (Operating System)의 종류 중 하나로 최근에 작성한 포스팅에서 클라우드 컴퓨팅에 대한 언급이 많았는데 클라우드 컴퓨팅 중 퍼블릭 클라우드라고 하는(AWS... \",\n",
            "\"bloggername\": \"주들의 그리 대단하진 않지만 굉장한 이야기\",\n",
            "\"bloggerlink\": \"https://blog.naver.com/urmyver\",\n",
            "\"postdate\": \"20200825\"\n",
            "\n",
            "},\n",
            "{\n",
            "\"title\": \"제작툴 [윈도우, 라즈베리파이, <b>리눅스</b>, UEFI 등 ISO 파일]\",\n",
            "\"link\": \"https:\\/\\/blog.naver.com\\/xgambit?Redirect=Log&logNo=222144415267\",\n",
            "\"description\": \"맥/<b>리눅스</b>용은 FAT32로 자동 설정됨 - NTFS의 경우 맥/<b>리눅스</b>에서 지원하지 않음 ※ [파티션 방식]과 [파일 시스템] 설정 - 최근 대분 시스템이 UEFI를 지원하므로 GPT 선택. 부팅 속도가 MBR... \",\n",
            "\"bloggername\": \"유쾌한 곰팡이꽃의 디자인&뮤직 라이프\",\n",
            "\"bloggerlink\": \"https://blog.naver.com/xgambit\",\n",
            "\"postdate\": \"20201114\"\n",
            "\n",
            "},\n",
            "{\n",
            "\"title\": \"<b>리눅스</b>마스터2급 솔직히 필요할까\",\n",
            "\"link\": \"https:\\/\\/blog.naver.com\\/gonbuhaja?Redirect=Log&logNo=222368820299\",\n",
            "\"description\": \"그런데 오늘은 <b>리눅스</b>마스터2급에 대한 이야기를 먼저 해보려고 합니다. 사실 사람들의 평가가 많이... <b>리눅스</b>마스터가 뭐냐면 한국정보통신진흥협회에서 운영하는 국가공인민간자격증입니다. <b>리눅스</b>에... \",\n",
            "\"bloggername\": \"교육학 읽어주는 선생님\",\n",
            "\"bloggerlink\": \"https://blog.naver.com/gonbuhaja\",\n",
            "\"postdate\": \"20210526\"\n",
            "\n",
            "}\n",
            "]\n",
            "}\n",
            "\n",
            "0 1 2 3 4 5 6 7 8 9 {\n",
            "\"lastBuildDate\": \"Mon, 31 May 2021 17:08:16 +0900\",\n",
            "\"total\": 278550,\n",
            "\"start\": 11,\n",
            "\"display\": 10,\n",
            "\"items\": [\n",
            "{\n",
            "\"title\": \"[WSL2] 윈도우에서 <b>리눅스</b> 사용하기\",\n",
            "\"link\": \"https:\\/\\/blog.naver.com\\/skyshin0304?Redirect=Log&logNo=222079393598\",\n",
            "\"description\": \"#WSL2 #WSL 내 윈도우 PC에 <b>리눅스</b>를 설치하기위한 고군분투기. 기존에는, https://blog.naver.com... 시작될 <b>리눅스</b>를 설정하는 명령어입니다. 시스템이 잘 설치되었는지 확인하기위해 윈도우... \",\n",
            "\"bloggername\": \"Walnut Factory\",\n",
            "\"bloggerlink\": \"https://blog.naver.com/skyshin0304\",\n",
            "\"postdate\": \"20200903\"\n",
            "\n",
            "},\n",
            "{\n",
            "\"title\": \"이보다 더 완벽할 수 없다! , 2021 <b>리눅스</b>마스터 1급\",\n",
            "\"link\": \"https:\\/\\/blog.naver.com\\/canal21?Redirect=Log&logNo=222372055902\",\n",
            "\"description\": \"이기적 <b>리눅스</b>마스터 1급 기본서 1 저자 김윤수, 최정현 출판 영진닷컴 발매 2021.04.15. <b>리눅스</b>는 '컴퓨터 운영 체제'의 하나로 '개인컴퓨터 위주의 오픈소스 운영체제'여서 자유로운 개발과 지속적인... \",\n",
            "\"bloggername\": \"키미스의 사색공간, 꿈과 행복을 찾아서...♡\",\n",
            "\"bloggerlink\": \"https://blog.naver.com/canal21\",\n",
            "\"postdate\": \"20210528\"\n",
            "\n",
            "},\n",
            "{\n",
            "\"title\": \"<b>리눅스</b>인강 궁금하다면\",\n",
            "\"link\": \"https:\\/\\/blog.naver.com\\/hecouple?Redirect=Log&logNo=222219035450\",\n",
            "\"description\": \"<b>리눅스</b>인강 궁금하다면 안녕하세요. 인터넷 과정을 찾으시는 분들이 공부를 한다면 대부분 파이썬... 나를 고려한 올바른 방법 선택 비 프로그래밍 과정의 가장 기초가 되는 과정이 바로 <b>리눅스</b>강의라고 볼 수... \",\n",
            "\"bloggername\": \"[토폴라]\",\n",
            "\"bloggerlink\": \"https://blog.naver.com/hecouple\",\n",
            "\"postdate\": \"20210125\"\n",
            "\n",
            "},\n",
            "{\n",
            "\"title\": \"<b>리눅스</b>(Linux)에서 AWS S3(Simple Storage Service) CLI... \",\n",
            "\"link\": \"https:\\/\\/blog.naver.com\\/didim365_?Redirect=Log&logNo=222293715248\",\n",
            "\"description\": \"이번 포스팅에서는 <b>리눅스</b>(Linux)에서 AWS S3(Simple Storage Service) CLI를 연동하는 방법에... (명령어 mv, cp, rm 적용) ex) # aws s3 mv /root s3://s3-linuxclitest/ --recursive 지금까지 <b>리눅스</b>에... \",\n",
            "\"bloggername\": \"Didim365\",\n",
            "\"bloggerlink\": \"https://blog.naver.com/didim365_\",\n",
            "\"postdate\": \"20210331\"\n",
            "\n",
            "},\n",
            "{\n",
            "\"title\": \"《<b>리눅스</b>마스터 2급》 이기적의 노하우로 합격하자!\",\n",
            "\"link\": \"https:\\/\\/blog.naver.com\\/nyjini79?Redirect=Log&logNo=222326016798\",\n",
            "\"description\": \"이기적 <b>리눅스</b>마스터 2급 기본서 저자 권소라 출판 영진닷컴 발매 2021.03.10. 이 책은 이기적 <b>리눅스</b>마스터 2급 기본서로 <b>리눅스</b>마스터 2급의 1, 2차 시험을 한 권으로 모두 준비할 수 있도록 되어 있다.... \",\n",
            "\"bloggername\": \"속고 싶은 거짓말.\",\n",
            "\"bloggerlink\": \"https://blog.naver.com/nyjini79\",\n",
            "\"postdate\": \"20210428\"\n",
            "\n",
            "},\n",
            "{\n",
            "\"title\": \"Windows10에 <b>리눅스</b> 설치하기(WSL2)\",\n",
            "\"link\": \"https:\\/\\/blog.naver.com\\/goldrushing?Redirect=Log&logNo=222175975517\",\n",
            "\"description\": \"마이크로 소프트가 <b>리눅스</b>를 사랑한다니..... 저 말을 하고 있는 사람은 마이크로소프트... 2015년부터는 WSL(Windows Subsystem for Linux, <b>리눅스</b>용 윈도우즈 하위시스템)이라고 해서 Windows10에... \",\n",
            "\"bloggername\": \"골드러쉬와 함께하는 Hello C#\",\n",
            "\"bloggerlink\": \"https://blog.naver.com/goldrushing\",\n",
            "\"postdate\": \"20201216\"\n",
            "\n",
            "},\n",
            "{\n",
            "\"title\": \"구형 노트북에 <b>리눅스</b> 설치하여  맥북 처럼 꾸미기\",\n",
            "\"link\": \"https:\\/\\/blog.naver.com\\/pareko?Redirect=Log&logNo=222177061633\",\n",
            "\"description\": \"우분투 설치했던 스톰북 11pro에 <b>리눅스</b> 민트를 설치하여 맥처럼 구성했습니다. <b>리눅스</b> 민트 다운로드 / 설치 <b>리눅스</b> 민트는 아래 링크에서 다운로드 가능합니다. <b>리눅스</b> 민트... \",\n",
            "\"bloggername\": \"순돌아범\",\n",
            "\"bloggerlink\": \"https://blog.naver.com/pareko\",\n",
            "\"postdate\": \"20201217\"\n",
            "\n",
            "},\n",
            "{\n",
            "\"title\": \"<b>리눅스</b> USB 자동마운트 해제\",\n",
            "\"link\": \"https:\\/\\/blog.naver.com\\/gnsnow?Redirect=Log&logNo=222311906193\",\n",
            "\"description\": \"머리말 <b>리눅스</b> 시스템(예제는 centos) 에서 DVD, USB를 연결하면 자동마운트가 됩니다.... 전체사용자 <b>리눅스</b> 시스템의 전체사용자에게 자동마운트를 해제하는 방법은... \",\n",
            "\"bloggername\": \"행복을 꿈꾼다\",\n",
            "\"bloggerlink\": \"https://blog.naver.com/gnsnow\",\n",
            "\"postdate\": \"20210416\"\n",
            "\n",
            "},\n",
            "{\n",
            "\"title\": \"<b>리눅스</b>마스터\",\n",
            "\"link\": \"https:\\/\\/blog.naver.com\\/health21c?Redirect=Log&logNo=222361211060\",\n",
            "\"description\": \"이기적 <b>리눅스</b>마스터 1급 기본서 1 작가 김윤수, 최정현 출판 영진닷컴 발매 2021.04.15. 평점 리뷰보기 <b>리눅스</b>마스터는 <b>리눅스</b>로 운영되는 다양한 IT 기기와 장비를 비롯해서 4차 산업혁명의 응용기반기술에... \",\n",
            "\"bloggername\": \"삶, 여유 그리고 사랑\",\n",
            "\"bloggerlink\": \"https://blog.naver.com/health21c\",\n",
            "\"postdate\": \"20210522\"\n",
            "\n",
            "},\n",
            "{\n",
            "\"title\": \"<b>리눅스</b>(Linux)란? 전공대비 및 자격증 및 취업에 대해 알아보자!\",\n",
            "\"link\": \"https:\\/\\/blog.naver.com\\/ridesafe?Redirect=Log&logNo=222098389657\",\n",
            "\"description\": \"<b>리눅스</b>(Linux)란? 전공대비 및 자격증 및 취업에 대해 알아보자! 안녕하세요! IT쉽게 알려주는... 위해서 <b>리눅스</b>를 알아보는 분들이 많이 있답니다. 특히 전공과목중에 시스템 / 운영체제는 같은말로써 <b>리눅스</b>나... \",\n",
            "\"bloggername\": \"비비디 바비디 부\",\n",
            "\"bloggerlink\": \"https://blog.naver.com/ridesafe\",\n",
            "\"postdate\": \"20200924\"\n",
            "\n",
            "}\n",
            "]\n",
            "}\n",
            "\n",
            "10 11 12 13 14 15 16 17 18 19 {\n",
            "\"lastBuildDate\": \"Mon, 31 May 2021 17:08:17 +0900\",\n",
            "\"total\": 278550,\n",
            "\"start\": 21,\n",
            "\"display\": 10,\n",
            "\"items\": [\n",
            "{\n",
            "\"title\": \"[ESP8266_<b>리눅스</b>] <b>리눅스</b>환경에서 다뤄보자 NON-OS 사용~!\",\n",
            "\"link\": \"https:\\/\\/blog.naver.com\\/newdname?Redirect=Log&logNo=222368866496\",\n",
            "\"description\": \"ESP8266을 다루기위해서는 <b>리눅스</b> 바탕의 플랫폼과 SDK라는 라이브러리 집합체, 그리고... 기본적으로 '<b>리눅스</b>' 바탕이라고하네요.^^ 윈도우 플랫폼 사용하는데^^;;; 윈도우10 에서는 WSL기능을... \",\n",
            "\"bloggername\": \"하루의재미\",\n",
            "\"bloggerlink\": \"https://blog.naver.com/newdname\",\n",
            "\"postdate\": \"20210526\"\n",
            "\n",
            "},\n",
            "{\n",
            "\"title\": \"Bandit <b>리눅스</b> 워게임 : Level 20 → Level 21\",\n",
            "\"link\": \"https:\\/\\/blog.naver.com\\/nms200299?Redirect=Log&logNo=222355732507\",\n",
            "\"description\": \"중부대 SCP 정보보안 동아리 신입 부원 <b>리눅스</b> 멘토링 과제 신입부원 노무승 문제 https://overthewire.org/wargames/bandit/bandit21.html 풀이 이전의 문제들과 비슷하게 열려있는 포트에 setuid 설정된 ./suconnect... \",\n",
            "\"bloggername\": \"2N Security\",\n",
            "\"bloggerlink\": \"https://blog.naver.com/nms200299\",\n",
            "\"postdate\": \"20210521\"\n",
            "\n",
            "},\n",
            "{\n",
            "\"title\": \"WOL 사용시 윈도우, <b>리눅스</b> 바꿔가며 부팅하기\",\n",
            "\"link\": \"https:\\/\\/blog.naver.com\\/lccandol?Redirect=Log&logNo=222363186646\",\n",
            "\"description\": \"기본적으로 윈도우 설치 후 <b>리눅스</b>를 설치하면 GRUB이 부트로더로서 설치되고 이를 통해서 윈도우나 <b>리눅스</b>로 선택해서 부팅하게 된다. 문제는 WOL을 사용할 경우에... \",\n",
            "\"bloggername\": \"kiri 의 작업실\",\n",
            "\"bloggerlink\": \"https://blog.naver.com/lccandol\",\n",
            "\"postdate\": \"20210524\"\n",
            "\n",
            "},\n",
            "{\n",
            "\"title\": \"<b>리눅스</b> Ubuntu 18.04 에서 블루투스 사용하기 (actto... \",\n",
            "\"link\": \"https:\\/\\/blog.naver.com\\/keepdmz?Redirect=Log&logNo=222354534883\",\n",
            "\"description\": \"연구실의 컴퓨터는 <b>리눅스</b> 운영체제라서 블루투스 시대인 요즘 블루투스 제품들을... 또한 동봉된 설치용 CD 드라이버는 windows에서만 쓰이는 것으로, <b>리눅스</b>에선 사용할 일이... \",\n",
            "\"bloggername\": \"따구생각\",\n",
            "\"bloggerlink\": \"https://blog.naver.com/keepdmz\",\n",
            "\"postdate\": \"20210517\"\n",
            "\n",
            "},\n",
            "{\n",
            "\"title\": \"<b>리눅스</b> 디스크 여유공간 확인 - df, du 명령어\",\n",
            "\"link\": \"https:\\/\\/blog.naver.com\\/ree31206?Redirect=Log&logNo=222362238126\",\n",
            "\"description\": \"<b>리눅스</b> 계열의 OS를 사용하다가 보면 저장공간에 대한 사용량이나 여유공간을... (현재 <b>리눅스</b>가 깔린 곳이 없어서 라즈베리파이로부터 명령어들에 대한 결과를... \",\n",
            "\"bloggername\": \"달새는 달만 생각한다\",\n",
            "\"bloggerlink\": \"https://blog.naver.com/ree31206\",\n",
            "\"postdate\": \"20210523\"\n",
            "\n",
            "},\n",
            "{\n",
            "\"title\": \"[Linux] 윈도우 <b>리눅스</b> 시작하기\",\n",
            "\"link\": \"https:\\/\\/blog.naver.com\\/1992cjm?Redirect=Log&logNo=222258103725\",\n",
            "\"description\": \"마운트하여 <b>리눅스</b>를 운용하였을 것이다. 그러나, Window 10 의 신규 정책에 따라... http://www.cyberphoton.com/linux-software-on-windows/ 윈도우에 마운트할 <b>리눅스</b>는 정말 정말... \",\n",
            "\"bloggername\": \":p\",\n",
            "\"bloggerlink\": \"https://blog.naver.com/1992cjm\",\n",
            "\"postdate\": \"20210227\"\n",
            "\n",
            "},\n",
            "{\n",
            "\"title\": \"2020년 <b>리눅스</b>시스템 기말고사 문제지\",\n",
            "\"link\": \"https:\\/\\/blog.naver.com\\/hjyang0?Redirect=Log&logNo=222307065082\",\n",
            "\"description\": \"EH344 <b>리눅스</b>시스템 기말고사 문제지 (2020. 6. 25) 1. 다음 명령의 의미는 각각 무엇인가? 단... <b>리눅스</b> 메뉴얼 volume 8 (또는 section 8) 에는 어떤 내용들이 수록되어있는가? 6. ls -l /bin/su... \",\n",
            "\"bloggername\": \"Count Your Blessing\",\n",
            "\"bloggerlink\": \"https://blog.naver.com/hjyang0\",\n",
            "\"postdate\": \"20210412\"\n",
            "\n",
            "},\n",
            "{\n",
            "\"title\": \"<b>리눅스</b> 유저는 어떤 스마트폰을 쓸까\",\n",
            "\"link\": \"http://www.bluelog.kr/%EB%A6%AC%EB%88%85%EC%8A%A4-%EC%9C%A0%EC%A0%80%EB%8A%94-%EC%96%B4%EB%96%A4-%EC%8A%A4%EB%A7%88%ED%8A%B8%ED%8F%B0%EC%9D%84-%EC%93%B8%EA%B9%8C/\",\n",
            "\"description\": \"내가 아는 <b>리눅스</b> 유저 중에 가장 유명한 사람은, 노트북은 맥북, vr머신용으론 윈도우, 데스크탑은 <b>리눅스</b>를 쓴다. 스마트폰은 아이폰 11 pro max 를 사용한다. 그가 안드로이드 스마트폰을 사용하지 않는... \",\n",
            "\"bloggername\": \"bluelog.kr\",\n",
            "\"bloggerlink\": \"http://www.bluelog.kr/\",\n",
            "\"postdate\": \"20210121\"\n",
            "\n",
            "},\n",
            "{\n",
            "\"title\": \"<b>리눅스</b> Alsa PCM DAC 소프트웨어 볼륨(softvol) 조절 기능... \",\n",
            "\"link\": \"https:\\/\\/blog.naver.com\\/chandong83?Redirect=Log&logNo=222345391033\",\n",
            "\"description\": \"<b>리눅스</b> 드라이버 개발할 때 보통은 메인 오디오 칩에 소형 DSP(혹은 컨트롤러)가 내장되어 있는 것들을 주로 사용한다. 이런 경우 볼륨 조절 및 다양한 이퀄라이저 기능을 I2C와... \",\n",
            "\"bloggername\": \"하이! 제니스\",\n",
            "\"bloggerlink\": \"https://blog.naver.com/chandong83\",\n",
            "\"postdate\": \"20210510\"\n",
            "\n",
            "},\n",
            "{\n",
            "\"title\": \"[파이썬, C언어, <b>리눅스</b>, 윈도우] 고귀한 결과...\",\n",
            "\"link\": \"https:\\/\\/blog.naver.com\\/madrabbit7?Redirect=Log&logNo=222246020975\",\n",
            "\"description\": \"대표적인 게 비주얼 스튜디오에서 DLL 파일을 만드는 방식이, 예전에 <b>리눅스</b>에서 gcc로 동적... 하도 성질나서, <b>리눅스</b>를 놀고 있는 노트북에 오늘 깔아보았다. 레드햇 계열인 페도라 최신버전... 우분투... \",\n",
            "\"bloggername\": \"미친 토끼의 가출일기\",\n",
            "\"bloggerlink\": \"https://blog.naver.com/madrabbit7\",\n",
            "\"postdate\": \"20210216\"\n",
            "\n",
            "}\n",
            "]\n",
            "}\n",
            "\n",
            "20 21 22 23 24 25 26 27 28 29 {\n",
            "\"lastBuildDate\": \"Mon, 31 May 2021 17:08:18 +0900\",\n",
            "\"total\": 278550,\n",
            "\"start\": 31,\n",
            "\"display\": 10,\n",
            "\"items\": [\n",
            "{\n",
            "\"title\": \"Cent OS <b>리눅스</b>에서  구글 크롬 브라우저 설치\",\n",
            "\"link\": \"https:\\/\\/blog.naver.com\\/gnsnow?Redirect=Log&logNo=222307424338\",\n",
            "\"description\": \"<b>리눅스</b>에서 인터넷 기본브라우져는 파이어폭스 (firefox)이다. 파폭도 속도가빠른 좋은... 아마 맨처음 <b>리눅스</b>가 들어왔더라면 어땠을까? 싶긴하다. 하긴 예전 네스케이프라는 걸출한 브라우져가... \",\n",
            "\"bloggername\": \"행복을 꿈꾼다\",\n",
            "\"bloggerlink\": \"https://blog.naver.com/gnsnow\",\n",
            "\"postdate\": \"20210412\"\n",
            "\n",
            "},\n",
            "{\n",
            "\"title\": \"[<b>리눅스</b> 명령어 / CentOS] <b>리눅스</b> 운영 체제 및 버전 확인하기\",\n",
            "\"link\": \"https:\\/\\/blog.naver.com\\/anysecure3?Redirect=Log&logNo=222358732241\",\n",
            "\"description\": \"이번에는 <b>리눅스</b> 운영 체제 및 버전 확인하는 방법에 대해 알려 드리도록 하겠습니다.... <b>리눅스</b>는 자유롭게 재배포 가능한 유닉스와 호환되는 OS라는 목표로 만들어졌습니다.... \",\n",
            "\"bloggername\": \"닷홈 블로그\",\n",
            "\"bloggerlink\": \"https://blog.naver.com/anysecure3\",\n",
            "\"postdate\": \"20210526\"\n",
            "\n",
            "},\n",
            "{\n",
            "\"title\": \"MX <b>리눅스</b>의 변종 - AV Linux MX Edition(AVL-MXE)\",\n",
            "\"link\": \"https:\\/\\/blog.naver.com\\/f5138?Redirect=Log&logNo=222172728208\",\n",
            "\"description\": \"MX <b>리눅스</b>의 변종이라고 할 수도 있겠고 AV <b>리눅스</b>의 MX 버전이라고 할 수도 있겠다. AV <b>리눅스</b>는 멀티미디어 그 중에서도 음악에 최적화된 셋팅을 가지고 있는 OS이다. 엄청난 퀄리티를 가지고 있지만... \",\n",
            "\"bloggername\": \"꿈휴의 하늘여행\",\n",
            "\"bloggerlink\": \"https://blog.naver.com/f5138\",\n",
            "\"postdate\": \"20201214\"\n",
            "\n",
            "},\n",
            "{\n",
            "\"title\": \"(아마존 <b>리눅스</b>2)를 지원하는 이스캔 <b>리눅스</b> 백신의... \",\n",
            "\"link\": \"https:\\/\\/blog.naver.com\\/escankorea?Redirect=Log&logNo=222345257083\",\n",
            "\"description\": \"2018년 11월에 아마존 <b>리눅스</b>에 대한 이스캔 설치 &amp; 운영 테스트를 진행한 적이 있습니다. https://blog.naver.com/escankorea/221404600416 &amp; 3년 정도 지난 지금, 최신 아마존 <b>리눅스</b>2에서 실시간... \",\n",
            "\"bloggername\": \"escankorea님의블로그\",\n",
            "\"bloggerlink\": \"https://blog.naver.com/escankorea\",\n",
            "\"postdate\": \"20210510\"\n",
            "\n",
            "},\n",
            "{\n",
            "\"title\": \"무료 <b>리눅스</b>, CentOS 지원종료! 그래서 우리는 어떻게 해야... \",\n",
            "\"link\": \"https:\\/\\/blog.naver.com\\/yaki80?Redirect=Log&logNo=222308490674\",\n",
            "\"description\": \"무료 <b>리눅스</b>OS인 CentOS가 2021년 말부터 지원이 중단됩니다. 무료로 사용할 수 있는 서버OS이기... 무료 <b>리눅스</b>, CentOS 지원종료! 그래서 우리는 어떻게 해야 하는데? 애초에 <b>리눅스</b>란 무엇입니까? UNIX를... \",\n",
            "\"bloggername\": \"일상, 가끔씩 오덕질\",\n",
            "\"bloggerlink\": \"https://blog.naver.com/yaki80\",\n",
            "\"postdate\": \"20210513\"\n",
            "\n",
            "},\n",
            "{\n",
            "\"title\": \"<b>리눅스</b> 서버PC 데이터베이스 데이터복구 성공\",\n",
            "\"link\": \"https:\\/\\/blog.naver.com\\/kmj134?Redirect=Log&logNo=222117358565\",\n",
            "\"description\": \"<b>리눅스</b> 서버PC 데이터베이스 데이터복구 성공 회사에서 고객 관리 서버로 사용하는 PC인데요 어제까지 잘 썼는데 아침에 갑자기 전원을 켜니 <b>리눅스</b> 환경인데 부팅이 되지 않아서 DB 자료가 없으면... \",\n",
            "\"bloggername\": \"용산데이터복구샵\",\n",
            "\"bloggerlink\": \"https://blog.naver.com/kmj134\",\n",
            "\"postdate\": \"20201016\"\n",
            "\n",
            "},\n",
            "{\n",
            "\"title\": \"Canon G2960 구매, 개봉기, <b>리눅스</b> 사용 가능 여부\",\n",
            "\"link\": \"https:\\/\\/blog.naver.com\\/dosuser?Redirect=Log&logNo=222241174755\",\n",
            "\"description\": \"2.<b>리눅스</b>지원 2.1 캐논 드라이버 지원 개발자에게 가장 중요한 <b>리눅스</b> 지원. 우선 rpm, deb, source 설치를 지원한다. linux mint 그리고 x86 docker 에서 정상적으로 잘 동작한다. 다만 A4용지 맨... \",\n",
            "\"bloggername\": \"로모, 연필\",\n",
            "\"bloggerlink\": \"https://blog.naver.com/dosuser\",\n",
            "\"postdate\": \"20210212\"\n",
            "\n",
            "},\n",
            "{\n",
            "\"title\": \"윈도우와 <b>리눅스</b> 시스템간 파일 전송 - WinSCP\",\n",
            "\"link\": \"https:\\/\\/blog.naver.com\\/ree31206?Redirect=Log&logNo=222362174030\",\n",
            "\"description\": \"우리는 <b>리눅스</b> 기반의 장치나 장비를 이용하다 보면 Winodws 기반의 PC와 <b>리눅스</b>, 임베디드 <b>리눅스</b> 장치 간에 파일 전송에 난감함을 느끼게 됩니다. 이럴때 보통 생각하는 방법은 FTP 지만 FTP 의... \",\n",
            "\"bloggername\": \"달새는 달만 생각한다\",\n",
            "\"bloggerlink\": \"https://blog.naver.com/ree31206\",\n",
            "\"postdate\": \"20210523\"\n",
            "\n",
            "},\n",
            "{\n",
            "\"title\": \"git (깃) <b>리눅스</b> 명령어\",\n",
            "\"link\": \"https:\\/\\/blog.naver.com\\/iamsohappy82?Redirect=Log&logNo=222181532719\",\n",
            "\"description\": \"오늘은 git사용에 앞서 <b>리눅스</b> 명령어 사용에대해 공부해보았다. <b>리눅스</b> 명령어는 전공 수업 시간에 배웠던거라 그렇게 어렵진 않았다. 첨엔 차근히 하나하나 따라해봤고, 두번째 해볼땐 안보고... \",\n",
            "\"bloggername\": \"HAKUNA MATATA\",\n",
            "\"bloggerlink\": \"https://blog.naver.com/iamsohappy82\",\n",
            "\"postdate\": \"20201222\"\n",
            "\n",
            "},\n",
            "{\n",
            "\"title\": \"<b>리눅스</b> 기반 블록체인 확장 프로젝트 '카르테시(CTSI)' 토큰... \",\n",
            "\"link\": \"https:\\/\\/blog.naver.com\\/tearhunter?Redirect=Log&logNo=222340041907\",\n",
            "\"description\": \"블록체인의 분산화를 손상시키지 않고 블록체인 외부 <b>리눅스</b>(Linux) 환경에서 복잡하고 강도 높은 연산작업이 가능하도록 하는 것을 목표로 만들어졌다. 카르테시는 디앱(DApp)을 훨씬 강력하고... \",\n",
            "\"bloggername\": \"웹진 [Coin Choice]\",\n",
            "\"bloggerlink\": \"https://blog.naver.com/tearhunter\",\n",
            "\"postdate\": \"20210506\"\n",
            "\n",
            "}\n",
            "]\n",
            "}\n",
            "\n",
            "30 31 32 33 34 35 36 37 38 39 {\n",
            "\"lastBuildDate\": \"Mon, 31 May 2021 17:08:19 +0900\",\n",
            "\"total\": 278550,\n",
            "\"start\": 41,\n",
            "\"display\": 10,\n",
            "\"items\": [\n",
            "{\n",
            "\"title\": \"Corellium, 애플 M1 Mac에 <b>리눅스</b> 베포판 Ubuntu 포팅\",\n",
            "\"link\": \"https:\\/\\/blog.naver.com\\/online4?Redirect=Log&logNo=222214834983\",\n",
            "\"description\": \"이번에 Corellium 팀은 Ubuntu의 수정된 버전을 사용하여 <b>리눅스</b>를 M1 Mac에 포팅했습니다. 새로운 Mac의 이전에 나왔던 <b>리눅스</b> 포트에서 지원되지 않았던 USB, I2C 및 DART 외에도 전체 사용자... \",\n",
            "\"bloggername\": \"toDay is my last Day\",\n",
            "\"bloggerlink\": \"https://blog.naver.com/online4\",\n",
            "\"postdate\": \"20210121\"\n",
            "\n",
            "},\n",
            "{\n",
            "\"title\": \"<b>리눅스</b>마스터\",\n",
            "\"link\": \"https:\\/\\/blog.naver.com\\/albatross_01?Redirect=Log&logNo=222341145914\",\n",
            "\"description\": \"자격명 : <b>리눅스</b>마스터 자격구분 : 공인민간자격(과학기술정보통신부 제2018-10호) 관련부처... ▣ 개요 <b>리눅스</b>로 운영되는 전세계 80%이상의 스마트폰, 70%이상의 클라우드 서버, 세계 상위의 500대... \",\n",
            "\"bloggername\": \"알바트로스 학습전략 연구소\",\n",
            "\"bloggerlink\": \"https://blog.naver.com/albatross_01\",\n",
            "\"postdate\": \"20210514\"\n",
            "\n",
            "},\n",
            "{\n",
            "\"title\": \"<b>리눅스</b> 터미널  커맨드라인 명령어 이동/삭제 단축키\",\n",
            "\"link\": \"https:\\/\\/blog.naver.com\\/gnsnow?Redirect=Log&logNo=222308208517\",\n",
            "\"description\": \"<b>리눅스</b>가 그놈데스탑과같은 gui환경을 제공한다고해도 아직까지 상당부분을 명령어를 입력해서 처리한다. 답답함도 있지만. 또 사실 이것만큼 정확하고, 직관적인것도 없다. 물론 오타가... \",\n",
            "\"bloggername\": \"행복을 꿈꾼다\",\n",
            "\"bloggerlink\": \"https://blog.naver.com/gnsnow\",\n",
            "\"postdate\": \"20210413\"\n",
            "\n",
            "},\n",
            "{\n",
            "\"title\": \"대체) - GIMP(김프) macOS(맥북), windows, <b>리눅스</b>에서 사용가능\",\n",
            "\"link\": \"https:\\/\\/blog.naver.com\\/liveforu?Redirect=Log&logNo=222215785656\",\n",
            "\"description\": \"지원하는 운영체제 - 윈도우, 맥OS, <b>리눅스</b>, 유닉스.... 김프는 오픈소스프로젝트라서 프로그램설치... 아랫쪽에보면, <b>리눅스</b>,맥OS(OS X), 윈도우가 나와있어요. 제가 알고있는 범위에서는 개인사용자분들이 제일... \",\n",
            "\"bloggername\": \"수길쌤의 IT\",\n",
            "\"bloggerlink\": \"https://blog.naver.com/liveforu\",\n",
            "\"postdate\": \"20210122\"\n",
            "\n",
            "},\n",
            "{\n",
            "\"title\": \"<b>리눅스</b> 명령어 find\",\n",
            "\"link\": \"https:\\/\\/blog.naver.com\\/kke0529?Redirect=Log&logNo=222357119540\",\n",
            "\"description\": \"<b>리눅스</b>를 사용하다가 자주 깜박하곤 하는 find 명령어에 대해 설명합니다. 1. 기능 원하는 특정 파일을 디렉토리를 탐색하여 찾는다. find는 매우 강력한 도구로 지정된 조건에... \",\n",
            "\"bloggername\": \"곰팡이안녕\",\n",
            "\"bloggerlink\": \"https://blog.naver.com/kke0529\",\n",
            "\"postdate\": \"20210519\"\n",
            "\n",
            "},\n",
            "{\n",
            "\"title\": \"MX Linux(요즘 가장 HOT한 대중적 <b>리눅스</b> OS)\",\n",
            "\"link\": \"https:\\/\\/blog.naver.com\\/f5138?Redirect=Log&logNo=222169305643\",\n",
            "\"description\": \"MX<b>리눅스</b>는 데비안 계열이면서 Ubuntu 계열은 아닌 대중적 OS이다. (모르는 말이 나오면 그냥 읽으면... 덧) <b>리눅스</b>는 자유롭게 소스들을 공유하며 발전해가고 있기 때문에 그 계통이나 세부유형이 샐 수도... \",\n",
            "\"bloggername\": \"꿈휴의 하늘여행\",\n",
            "\"bloggerlink\": \"https://blog.naver.com/f5138\",\n",
            "\"postdate\": \"20201210\"\n",
            "\n",
            "},\n",
            "{\n",
            "\"title\": \"Visual Studio 2019로 <b>리눅스</b>-우분투 (Raspberry 3 B) GTK... \",\n",
            "\"link\": \"https:\\/\\/blog.naver.com\\/jackslack?Redirect=Log&logNo=222339517136\",\n",
            "\"description\": \"2019로 <b>리눅스</b>용 GTK 애플리케이션 작성하여 빌드한다. (비주얼 스튜디오에... ☆ <b>리눅스</b>(타겟) 준비사항 1. 우선 SSH가 접속 가능하게 만든다 sudo apt-get install... \",\n",
            "\"bloggername\": \"JACKSLACK 의 블로그\",\n",
            "\"bloggerlink\": \"https://blog.naver.com/jackslack\",\n",
            "\"postdate\": \"20210506\"\n",
            "\n",
            "},\n",
            "{\n",
            "\"title\": \"<b>리눅스</b>에 마리아DB 세팅.... 그 눈물나는 후기\",\n",
            "\"link\": \"https:\\/\\/blog.naver.com\\/biud436?Redirect=Log&logNo=222172339976\",\n",
            "\"description\": \"어제는 <b>리눅스</b> 우분투에 웹 서버 환경을 구축해봤다. 한글이 나오지 않아서 UTF-8로 변경해주는 작업도... 방화벽 관련 명령어도 <b>리눅스</b> 종류에 따라 쓸 수 있는 게 달랐는데. 필자는 지금까지 <b>리눅스</b>는 다... \",\n",
            "\"bloggername\": \"러닝은빛의 작업실\",\n",
            "\"bloggerlink\": \"https://blog.naver.com/biud436\",\n",
            "\"postdate\": \"20201213\"\n",
            "\n",
            "},\n",
            "{\n",
            "\"title\": \"<b>리눅스</b> 마스터 :: 자격증 공부 방법 with 수원 <b>리눅스</b> 학원\",\n",
            "\"link\": \"https:\\/\\/blog.naver.com\\/gpwl4444?Redirect=Log&logNo=222254925442\",\n",
            "\"description\": \"오늘은 IT 분야 가운데 <b>리눅스</b>에 대해서 포스팅하도록 하겠습니다. 여기저기 찾아보시지 않도록 알차게 정리할 테니, 꼭 도움이 되시길 바랍니다♡ <b>리눅스</b>란? 컴퓨터 운영체제 중 하나. 오픈 소스이고... \",\n",
            "\"bloggername\": \"항상맑음\",\n",
            "\"bloggerlink\": \"https://blog.naver.com/gpwl4444\",\n",
            "\"postdate\": \"20210224\"\n",
            "\n",
            "},\n",
            "{\n",
            "\"title\": \"Canon MG3090 샀다. <b>리눅스</b>,아이폰,안드로이드 인쇄됨, 연동법\",\n",
            "\"link\": \"https:\\/\\/blog.naver.com\\/dosuser?Redirect=Log&logNo=222141950074\",\n",
            "\"description\": \"wifi 로 <b>리눅스</b>, 시놀로지, 아이폰, 안드로이드에서 출력 가능함 #mg3090, #canon, #캐논3090 #캐논프린터... mg3090을 cups 에서 설정한 예제 <b>리눅스</b> 1. mint linux 기준으로 직연결시 프린팅 안된다. 작업... \",\n",
            "\"bloggername\": \"로모, 연필\",\n",
            "\"bloggerlink\": \"https://blog.naver.com/dosuser\",\n",
            "\"postdate\": \"20201112\"\n",
            "\n",
            "}\n",
            "]\n",
            "}\n",
            "\n",
            "40 41 42 43 44 45 46 47 48 49 {\n",
            "\"lastBuildDate\": \"Mon, 31 May 2021 17:08:20 +0900\",\n",
            "\"total\": 278550,\n",
            "\"start\": 51,\n",
            "\"display\": 10,\n",
            "\"items\": [\n",
            "{\n",
            "\"title\": \"MariaDB 서버의 윈도우와 <b>리눅스</b>의 thread pool 차이점\",\n",
            "\"link\": \"https:\\/\\/blog.naver.com\\/websearch?Redirect=Log&logNo=222277131602\",\n",
            "\"description\": \"이로 인해 <b>리눅스</b>와 윈도우 버전 사이에 두 가지 다른 점이 발생한다. 윈도우의 MariaDB 는 변수... 이 변수는 <b>리눅스</b>에서는 제공되지 않는다. <b>리눅스</b> 버전의 MariaDB 는 자기 자신만의 변수 thread_pool_size 를... \",\n",
            "\"bloggername\": \"파워 프로그래머\",\n",
            "\"bloggerlink\": \"https://blog.naver.com/websearch\",\n",
            "\"postdate\": \"20210316\"\n",
            "\n",
            "},\n",
            "{\n",
            "\"title\": \"<b>리눅스</b>에서 현재 열려 있는 포트를 확인하는 방법\",\n",
            "\"link\": \"https:\\/\\/blog.naver.com\\/lsj7610?Redirect=Log&logNo=222369764549\",\n",
            "\"description\": \"<b>리눅스</b>에서 현재 열려 있는 포트를 확인하는 방법 열려 있는 모든 포트를 표시하기... iptables는 <b>리눅스</b> 방화벽을 설정하는 명령어이다. 특정 포트를 외부에서 접속할 수 있도록... \",\n",
            "\"bloggername\": \"오늘 하루도....최선을 ^^\",\n",
            "\"bloggerlink\": \"https://blog.naver.com/lsj7610\",\n",
            "\"postdate\": \"20210527\"\n",
            "\n",
            "},\n",
            "{\n",
            "\"title\": \"<b>리눅스</b> systemctl 명령어 사용법\",\n",
            "\"link\": \"https:\\/\\/blog.naver.com\\/poem1979?Redirect=Log&logNo=222182671547\",\n",
            "\"description\": \"<b>리눅스</b> CentOS에서 systemctl 명령어 사용법을 알아보겠습니다. 특정 서비스의 시작, 종료... systemctl restart tomcat* 와 같은 방식으로~ 간단한 <b>리눅스</b> 명령어 잘 사용해보세요~\",\n",
            "\"bloggername\": \"CRITICAL POINT\",\n",
            "\"bloggerlink\": \"https://blog.naver.com/poem1979\",\n",
            "\"postdate\": \"20201223\"\n",
            "\n",
            "},\n",
            "{\n",
            "\"title\": \"<b>리눅스</b> in 저사양 올인원 PC\",\n",
            "\"link\": \"https:\\/\\/blog.naver.com\\/hunimal?Redirect=Log&logNo=222169799069\",\n",
            "\"description\": \"적절한 <b>리눅스</b>를 깔아서 사용해도 업무에 지장이 없었습니다. 우연히 LG전자 일체형 피시를 저렴하게 구입했습니다. OS가 미포함이며, 저사양인지라 저렴한 가격에 훅 갔습니다. 그리고 <b>리눅스</b>를... \",\n",
            "\"bloggername\": \"GRAVEL-RO\",\n",
            "\"bloggerlink\": \"https://blog.naver.com/hunimal\",\n",
            "\"postdate\": \"20201211\"\n",
            "\n",
            "},\n",
            "{\n",
            "\"title\": \"<b>리눅스</b> 명령어 기초 강의 30강 모음 :: <b>리눅스</b> 마스터 1급 2급... \",\n",
            "\"link\": \"https:\\/\\/blog.naver.com\\/ahalinux?Redirect=Log&logNo=222300256799\",\n",
            "\"description\": \"<b>리눅스</b>(Linux) 기초 강좌 30강 모음입니다. 설치부터 기초 명령어 50개까지 동영상으로... 정보보안기사, <b>리눅스</b> 마스터 1급, <b>리눅스</b> 마스터 2급 등의 자격증을 준비하는 분들께... \",\n",
            "\"bloggername\": \"양주종의 코딩스쿨\",\n",
            "\"bloggerlink\": \"https://blog.naver.com/ahalinux\",\n",
            "\"postdate\": \"20210406\"\n",
            "\n",
            "},\n",
            "{\n",
            "\"title\": \"fwbackups로 <b>리눅스</b> 백업 하기\",\n",
            "\"link\": \"https:\\/\\/blog.naver.com\\/gnsnow?Redirect=Log&logNo=222308246875\",\n",
            "\"description\": \"<b>리눅스</b>에서 fwbackup 설치 fwbackups 는 대부분의 Linux 배포 저장소에 포함되어 있지 않으므로 아래에 설명 된대로 소스 tarball을 사용하여 fwbackups 를 설치하는 유일한 방법 입니다. centOS... \",\n",
            "\"bloggername\": \"행복을 꿈꾼다\",\n",
            "\"bloggerlink\": \"https://blog.naver.com/gnsnow\",\n",
            "\"postdate\": \"20210413\"\n",
            "\n",
            "},\n",
            "{\n",
            "\"title\": \"<b>리눅스</b> 시스템을 위한 30 가지 최고의 게임 에뮬레이터 콘솔\",\n",
            "\"link\": \"https:\\/\\/blog.naver.com\\/zzamstop?Redirect=Log&logNo=222362433710\",\n",
            "\"description\": \"여러분과 같은 사람들이 많이 있으며, 개발자는 일상적인 <b>리눅스</b> 사용자가 어린 시절의 향수를... 게임 에뮬레이터 콘솔에 대해 이야기 할 때 <b>리눅스</b>와 같은 최신 시스템에서 기존 게임 콘솔의... \",\n",
            "\"bloggername\": \"접싯물 저장고\",\n",
            "\"bloggerlink\": \"https://blog.naver.com/zzamstop\",\n",
            "\"postdate\": \"20210523\"\n",
            "\n",
            "},\n",
            "{\n",
            "\"title\": \"&quot;<b>리눅스</b> 민트(Mint) OS&quot;와 한국형 <b>리눅스</b> 민트 &quot;하모니카... \",\n",
            "\"link\": \"https:\\/\\/blog.naver.com\\/f5138?Redirect=Log&logNo=222194273682\",\n",
            "\"description\": \"한국형 <b>리눅스</b> 민트 &quot;하모니카(HamoniKR) OS&quot; 내가 현역으로 돌리고 있는 머신 중에는 중상급 정도에... 그러니 이해하시길..) <b>리눅스</b> 민트는 버전에 따라 우분투 혹은 데비안에 기반한 OS로 한국의 <b>리눅스</b>... \",\n",
            "\"bloggername\": \"꿈휴의 하늘여행\",\n",
            "\"bloggerlink\": \"https://blog.naver.com/f5138\",\n",
            "\"postdate\": \"20210103\"\n",
            "\n",
            "},\n",
            "{\n",
            "\"title\": \"할리 한 &lt;유닉스와 <b>리눅스</b>&gt;\",\n",
            "\"link\": \"https:\\/\\/blog.naver.com\\/hanmydog?Redirect=Log&logNo=222213378041\",\n",
            "\"description\": \"라스베가스에 머물면서 &quot;신숍&quot;에 다니며 이것 저것 만들던 때도 있었고 거기서 &quot;<b>리눅스</b>&quot;를 써보라고 권유받아 우분투 <b>리눅스</b>를 노트북에 깔고 <b>리눅스</b> 사용법을 배우기도 하고.. 지금은 경북 영천에... \",\n",
            "\"bloggername\": \"라즈파이 영웅전\",\n",
            "\"bloggerlink\": \"https://blog.naver.com/hanmydog\",\n",
            "\"postdate\": \"20210120\"\n",
            "\n",
            "},\n",
            "{\n",
            "\"title\": \"CentOS 2021년을 끝으로 단종. 대체 <b>리눅스</b> 배포판은?\",\n",
            "\"link\": \"https:\\/\\/blog.naver.com\\/poem1979?Redirect=Log&logNo=222318834827\",\n",
            "\"description\": \"서버를 운영하기 위해 처음 선택한 CentOS <b>리눅스</b>를 써본 적 없는 나에게 지난 몇 년간... CentOS8 stream을 사용하거나 RHEL을 유료로 쓰거나 다른 <b>리눅스</b> 배포판으로 가야한다. 물론 그대로 쓸... \",\n",
            "\"bloggername\": \"CRITICAL POINT\",\n",
            "\"bloggerlink\": \"https://blog.naver.com/poem1979\",\n",
            "\"postdate\": \"20210422\"\n",
            "\n",
            "}\n",
            "]\n",
            "}\n",
            "\n",
            "50 51 52 53 54 55 56 57 58 59 {\n",
            "\"lastBuildDate\": \"Mon, 31 May 2021 17:08:21 +0900\",\n",
            "\"total\": 278550,\n",
            "\"start\": 61,\n",
            "\"display\": 10,\n",
            "\"items\": [\n",
            "{\n",
            "\"title\": \"<b>리눅스</b> centos 디스크 복사 dd (부트섹터도  복사)\",\n",
            "\"link\": \"https:\\/\\/blog.naver.com\\/gnsnow?Redirect=Log&logNo=222310818751\",\n",
            "\"description\": \"<b>리눅스</b> 시스템을 복사하는 방법은 유틸리티를 통한방법도 있지만 <b>리눅스</b> 부팅상테에서 USB로 dump를 떠서 백업을 할수있으며 명령어는 cat , dd 를... \",\n",
            "\"bloggername\": \"행복을 꿈꾼다\",\n",
            "\"bloggerlink\": \"https://blog.naver.com/gnsnow\",\n",
            "\"postdate\": \"20210415\"\n",
            "\n",
            "},\n",
            "{\n",
            "\"title\": \"<b>리눅스</b> SATA SSD에서 NVME SSD로 복사후 부팅되지 않을때 조치\",\n",
            "\"link\": \"https:\\/\\/blog.naver.com\\/gnsnow?Redirect=Log&logNo=222174320939\",\n",
            "\"description\": \"<b>리눅스</b> 백업 <b>리눅스</b> (centons 7)에서 다이나믹한 테스트(학습)를 위해서거나, 아니면 이런저런 프로그램을 설치하다가 오류가 날경우를 대비한 복구를 위해서라도 백업할 필요가 있다. <b>리눅스</b> 백업... \",\n",
            "\"bloggername\": \"행복을 꿈꾼다\",\n",
            "\"bloggerlink\": \"https://blog.naver.com/gnsnow\",\n",
            "\"postdate\": \"20201215\"\n",
            "\n",
            "},\n",
            "{\n",
            "\"title\": \"<b>리눅스</b> 명령어 모음\",\n",
            "\"link\": \"https:\\/\\/blog.naver.com\\/sunmoon113?Redirect=Log&logNo=222134055578\",\n",
            "\"description\": \"어제 <b>리눅스</b> 과제를 하면서 많이 사용했던 명령어들을 까먹지 않게 적어보려 한다. ls : 현재... 이는 <b>리눅스</b> 전체에 해당하는 내용! rm : 파일을 삭제할 때 쓰는 명령어 사용 예) rm 삭제할 파일... \",\n",
            "\"bloggername\": \"세잎이네 아롱이와 초롱이\",\n",
            "\"bloggerlink\": \"https://blog.naver.com/sunmoon113\",\n",
            "\"postdate\": \"20201103\"\n",
            "\n",
            "},\n",
            "{\n",
            "\"title\": \"우분투 <b>리눅스</b> 최신버전 설치 방법, 삭제 방법 정리. 따라해도... \",\n",
            "\"link\": \"https:\\/\\/blog.naver.com\\/jimnong?Redirect=Log&logNo=222363187847\",\n",
            "\"description\": \"우분투 <b>리눅스</b>는 18.04 LTS 버전부터 다국어 지원이 좋아지기 시작해서, 우분투 20.04부터는... 그래서 우분투 최신 버전도 무리 없이 따라할 수 있는 우분투 <b>리눅스</b> 설치 방법을 글로 정리해 두었습니다. GRUB2... \",\n",
            "\"bloggername\": \"알짜정보\",\n",
            "\"bloggerlink\": \"https://blog.naver.com/jimnong\",\n",
            "\"postdate\": \"20210524\"\n",
            "\n",
            "},\n",
            "{\n",
            "\"title\": \"Rocky Linux 록키<b>리눅스</b> 릴리스(release) 공개\",\n",
            "\"link\": \"https:\\/\\/blog.naver.com\\/poem1979?Redirect=Log&logNo=222332554042\",\n",
            "\"description\": \"드디어 록키<b>리눅스</b> 릴리스가 공개되었네요. 4월 30일에 나온다더니 약속을 지킨 것인가!! 다만, 이번에 공개한 것은 릴리스 후보랍니다. 실제 운영에서는 사용하지 말라는 경고를 남겼습니다.... \",\n",
            "\"bloggername\": \"CRITICAL POINT\",\n",
            "\"bloggerlink\": \"https://blog.naver.com/poem1979\",\n",
            "\"postdate\": \"20210502\"\n",
            "\n",
            "},\n",
            "{\n",
            "\"title\": \"<b>리눅스</b> Centos 7 tigerVNC 원격 접속 설치\",\n",
            "\"link\": \"https:\\/\\/blog.naver.com\\/gnsnow?Redirect=Log&logNo=222307415913\",\n",
            "\"description\": \"윈도우에는 터미널서비스, 팀뷰, radmin 등 이 있고, <b>리눅스</b>에서는 고전적인 ssh로... xxx:5902 타이핑 후 Connect 버튼 클릭 이렇게 윈도우pc에서도 <b>리눅스</b>를 편하게 접속할수있다.... \",\n",
            "\"bloggername\": \"행복을 꿈꾼다\",\n",
            "\"bloggerlink\": \"https://blog.naver.com/gnsnow\",\n",
            "\"postdate\": \"20210412\"\n",
            "\n",
            "},\n",
            "{\n",
            "\"title\": \"<b>리눅스</b>서버에서 tar로 파일 옮기기\",\n",
            "\"link\": \"https:\\/\\/blog.naver.com\\/webpioneer?Redirect=Log&logNo=222351925050\",\n",
            "\"description\": \"elec서버의 여러폴더를 하나로 묶어서 다른 <b>리눅스</b>(testwas)서버로 파일이전하려고 합니다. 폴더가 있는위치로 이동한 후 폴더 7개를 was.tar로 묶습니다. [root@elec... \",\n",
            "\"bloggername\": \"나전노:) 나으전산관리노하우\",\n",
            "\"bloggerlink\": \"https://blog.naver.com/webpioneer\",\n",
            "\"postdate\": \"20210515\"\n",
            "\n",
            "},\n",
            "{\n",
            "\"title\": \"<b>리눅스</b> timeshift를 이용한 시스템 이전\",\n",
            "\"link\": \"https:\\/\\/blog.naver.com\\/gnsnow?Redirect=Log&logNo=222309900157\",\n",
            "\"description\": \"timeshift가 로컬하드데이터의 경우 복구를 할수가 있지만 <b>리눅스</b> 시스템을... g. -n vfat,ext3) <b>리눅스</b> 시스템의 백업, 복원, 복사에 대해서 알아봤습니다. 감사합니다.\",\n",
            "\"bloggername\": \"행복을 꿈꾼다\",\n",
            "\"bloggerlink\": \"https://blog.naver.com/gnsnow\",\n",
            "\"postdate\": \"20210414\"\n",
            "\n",
            "},\n",
            "{\n",
            "\"title\": \"우분투(<b>리눅스</b>) 서버 접속 및 관리를 위해 필요한 PuTTY... \",\n",
            "\"link\": \"https:\\/\\/blog.naver.com\\/sukho93?Redirect=Log&logNo=222321975341\",\n",
            "\"description\": \"■ 우분투(<b>리눅스</b>) 서버 접속 및 관리를 위해 필요한 PuTTY, WinSCP, Xming 프로그램 □ 우분투(<b>리눅스</b>) 서버 접속 및 관리를 위해 필요한 PuTTY, WinSCP, Xming 프로그램 우분투(<b>리눅스</b>) 서버를 원격으로... \",\n",
            "\"bloggername\": \"호랑이 굴\",\n",
            "\"bloggerlink\": \"https://blog.naver.com/sukho93\",\n",
            "\"postdate\": \"20210425\"\n",
            "\n",
            "},\n",
            "{\n",
            "\"title\": \"<b>리눅스</b>와 윈도우 간 렌더링 파이프라인 문제\",\n",
            "\"link\": \"https:\\/\\/blog.naver.com\\/ounols?Redirect=Log&logNo=222310441400\",\n",
            "\"description\": \"언제부턴가 <b>리눅스</b>에서 렌더링 화면이 안보였습니다....세상에.... 처음엔 뭐 C++ 표준 안지켜서 어떤 코드가 생략되거나 이상하게 돌아간다고 쳤는데... 로직은 멀쩡하게 돌아가더군요 그럼 OpenGL의 문제인가?... \",\n",
            "\"bloggername\": \":: Ounol's Snack ::\",\n",
            "\"bloggerlink\": \"https://blog.naver.com/ounols\",\n",
            "\"postdate\": \"20210415\"\n",
            "\n",
            "}\n",
            "]\n",
            "}\n",
            "\n",
            "60 61 62 63 64 65 66 67 68 69 {\n",
            "\"lastBuildDate\": \"Mon, 31 May 2021 17:08:22 +0900\",\n",
            "\"total\": 278550,\n",
            "\"start\": 71,\n",
            "\"display\": 10,\n",
            "\"items\": [\n",
            "{\n",
            "\"title\": \"<b>리눅스</b> pthread\",\n",
            "\"link\": \"https:\\/\\/blog.naver.com\\/ytlee64?Redirect=Log&logNo=222358388561\",\n",
            "\"description\": \"pthread는 <b>리눅스</b>에서 쓰레드를 관리하는 라이브러리입니다. 다음예제는... The End: 태그 #쓰레드 #<b>리눅스</b> #태스크 #pthread #pthread_create #pthread_join\",\n",
            "\"bloggername\": \"점진적인 반복 (Incremental Iteration)\",\n",
            "\"bloggerlink\": \"https://blog.naver.com/ytlee64\",\n",
            "\"postdate\": \"20210520\"\n",
            "\n",
            "},\n",
            "{\n",
            "\"title\": \"유닉스 - <b>리눅스</b> 족보\",\n",
            "\"link\": \"https:\\/\\/blog.naver.com\\/hanmydog?Redirect=Log&logNo=222205830004\",\n",
            "\"description\": \"라즈파이가 보기에 유닉스는 <b>리눅스</b>의 할아버지였다. 핀란드의 헬싱키 대학 학생이던 리누스 토발즈가 네델란드 탄넨바움 교소님이 교육용으로 만든 미닉스라는 미니 유닉스를 본따서 유닉스 같이 생긴... \",\n",
            "\"bloggername\": \"라즈파이 영웅전\",\n",
            "\"bloggerlink\": \"https://blog.naver.com/hanmydog\",\n",
            "\"postdate\": \"20210113\"\n",
            "\n",
            "},\n",
            "{\n",
            "\"title\": \"시스템 해킹을 허용하는 <b>리눅스</b> 커널 취약점 발견\",\n",
            "\"link\": \"https://blog.alyac.co.kr/3741\",\n",
            "\"description\": \"등록된 <b>리눅스</b> 커널의 정보 공개 취약점으로 인해 KASLR(Kernel Address Space Layout Randomization)... 해당 취약점은 <b>리눅스</b>를 실행하는 32 비트 ARM 기기의 /proc/pid/syscall 기능에 존재하며... \",\n",
            "\"bloggername\": \"이스트시큐리티 알약 블로그\",\n",
            "\"bloggerlink\": \"https://blog.alyac.co.kr/\",\n",
            "\"postdate\": \"20210430\"\n",
            "\n",
            "},\n",
            "{\n",
            "\"title\": \"미네소타 대학, <b>리눅스</b> 프로젝트에 악성코드 배포 사과해\",\n",
            "\"link\": \"https://blog.alyac.co.kr/3732\",\n",
            "\"description\": \"연구원들이 <b>리눅스</b> 커널 프로젝트의 관리자들에게 프로젝트의 코드에 의도적으로 취약점을... 조교인 Kangjie Lu, 대학원생인 Qiushi Wu 및 Aditya Pakki 는 이메일을 통해 “ 우리의 목표는 <b>리눅스</b>의... \",\n",
            "\"bloggername\": \"이스트시큐리티 알약 블로그\",\n",
            "\"bloggerlink\": \"https://blog.alyac.co.kr/\",\n",
            "\"postdate\": \"20210427\"\n",
            "\n",
            "},\n",
            "{\n",
            "\"title\": \"[GNU - <b>리눅스</b>(Linux)] 데비안(우분투), CentOS / RedShift... \",\n",
            "\"link\": \"https://yyman.tistory.com/1539\",\n",
            "\"description\": \"[GNU - <b>리눅스</b>(Linux)] 데비안(우분투), CentOS / RedShift - 야간모드(시력보호) 2021. 4. 15. 10:18 CentOS , Linux , Night , NightMode , redshift , ubuntu , <b>리눅스</b> , 야간모드 (시력보호[GNU... \",\n",
            "\"bloggername\": \"도도의 초록누리\",\n",
            "\"bloggerlink\": \"https://yyman.tistory.com/\",\n",
            "\"postdate\": \"20210415\"\n",
            "\n",
            "},\n",
            "{\n",
            "\"title\": \"수 년 동안 시스템에 백도어를 설치해온 새로운 <b>리눅스</b>... \",\n",
            "\"link\": \"https://blog.alyac.co.kr/3738\",\n",
            "\"description\": \"포함한 <b>리눅스</b> 악성코드가 수 년간 탐지를 피해 공격자가 해킹된 기기로부터 민감... <b>리눅스</b> 백도어 , 훔친 데이터를 추출하는데 사용돼 공격자들은 RotaJakiro 를 통해 시스템 정보... \",\n",
            "\"bloggername\": \"이스트시큐리티 알약 블로그\",\n",
            "\"bloggerlink\": \"https://blog.alyac.co.kr/\",\n",
            "\"postdate\": \"20210429\"\n",
            "\n",
            "},\n",
            "{\n",
            "\"title\": \"[GNU - <b>리눅스</b>(Linux)] 우분투 20.04(20.10) / fcitx 한글... \",\n",
            "\"link\": \"https://yyman.tistory.com/1528\",\n",
            "\"description\": \"[GNU - <b>리눅스</b>(Linux)] 우분투 20.04(20.10) / fcitx 한글 키보드, grub 그래픽카드(4/4)... 04 , 키보드 배치 , 한글키보드 , 한영키 , 한자키 [GNU - <b>리눅스</b>(Linux)] 우분투 20.04... \",\n",
            "\"bloggername\": \"도도의 초록누리\",\n",
            "\"bloggerlink\": \"https://yyman.tistory.com/\",\n",
            "\"postdate\": \"20210403\"\n",
            "\n",
            "},\n",
            "{\n",
            "\"title\": \"[GNU - <b>리눅스</b>(Linux)] 우분투 20.04, CentOS... \",\n",
            "\"link\": \"https://yyman.tistory.com/1543\",\n",
            "\"description\": \"[GNU - <b>리눅스</b>(Linux)] 우분투 20.04, CentOS - 로우레벨포멧, 베라크립트(VeraCrypt)... 04 , VeraCrypt [GNU - <b>리눅스</b>(Linux)] 우분투 20.04, CentOS - 로우레벨포멧, 베라크립트... \",\n",
            "\"bloggername\": \"도도의 초록누리\",\n",
            "\"bloggerlink\": \"https://yyman.tistory.com/\",\n",
            "\"postdate\": \"20210420\"\n",
            "\n",
            "},\n",
            "{\n",
            "\"title\": \"중국 해커와 관련된 새로운 <b>리눅스</b> 악성코드 RedXOR 발견\",\n",
            "\"link\": \"https://blog.alyac.co.kr/3628\",\n",
            "\"description\": \"연구원들이 <b>리눅스</b> 엔드포인트 및 서버를 노리는 새로운 정교한 백도어를 발견해... 따라서 이 악성코드는 레거시 <b>리눅스</b> 시스템을 노린 공격에서 사용되는 것으로 추정해볼 수... \",\n",
            "\"bloggername\": \"이스트시큐리티 알약 블로그\",\n",
            "\"bloggerlink\": \"https://blog.alyac.co.kr/\",\n",
            "\"postdate\": \"20210311\"\n",
            "\n",
            "},\n",
            "{\n",
            "\"title\": \"연구원들, <b>리눅스</b> 루트킷을 확산시키는 Facefish 백도어에... \",\n",
            "\"link\": \"https://blog.alyac.co.kr/3805?category=750247\",\n",
            "\"description\": \"연구원들이 <b>리눅스</b> 시스템에서 사용자 로그인 자격 증명과 기기 정보를 훔치고 임의... 연구원들, <b>리눅스</b> 루트킷을 확산시키는 Facefish 백도어에 대해 경고 (0) 09:00:21 새로운 애플 M1... \",\n",
            "\"bloggername\": \"이스트시큐리티 알약 블로그\",\n",
            "\"bloggerlink\": \"https://blog.alyac.co.kr/\",\n",
            "\"postdate\": \"20210531\"\n",
            "\n",
            "}\n",
            "]\n",
            "}\n",
            "\n",
            "70 71 72 73 74 75 76 77 78 79 {\n",
            "\"lastBuildDate\": \"Mon, 31 May 2021 17:08:22 +0900\",\n",
            "\"total\": 278550,\n",
            "\"start\": 81,\n",
            "\"display\": 10,\n",
            "\"items\": [\n",
            "{\n",
            "\"title\": \"<b>리눅스</b> 시스템에서 Spectre 공격 완화법을 우회할 수 있는... \",\n",
            "\"link\": \"https://blog.alyac.co.kr/3667\",\n",
            "\"description\": \"새로운 <b>리눅스</b> 기반 운영 체제 취약점 2 개를 발견했습니다 . 공격자가 이 취약점을... 5) 로 등록되었으며 <b>리눅스</b> 커널 5.11.8 이전 버전에 모두 영향을 미칩니다 . 이 보안 문제에 대한 패치는... \",\n",
            "\"bloggername\": \"이스트시큐리티 알약 블로그\",\n",
            "\"bloggerlink\": \"https://blog.alyac.co.kr/\",\n",
            "\"postdate\": \"20210330\"\n",
            "\n",
            "},\n",
            "{\n",
            "\"title\": \"공격자가 루트 권한을 얻을 수 있는 15년 된 <b>리눅스</b> 커널... \",\n",
            "\"link\": \"https://blog.alyac.co.kr/3633\",\n",
            "\"description\": \"좋아요 공감 댓글달기 0 15-year-old Linux kernel bugs let attackers gain root privileges <b>리눅스</b> 커널의... 15 년된 <b>리눅스</b> 커널 취약점 GRIMM 의 연구원들은 이 취약점을 2006 년 iSCSI 커널 서브... \",\n",
            "\"bloggername\": \"이스트시큐리티 알약 블로그\",\n",
            "\"bloggerlink\": \"https://blog.alyac.co.kr/\",\n",
            "\"postdate\": \"20210315\"\n",
            "\n",
            "},\n",
            "{\n",
            "\"title\": \"STM32 USB CDC-ACM(Virtual Com Port) <b>리눅스</b> 확인\",\n",
            "\"link\": \"https://eroro.tistory.com/561\",\n",
            "\"description\": \"개발자들은 <b>리눅스</b>에서는 어떻게 확인할 수 있지라는 생각을 하게 됩니다. 네 접니다..... USB로 시리얼로 읽을 수 있는 방식은 기본적으로 USB CDC-ACM이고 <b>리눅스</b>에서 확인해보면... \",\n",
            "\"bloggername\": \"RomanOanny\",\n",
            "\"bloggerlink\": \"https://eroro.tistory.com/\",\n",
            "\"postdate\": \"20201120\"\n",
            "\n",
            "},\n",
            "{\n",
            "\"title\": \"우분투 <b>리눅스</b> 사용자 이름 변경\",\n",
            "\"link\": \"https://wiznxt.tistory.com/846\",\n",
            "\"description\": \"우분투 <b>리눅스</b> 사용자 이름 변경 괜히 사용자명을 임시로 해 뒀다가, 찝찝해서 변경하려고... 있는 <b>리눅스</b>(우분투) 사용자이름을 변경하기 위한 작업. root 계정 활성화 사용자 이름... \",\n",
            "\"bloggername\": \"B로그0간\",\n",
            "\"bloggerlink\": \"https://wiznxt.tistory.com/\",\n",
            "\"postdate\": \"20210222\"\n",
            "\n",
            "},\n",
            "{\n",
            "\"title\": \"<b>리눅스</b> 디렉토리 생성 시 하위 디렉토리까지 한번에 생성하는... \",\n",
            "\"link\": \"https://sns4u.tistory.com/644\",\n",
            "\"description\": \"21 <b>리눅스</b> 디렉토리 생성 시 하위 디렉토리까지 한번에 생성하는 방법입니다. (0) 2021.04.15 Redmine (레드마인) plugin 설치,삭제 방법입니다. (0) 2021.04.08 Redmine (레드마인) 백업 및... \",\n",
            "\"bloggername\": \"행복랜드-행복부른 장소\",\n",
            "\"bloggerlink\": \"https://sns4u.tistory.com/\",\n",
            "\"postdate\": \"20210415\"\n",
            "\n",
            "},\n",
            "{\n",
            "\"title\": \"[GNU - <b>리눅스</b>(Linux)] RAID 구축 가이드\",\n",
            "\"link\": \"https://yyman.tistory.com/1519\",\n",
            "\"description\": \"[GNU - <b>리눅스</b>(Linux)] RAID 구축 가이드 2021. 3. 26. 07:34 fdisk , mdadm , RAID , 성능분석 , 소프트웨어 레이드 , 우분투 20.04 , 하드웨어 레이드 [GNU - <b>리눅스</b>(Linux)] RAID... \",\n",
            "\"bloggername\": \"도도의 초록누리\",\n",
            "\"bloggerlink\": \"https://yyman.tistory.com/\",\n",
            "\"postdate\": \"20210326\"\n",
            "\n",
            "},\n",
            "{\n",
            "\"title\": \"Gitpaste-12 봇넷, <b>리눅스</b> 서버와 IoT 기기 노려\",\n",
            "\"link\": \"https://blog.alyac.co.kr/3452?category=750247\",\n",
            "\"description\": \"x86_64 <b>리눅스</b> 시스템에 대한 로컬 권한 상승 익스플로잇을 포함하고 있었습니다. 초기... 17 PyMICROPSIA 악성코드, 곧 <b>리눅스</b>와 macOS 노릴 것으로 예상돼 (0) 2020.12.16 Gitpaste-12 봇넷... \",\n",
            "\"bloggername\": \"이스트시큐리티 알약 블로그\",\n",
            "\"bloggerlink\": \"https://blog.alyac.co.kr/\",\n",
            "\"postdate\": \"20201216\"\n",
            "\n",
            "},\n",
            "{\n",
            "\"title\": \"[GNU - C, C++] <b>리눅스</b>(Linux) - 사진 압축 자동화 도구(g... \",\n",
            "\"link\": \"https://yyman.tistory.com/1536\",\n",
            "\"description\": \"[GNU - C, C++] <b>리눅스</b>(Linux) - 사진 압축 자동화 도구(g++, 쉘(Shell)) (1/2) 2021. 4. 11. 21:23 c++ , g++ , GPP , imagemagick , Linux , lxqt , Shell , Ubuntu 20.04 , <b>리눅스</b> , 우분투 20.04... \",\n",
            "\"bloggername\": \"도도의 초록누리\",\n",
            "\"bloggerlink\": \"https://yyman.tistory.com/\",\n",
            "\"postdate\": \"20210411\"\n",
            "\n",
            "},\n",
            "{\n",
            "\"title\": \"윈도우, <b>리눅스</b> 서버를 모네로 채굴기로 사용하는 새로운 웜 발견\",\n",
            "\"link\": \"https://blog.alyac.co.kr/3486\",\n",
            "\"description\": \"윈도우와 <b>리눅스</b> 서버에 XMRig 가상화폐 채굴기를 활발히 확산시키는 자가 확산 Golang 기반... 것은 <b>리눅스</b> 공격이 대부분의 보안 및 탐지 플랫폼의 레이더를 우회하고 있음을 보여줍니다... \",\n",
            "\"bloggername\": \"이스트시큐리티 알약 블로그\",\n",
            "\"bloggerlink\": \"https://blog.alyac.co.kr/\",\n",
            "\"postdate\": \"20201231\"\n",
            "\n",
            "},\n",
            "{\n",
            "\"title\": \"PyMICROPSIA 악성코드, 곧 <b>리눅스</b>와 macOS 노릴 것으로... \",\n",
            "\"link\": \"https://blog.alyac.co.kr/3453?category=750247\",\n",
            "\"description\": \"추후 <b>리눅스</b>와 macOS 환경을 감염시키는데 사용될 가능성이 발견되었습니다 . 이 새로운... 17 PyMICROPSIA 악성코드, 곧 <b>리눅스</b>와 macOS 노릴 것으로 예상돼 (0) 2020.12.16 Gitpaste-12 봇넷, <b>리눅스</b>... \",\n",
            "\"bloggername\": \"이스트시큐리티 알약 블로그\",\n",
            "\"bloggerlink\": \"https://blog.alyac.co.kr/\",\n",
            "\"postdate\": \"20201216\"\n",
            "\n",
            "}\n",
            "]\n",
            "}\n",
            "\n",
            "80 81 82 83 84 85 86 87 88 89 {\n",
            "\"lastBuildDate\": \"Mon, 31 May 2021 17:08:23 +0900\",\n",
            "\"total\": 278550,\n",
            "\"start\": 91,\n",
            "\"display\": 10,\n",
            "\"items\": [\n",
            "{\n",
            "\"title\": \"<b>리눅스</b> 악성코드 제작자, 탐지를 피하기 위해 Ezuri Golang... \",\n",
            "\"link\": \"https://blog.alyac.co.kr/3501?category=750247\",\n",
            "\"description\": \"이제 <b>리눅스</b> 환경에서도 Ezuri 를 사용하기 시작한 것으로 보입니다 . Golang으 로 작성된 Ezuri 는 암호화 및 ELF( <b>리눅스</b> ) 바이너리 로더 역할을 모두 수행합니다 . 이는 AES 알고리즘을... \",\n",
            "\"bloggername\": \"이스트시큐리티 알약 블로그\",\n",
            "\"bloggerlink\": \"https://blog.alyac.co.kr/\",\n",
            "\"postdate\": \"20210108\"\n",
            "\n",
            "},\n",
            "{\n",
            "\"title\": \"[GNU - <b>리눅스</b>(Linux)] ISC-Bind 9 / DNS서버 구축(DNSSec)... \",\n",
            "\"link\": \"https://yyman.tistory.com/1529\",\n",
            "\"description\": \"[GNU - <b>리눅스</b>(Linux)] ISC-Bind 9 / DNS서버 구축(DNSSec) - 우분투 20.04 2021. 4. 5. 20:42 Apache... 04 [GNU - <b>리눅스</b>(Linux)] ISC-Bind 9 / DNS서버 구축(DNSSec) - 우분투 20.04 이번에 소개할... \",\n",
            "\"bloggername\": \"도도의 초록누리\",\n",
            "\"bloggerlink\": \"https://yyman.tistory.com/\",\n",
            "\"postdate\": \"20210405\"\n",
            "\n",
            "},\n",
            "{\n",
            "\"title\": \"[PHP] <b>리눅스</b>, PHP 7.3(8.0) - CSS폰트, 자바스크립트... \",\n",
            "\"link\": \"https://yyman.tistory.com/1533\",\n",
            "\"description\": \"[PHP] <b>리눅스</b>, PHP 7.3(8.0) - CSS폰트, 자바스크립트, 서버URL - 공통영역 배포도구(1/3)... 0 , URL 관리영역 , 공통영역 , 웹폰트 , 자바스크립트 [PHP] <b>리눅스</b>, PHP 7.3(8.0) - CSS폰트... \",\n",
            "\"bloggername\": \"도도의 초록누리\",\n",
            "\"bloggerlink\": \"https://yyman.tistory.com/\",\n",
            "\"postdate\": \"20210407\"\n",
            "\n",
            "},\n",
            "{\n",
            "\"title\": \"[GNU - <b>리눅스</b>(Linux)] 우분투 20.04, Apache 2.4, PHP 8... \",\n",
            "\"link\": \"https://yyman.tistory.com/1530\",\n",
            "\"description\": \"[GNU - <b>리눅스</b>(Linux)] 우분투 20.04, Apache 2.4, PHP 8, OpenSSL, 가비지컬렉션, IPv6 (1/3) 2021.... 04 , 웹 브라우저 , 인증서 [GNU - <b>리눅스</b>(Linux)] 우분투 20.04, Apache 2.4, PHP 8, OpenSSL... \",\n",
            "\"bloggername\": \"도도의 초록누리\",\n",
            "\"bloggerlink\": \"https://yyman.tistory.com/\",\n",
            "\"postdate\": \"20210406\"\n",
            "\n",
            "},\n",
            "{\n",
            "\"title\": \"'싸지방' <b>리눅스</b> 산실이 된다\",\n",
            "\"link\": \"https:\\/\\/blog.naver.com\\/tech-plus?Redirect=Log&logNo=221406397870\",\n",
            "\"description\": \"<b>리눅스</b>는 1.61%에 불과하죠. OS 점유율 Windows 7 44.81% Windows 10 28.19% Windows XP 7.27% Windows 8.1 6.41% Mac OS X 10.... <b>리눅스</b> 턱스 ⓒwikipedia 특정 OS 종속에서 탈피하려면 시장에서 다양한 OS를 쓰는 게 최선입니다.... \",\n",
            "\"bloggername\": \"테크플러스\",\n",
            "\"bloggerlink\": \"https://blog.naver.com/tech-plus\",\n",
            "\"postdate\": \"20181126\"\n",
            "\n",
            "},\n",
            "{\n",
            "\"title\": \"[GNU(<b>리눅스</b>[Linux])] 우분투 20.04[외 <b>리눅스</b>] 단일 압축하기... \",\n",
            "\"link\": \"https://yyman.tistory.com/1520\",\n",
            "\"description\": \"[GNU(<b>리눅스</b>[Linux])] 우분투 20.04[외 <b>리눅스</b>] 단일 압축하기, 분할 압축하기, 압축해제 2021. 3. 30. 18:43 CentOS 8 , GNU Linux , Linux , unzip , zip , <b>리눅스</b> , 분할압축 , 압축 , 압축하기... \",\n",
            "\"bloggername\": \"도도의 초록누리\",\n",
            "\"bloggerlink\": \"https://yyman.tistory.com/\",\n",
            "\"postdate\": \"20210330\"\n",
            "\n",
            "},\n",
            "{\n",
            "\"title\": \"[GNU - <b>리눅스</b>(Linux)] 우분투 20.04(20.10) / fcitx 한글... \",\n",
            "\"link\": \"https://yyman.tistory.com/1526\",\n",
            "\"description\": \"[GNU - <b>리눅스</b>(Linux)] 우분투 20.04(20.10) / fcitx 한글 키보드, 그래픽카드 설치(2/4) 2021.... 04 , 키보드 , 키보드 배치 , 한영키 , 한자키 [GNU - <b>리눅스</b>(Linux)] 우분투 20.04(20.10)... \",\n",
            "\"bloggername\": \"도도의 초록누리\",\n",
            "\"bloggerlink\": \"https://yyman.tistory.com/\",\n",
            "\"postdate\": \"20210403\"\n",
            "\n",
            "},\n",
            "{\n",
            "\"title\": \"[PHP] <b>리눅스</b>, PHP 7.3(8.0) - CSS폰트, 자바스크립트... \",\n",
            "\"link\": \"https://yyman.tistory.com/1535\",\n",
            "\"description\": \"[PHP] <b>리눅스</b>, PHP 7.3(8.0) - CSS폰트, 자바스크립트, 서버URL - 공통영역 배포도구(3... 0 , URL관리영역공통 , 공통영역 , 웹폰트 [PHP] <b>리눅스</b>, PHP 7.3(8.0) - CSS폰트... \",\n",
            "\"bloggername\": \"도도의 초록누리\",\n",
            "\"bloggerlink\": \"https://yyman.tistory.com/\",\n",
            "\"postdate\": \"20210409\"\n",
            "\n",
            "},\n",
            "{\n",
            "\"title\": \"[GNU - <b>리눅스</b>(Linux)] 우분투 20.04(20.10) / fcitx 한글... \",\n",
            "\"link\": \"https://yyman.tistory.com/1525\",\n",
            "\"description\": \"[GNU - <b>리눅스</b>(Linux)] 우분투 20.04(20.10) / fcitx 한글 키보드, grub 그래픽카드(1/4) 2021. 4.... 04 , 키보드 배치 , 한영키 , 한자키 [GNU - <b>리눅스</b>(Linux)] 우분투 20.04(20.10) / fcitx 한글... \",\n",
            "\"bloggername\": \"도도의 초록누리\",\n",
            "\"bloggerlink\": \"https://yyman.tistory.com/\",\n",
            "\"postdate\": \"20210403\"\n",
            "\n",
            "},\n",
            "{\n",
            "\"title\": \"Bandit <b>리눅스</b> 워게임 : Level 8 → Level 9\",\n",
            "\"link\": \"https:\\/\\/blog.naver.com\\/nms200299?Redirect=Log&logNo=222330677315\",\n",
            "\"description\": \"중부대 SCP 정보보안 동아리 신입 부원 <b>리눅스</b> 멘토링 과제 신입부원 노무승 문제 https... (얘네가 갑자기 나한테 왜 이러나..) 일단 <b>리눅스</b> 로컬 호스트 내에 해당 패스워드 리스트를 저장해준다.... \",\n",
            "\"bloggername\": \"2N Security\",\n",
            "\"bloggerlink\": \"https://blog.naver.com/nms200299\",\n",
            "\"postdate\": \"20210501\"\n",
            "\n",
            "}\n",
            "]\n",
            "}\n",
            "\n",
            "90 91 92 93 94 95 96 97 98 99 "
          ],
          "name": "stdout"
        }
      ]
    },
    {
      "cell_type": "code",
      "metadata": {
        "colab": {
          "base_uri": "https://localhost:8080/",
          "height": 419
        },
        "id": "6-GaLcGdW1Va",
        "outputId": "c0a5c5b5-23fc-449e-e900-864a7182a111"
      },
      "source": [
        "df"
      ],
      "execution_count": 16,
      "outputs": [
        {
          "output_type": "execute_result",
          "data": {
            "text/html": [
              "<div>\n",
              "<style scoped>\n",
              "    .dataframe tbody tr th:only-of-type {\n",
              "        vertical-align: middle;\n",
              "    }\n",
              "\n",
              "    .dataframe tbody tr th {\n",
              "        vertical-align: top;\n",
              "    }\n",
              "\n",
              "    .dataframe thead th {\n",
              "        text-align: right;\n",
              "    }\n",
              "</style>\n",
              "<table border=\"1\" class=\"dataframe\">\n",
              "  <thead>\n",
              "    <tr style=\"text-align: right;\">\n",
              "      <th></th>\n",
              "      <th>Title</th>\n",
              "      <th>Link</th>\n",
              "      <th>Description</th>\n",
              "    </tr>\n",
              "  </thead>\n",
              "  <tbody>\n",
              "    <tr>\n",
              "      <th>0</th>\n",
              "      <td>나루토 갤러리</td>\n",
              "      <td>http://gall.dcinside.com/mgallery/board/lists?...</td>\n",
              "      <td>밀리터리, 나루토, naruto community portal dcinside</td>\n",
              "    </tr>\n",
              "    <tr>\n",
              "      <th>1</th>\n",
              "      <td>나루토 - 피규어프레소</td>\n",
              "      <td>https://animegoods.co.kr/product/list.html?cat...</td>\n",
              "      <td>현재 위치 작품별 ㄴ 나루토 나루토 나는 친구가 적다 나루토 나의 히어로 아카데미아...</td>\n",
              "    </tr>\n",
              "    <tr>\n",
              "      <th>2</th>\n",
              "      <td>나루토(애니메이션) - 나무위키</td>\n",
              "      <td>https://namu.wiki/w/%EB%82%98%EB%A3%A8%ED%86%A...</td>\n",
              "      <td>상위 문서: 나루토 줄거리 | 등장인물 | 설정 | 애니메이션 | 비판 나루토 애니...</td>\n",
              "    </tr>\n",
              "    <tr>\n",
              "      <th>3</th>\n",
              "      <td>나루토 - 미소녀피규어</td>\n",
              "      <td>http://figuresailer.com/category/%EB%82%98%EB%...</td>\n",
              "      <td>현재 위치 나루토 나루토 추천상품 [21년 10월 발매] [메가하우스] GEM NA...</td>\n",
              "    </tr>\n",
              "    <tr>\n",
              "      <th>4</th>\n",
              "      <td>나루토 호텔: 26개의 나루토 특가 호텔, 일본 - 호텔스컴바인</td>\n",
              "      <td>https://www.hotelscombined.co.kr/Place/Naruto.htm</td>\n",
              "      <td>호텔스컴바인에서 나루토의 모든 호텔을 한눈에 비교하세요. 최고 80%까지 할인! 일...</td>\n",
              "    </tr>\n",
              "    <tr>\n",
              "      <th>...</th>\n",
              "      <td>...</td>\n",
              "      <td>...</td>\n",
              "      <td>...</td>\n",
              "    </tr>\n",
              "    <tr>\n",
              "      <th>95</th>\n",
              "      <td>페이지 1 | 태그: 나루토 HD 배경 화면, 무료 바탕 화면 배경</td>\n",
              "      <td>https://kr.best-wallpaper.net/tags/Naruto.html</td>\n",
              "      <td>나루토 무료로 다운로드 배경 화면, 고품질 나루토 바탕 화면 배경, 페이지 1</td>\n",
              "    </tr>\n",
              "    <tr>\n",
              "      <th>96</th>\n",
              "      <td>나루토 게임 다운로드|나루토 게임 랭킹 | TapTap 새로운 게임의 발견</td>\n",
              "      <td>https://www.tap.io/tag/%EB%82%98%EB%A3%A8%ED%8...</td>\n",
              "      <td>TapTap은 여러분을 위해 나루토 게임의 랭킹을 보여드립니다. 이 중 모든 나루토...</td>\n",
              "    </tr>\n",
              "    <tr>\n",
              "      <th>97</th>\n",
              "      <td>나루토 게임 다운로드|나루토 게임 랭킹 | TapTap 새로운 게임의 발견</td>\n",
              "      <td>https://www.taptap.com/tag/%EB%82%98%EB%A3%A8%...</td>\n",
              "      <td>TapTap은 여러분을 위해 나루토 게임의 랭킹을 보여드립니다. 이 중 모든 나루토...</td>\n",
              "    </tr>\n",
              "    <tr>\n",
              "      <th>98</th>\n",
              "      <td>나루토 닌자가 귀멸의 칼날 사무라이로... 넷플릭스 귀멸의 칼날 1기 + 극장판 무...</td>\n",
              "      <td>https://blog.naver.com/ffwasr/222255285622</td>\n",
              "      <td>닌자가 사무라이로, 나루토가 귀멸의 칼날로 귀멸의 칼날을 보는 내내 나루토가 생각났...</td>\n",
              "    </tr>\n",
              "    <tr>\n",
              "      <th>99</th>\n",
              "      <td>옆사람 키에 따라서 감정이 바뀌는 나루토 - 디미토리</td>\n",
              "      <td>https://www.dmitory.com/49345884</td>\n",
              "      <td>헤헷 내가 더 크다니깐! 쒸익..내가 더 클거라니깐... ! 훗 이제 내가 더 크다...</td>\n",
              "    </tr>\n",
              "  </tbody>\n",
              "</table>\n",
              "<p>100 rows × 3 columns</p>\n",
              "</div>"
            ],
            "text/plain": [
              "                                                Title  ...                                        Description\n",
              "0                                             나루토 갤러리  ...        밀리터리, 나루토, naruto community portal dcinside\n",
              "1                                        나루토 - 피규어프레소  ...  현재 위치 작품별 ㄴ 나루토 나루토 나는 친구가 적다 나루토 나의 히어로 아카데미아...\n",
              "2                                   나루토(애니메이션) - 나무위키  ...  상위 문서: 나루토 줄거리 | 등장인물 | 설정 | 애니메이션 | 비판 나루토 애니...\n",
              "3                                        나루토 - 미소녀피규어  ...  현재 위치 나루토 나루토 추천상품 [21년 10월 발매] [메가하우스] GEM NA...\n",
              "4                 나루토 호텔: 26개의 나루토 특가 호텔, 일본 - 호텔스컴바인  ...  호텔스컴바인에서 나루토의 모든 호텔을 한눈에 비교하세요. 최고 80%까지 할인! 일...\n",
              "..                                                ...  ...                                                ...\n",
              "95              페이지 1 | 태그: 나루토 HD 배경 화면, 무료 바탕 화면 배경  ...        나루토 무료로 다운로드 배경 화면, 고품질 나루토 바탕 화면 배경, 페이지 1\n",
              "96          나루토 게임 다운로드|나루토 게임 랭킹 | TapTap 새로운 게임의 발견  ...  TapTap은 여러분을 위해 나루토 게임의 랭킹을 보여드립니다. 이 중 모든 나루토...\n",
              "97          나루토 게임 다운로드|나루토 게임 랭킹 | TapTap 새로운 게임의 발견  ...  TapTap은 여러분을 위해 나루토 게임의 랭킹을 보여드립니다. 이 중 모든 나루토...\n",
              "98  나루토 닌자가 귀멸의 칼날 사무라이로... 넷플릭스 귀멸의 칼날 1기 + 극장판 무...  ...  닌자가 사무라이로, 나루토가 귀멸의 칼날로 귀멸의 칼날을 보는 내내 나루토가 생각났...\n",
              "99                      옆사람 키에 따라서 감정이 바뀌는 나루토 - 디미토리  ...  헤헷 내가 더 크다니깐! 쒸익..내가 더 클거라니깐... ! 훗 이제 내가 더 크다...\n",
              "\n",
              "[100 rows x 3 columns]"
            ]
          },
          "metadata": {
            "tags": []
          },
          "execution_count": 16
        }
      ]
    },
    {
      "cell_type": "code",
      "metadata": {
        "colab": {
          "base_uri": "https://localhost:8080/"
        },
        "id": "z55rJIa9Z_ue",
        "outputId": "0782c736-d24d-442a-bd36-ac644df02f89"
      },
      "source": [
        "df.shape"
      ],
      "execution_count": 6,
      "outputs": [
        {
          "output_type": "execute_result",
          "data": {
            "text/plain": [
              "(100, 3)"
            ]
          },
          "metadata": {
            "tags": []
          },
          "execution_count": 6
        }
      ]
    },
    {
      "cell_type": "code",
      "metadata": {
        "colab": {
          "base_uri": "https://localhost:8080/"
        },
        "id": "2yytcPNcaUqv",
        "outputId": "ddac3a47-b267-4aa9-d296-84f0119f0c00"
      },
      "source": [
        ""
      ],
      "execution_count": 12,
      "outputs": [
        {
          "output_type": "execute_result",
          "data": {
            "text/plain": [
              "Int64Index([ 0,  1,  2,  3,  4,  5,  6,  7,  8,  9, 10, 11, 12, 13, 14, 15, 16,\n",
              "            17, 18, 19, 20, 21, 22, 23, 24, 25, 26, 27, 28, 29, 30, 31, 32, 33,\n",
              "            34, 35, 36, 37, 38, 39, 40, 41, 42, 43, 44, 45, 46, 47, 48, 49, 50,\n",
              "            51, 52, 53, 54, 55, 56, 57, 58, 59, 60, 61, 62, 63, 64, 65, 66, 67,\n",
              "            68, 69, 70, 71, 72, 73, 74, 75, 76, 77, 78, 79, 80, 81, 82, 83, 84,\n",
              "            85, 86, 87, 88, 89, 90, 91, 92, 93, 94, 95, 96, 97, 98, 99],\n",
              "           dtype='int64')"
            ]
          },
          "metadata": {
            "tags": []
          },
          "execution_count": 12
        }
      ]
    },
    {
      "cell_type": "code",
      "metadata": {
        "colab": {
          "base_uri": "https://localhost:8080/",
          "height": 419
        },
        "id": "VPO84iwyaVqz",
        "outputId": "fe9457bd-033d-490f-c5c5-d40ea6a1b842"
      },
      "source": [
        "kin_df"
      ],
      "execution_count": 17,
      "outputs": [
        {
          "output_type": "execute_result",
          "data": {
            "text/html": [
              "<div>\n",
              "<style scoped>\n",
              "    .dataframe tbody tr th:only-of-type {\n",
              "        vertical-align: middle;\n",
              "    }\n",
              "\n",
              "    .dataframe tbody tr th {\n",
              "        vertical-align: top;\n",
              "    }\n",
              "\n",
              "    .dataframe thead th {\n",
              "        text-align: right;\n",
              "    }\n",
              "</style>\n",
              "<table border=\"1\" class=\"dataframe\">\n",
              "  <thead>\n",
              "    <tr style=\"text-align: right;\">\n",
              "      <th></th>\n",
              "      <th>Title</th>\n",
              "      <th>Link</th>\n",
              "      <th>Description</th>\n",
              "    </tr>\n",
              "  </thead>\n",
              "  <tbody>\n",
              "    <tr>\n",
              "      <th>0</th>\n",
              "      <td>리눅스 맥OS 자잘한 질문..</td>\n",
              "      <td>https://kin.naver.com/qna/detail.nhn?d1id=1&amp;di...</td>\n",
              "      <td>리눅스는 운영체제의 한 종류이고 우분투는 리눅스의 배포판 이라는데... 리눅스는 w...</td>\n",
              "    </tr>\n",
              "    <tr>\n",
              "      <th>1</th>\n",
              "      <td>리눅스에선 hwp화일을 사용할수없나요?</td>\n",
              "      <td>https://kin.naver.com/qna/detail.nhn?d1id=1&amp;di...</td>\n",
              "      <td>... 리눅스에서요~~~ 급해요 알려주세요  안녕하세요. 리눅스에서도 한글 파일 열...</td>\n",
              "    </tr>\n",
              "    <tr>\n",
              "      <th>2</th>\n",
              "      <td>Cent os 7으로 리눅스 ~~~</td>\n",
              "      <td>https://kin.naver.com/qna/detail.nhn?d1id=1&amp;di...</td>\n",
              "      <td>... 다른 리눅스를 써도 된다면 어떤 것을 쓰는게 적절할까요? 이번해부터 적용되는...</td>\n",
              "    </tr>\n",
              "    <tr>\n",
              "      <th>3</th>\n",
              "      <td>리눅스마스터2급에 관하여</td>\n",
              "      <td>https://kin.naver.com/qna/detail.nhn?d1id=1&amp;di...</td>\n",
              "      <td>... 리눅스 마스터 2급이 있던데 이번년도에 딸생각중인데요 1.아무지식없는데 시작...</td>\n",
              "    </tr>\n",
              "    <tr>\n",
              "      <th>4</th>\n",
              "      <td>리눅스 질문</td>\n",
              "      <td>https://kin.naver.com/qna/detail.nhn?d1id=1&amp;di...</td>\n",
              "      <td>리눅스에서 옵션과 명령어는 동일한 건가요? 아니면 옵션과 명령어는 다른 건가요? 명...</td>\n",
              "    </tr>\n",
              "    <tr>\n",
              "      <th>...</th>\n",
              "      <td>...</td>\n",
              "      <td>...</td>\n",
              "      <td>...</td>\n",
              "    </tr>\n",
              "    <tr>\n",
              "      <th>95</th>\n",
              "      <td>리눅스마스터 인강 추천바랍니다</td>\n",
              "      <td>https://kin.naver.com/qna/detail.nhn?d1id=4&amp;di...</td>\n",
              "      <td>리눅스마스터를 인강으로 공부하려고 합니다. 리눅스마스터 인강은 어디가 좋을지 추천 ...</td>\n",
              "    </tr>\n",
              "    <tr>\n",
              "      <th>96</th>\n",
              "      <td>리눅스 마스터 2급</td>\n",
              "      <td>https://kin.naver.com/qna/detail.nhn?d1id=1&amp;di...</td>\n",
              "      <td>안녕하세요 제가 컴퓨터 공부를 좋아해서 리눅스 마스터... ㅠ  리눅스마스터를 공부...</td>\n",
              "    </tr>\n",
              "    <tr>\n",
              "      <th>97</th>\n",
              "      <td>리눅스 마스터 2급이 뭔가요?</td>\n",
              "      <td>https://kin.naver.com/qna/detail.nhn?d1id=1&amp;di...</td>\n",
              "      <td>리눅스 마스터에는 1급과 2급이 있는것으로 알고있습니다 2급에 대해서... 안녕하세...</td>\n",
              "    </tr>\n",
              "    <tr>\n",
              "      <th>98</th>\n",
              "      <td>리눅스 버추얼머신 IP주소</td>\n",
              "      <td>https://kin.naver.com/qna/detail.nhn?d1id=1&amp;di...</td>\n",
              "      <td>리눅스 버추얼머신 프로그램 4개를 사용하고 있는데 이중하나를 다른 프로그램으로 스캔...</td>\n",
              "    </tr>\n",
              "    <tr>\n",
              "      <th>99</th>\n",
              "      <td>리눅스마스터 1급 학원</td>\n",
              "      <td>https://kin.naver.com/qna/detail.nhn?d1id=11&amp;d...</td>\n",
              "      <td>제가 작년에 리눅스마스터 2급을 취득했는데 리눅스마스터 1급도 도전해보고 싶어요 근...</td>\n",
              "    </tr>\n",
              "  </tbody>\n",
              "</table>\n",
              "<p>100 rows × 3 columns</p>\n",
              "</div>"
            ],
            "text/plain": [
              "                    Title  ...                                        Description\n",
              "0        리눅스 맥OS 자잘한 질문..  ...  리눅스는 운영체제의 한 종류이고 우분투는 리눅스의 배포판 이라는데... 리눅스는 w...\n",
              "1   리눅스에선 hwp화일을 사용할수없나요?  ...  ... 리눅스에서요~~~ 급해요 알려주세요  안녕하세요. 리눅스에서도 한글 파일 열...\n",
              "2     Cent os 7으로 리눅스 ~~~  ...  ... 다른 리눅스를 써도 된다면 어떤 것을 쓰는게 적절할까요? 이번해부터 적용되는...\n",
              "3           리눅스마스터2급에 관하여  ...  ... 리눅스 마스터 2급이 있던데 이번년도에 딸생각중인데요 1.아무지식없는데 시작...\n",
              "4                  리눅스 질문  ...  리눅스에서 옵션과 명령어는 동일한 건가요? 아니면 옵션과 명령어는 다른 건가요? 명...\n",
              "..                    ...  ...                                                ...\n",
              "95       리눅스마스터 인강 추천바랍니다  ...  리눅스마스터를 인강으로 공부하려고 합니다. 리눅스마스터 인강은 어디가 좋을지 추천 ...\n",
              "96             리눅스 마스터 2급  ...  안녕하세요 제가 컴퓨터 공부를 좋아해서 리눅스 마스터... ㅠ  리눅스마스터를 공부...\n",
              "97       리눅스 마스터 2급이 뭔가요?  ...  리눅스 마스터에는 1급과 2급이 있는것으로 알고있습니다 2급에 대해서... 안녕하세...\n",
              "98         리눅스 버추얼머신 IP주소  ...  리눅스 버추얼머신 프로그램 4개를 사용하고 있는데 이중하나를 다른 프로그램으로 스캔...\n",
              "99           리눅스마스터 1급 학원  ...  제가 작년에 리눅스마스터 2급을 취득했는데 리눅스마스터 1급도 도전해보고 싶어요 근...\n",
              "\n",
              "[100 rows x 3 columns]"
            ]
          },
          "metadata": {
            "tags": []
          },
          "execution_count": 17
        }
      ]
    },
    {
      "cell_type": "code",
      "metadata": {
        "colab": {
          "base_uri": "https://localhost:8080/"
        },
        "id": "MTcOHIqNcdlE",
        "outputId": "10612ac7-2684-47b4-b72b-f46776b13a48"
      },
      "source": [
        "kin_df['Title'].head()"
      ],
      "execution_count": 18,
      "outputs": [
        {
          "output_type": "execute_result",
          "data": {
            "text/plain": [
              "0         리눅스 맥OS 자잘한 질문..\n",
              "1    리눅스에선 hwp화일을 사용할수없나요?\n",
              "2      Cent os 7으로 리눅스 ~~~\n",
              "3            리눅스마스터2급에 관하여\n",
              "4                   리눅스 질문\n",
              "Name: Title, dtype: object"
            ]
          },
          "metadata": {
            "tags": []
          },
          "execution_count": 18
        }
      ]
    },
    {
      "cell_type": "code",
      "metadata": {
        "colab": {
          "base_uri": "https://localhost:8080/",
          "height": 555
        },
        "id": "ZYJ6YmlVcvEZ",
        "outputId": "65f2a109-6995-4e19-9d6b-a2b24607804d"
      },
      "source": [
        "blog_df"
      ],
      "execution_count": 24,
      "outputs": [
        {
          "output_type": "execute_result",
          "data": {
            "text/html": [
              "<div>\n",
              "<style scoped>\n",
              "    .dataframe tbody tr th:only-of-type {\n",
              "        vertical-align: middle;\n",
              "    }\n",
              "\n",
              "    .dataframe tbody tr th {\n",
              "        vertical-align: top;\n",
              "    }\n",
              "\n",
              "    .dataframe thead th {\n",
              "        text-align: right;\n",
              "    }\n",
              "</style>\n",
              "<table border=\"1\" class=\"dataframe\">\n",
              "  <thead>\n",
              "    <tr style=\"text-align: right;\">\n",
              "      <th></th>\n",
              "      <th>Title</th>\n",
              "      <th>Link</th>\n",
              "      <th>Description</th>\n",
              "      <th>Blogger Name</th>\n",
              "      <th>Blogger Link</th>\n",
              "    </tr>\n",
              "  </thead>\n",
              "  <tbody>\n",
              "    <tr>\n",
              "      <th>0</th>\n",
              "      <td>지는 Cent OS8의 대체 RedHat계열 리눅스 엔터프라이즈 버전</td>\n",
              "      <td>https://blog.naver.com/kcallda?Redirect=Log&amp;lo...</td>\n",
              "      <td>이 운영체제는 RHEL(레드햇 엔터프라이즈 리눅스)와 거의 완벽하게 호환되는 무료 ...</td>\n",
              "      <td>Beyond Expectations</td>\n",
              "      <td>https://blog.naver.com/kcallda</td>\n",
              "    </tr>\n",
              "    <tr>\n",
              "      <th>1</th>\n",
              "      <td>유용한 리눅스 커맨드라인 앱</td>\n",
              "      <td>http://madchick.egloos.com/4196540</td>\n",
              "      <td>vim sudo apt-get install vim 엄청 빠른 텍스트 에디터 - 리...</td>\n",
              "      <td>미친병아리가 삐약삐약</td>\n",
              "      <td>http://madchick.egloos.com/</td>\n",
              "    </tr>\n",
              "    <tr>\n",
              "      <th>2</th>\n",
              "      <td>리눅스마스터 2급 시험일정과 준비방법</td>\n",
              "      <td>https://blog.naver.com/skh556?Redirect=Log&amp;log...</td>\n",
              "      <td>오늘은 비전공자도 많이 도전하고 비교적 쉽게 취득이 가능한 리눅스마스터 2급 자격증...</td>\n",
              "      <td>우렁찬한우의 국비 교육 이야기</td>\n",
              "      <td>https://blog.naver.com/skh556</td>\n",
              "    </tr>\n",
              "    <tr>\n",
              "      <th>3</th>\n",
              "      <td>리눅스 취약점과 보안 강화</td>\n",
              "      <td>https://blog.naver.com/leejjoo112?Redirect=Log...</td>\n",
              "      <td>리눅스 취약점 1. setuid root 프로그램 남용 슈퍼유저가 소유한 프로그램으...</td>\n",
              "      <td>vis ta vie</td>\n",
              "      <td>https://blog.naver.com/leejjoo112</td>\n",
              "    </tr>\n",
              "    <tr>\n",
              "      <th>4</th>\n",
              "      <td>키크론 K3 | 기계식 키보드 맥북 윈도우 리눅스 지원</td>\n",
              "      <td>https://blog.naver.com/ehdus85?Redirect=Log&amp;lo...</td>\n",
              "      <td>윈도우와 리눅스에서도 호환이 잘되는 것 같아 제가 생각한 요구사항에 딱 들어 맞는 ...</td>\n",
              "      <td>Journey with the Son</td>\n",
              "      <td>https://blog.naver.com/ehdus85</td>\n",
              "    </tr>\n",
              "    <tr>\n",
              "      <th>...</th>\n",
              "      <td>...</td>\n",
              "      <td>...</td>\n",
              "      <td>...</td>\n",
              "      <td>...</td>\n",
              "      <td>...</td>\n",
              "    </tr>\n",
              "    <tr>\n",
              "      <th>95</th>\n",
              "      <td>[GNU(리눅스[Linux])] 우분투 20.04[외 리눅스] 단일 압축하기...</td>\n",
              "      <td>https://yyman.tistory.com/1520</td>\n",
              "      <td>[GNU(리눅스[Linux])] 우분투 20.04[외 리눅스] 단일 압축하기, 분할...</td>\n",
              "      <td>도도의 초록누리</td>\n",
              "      <td>https://yyman.tistory.com/</td>\n",
              "    </tr>\n",
              "    <tr>\n",
              "      <th>96</th>\n",
              "      <td>[GNU - 리눅스(Linux)] 우분투 20.04(20.10) / fcitx 한글...</td>\n",
              "      <td>https://yyman.tistory.com/1526</td>\n",
              "      <td>[GNU - 리눅스(Linux)] 우분투 20.04(20.10) / fcitx 한글...</td>\n",
              "      <td>도도의 초록누리</td>\n",
              "      <td>https://yyman.tistory.com/</td>\n",
              "    </tr>\n",
              "    <tr>\n",
              "      <th>97</th>\n",
              "      <td>[PHP] 리눅스, PHP 7.3(8.0) - CSS폰트, 자바스크립트...</td>\n",
              "      <td>https://yyman.tistory.com/1535</td>\n",
              "      <td>[PHP] 리눅스, PHP 7.3(8.0) - CSS폰트, 자바스크립트, 서버URL...</td>\n",
              "      <td>도도의 초록누리</td>\n",
              "      <td>https://yyman.tistory.com/</td>\n",
              "    </tr>\n",
              "    <tr>\n",
              "      <th>98</th>\n",
              "      <td>[GNU - 리눅스(Linux)] 우분투 20.04(20.10) / fcitx 한글...</td>\n",
              "      <td>https://yyman.tistory.com/1525</td>\n",
              "      <td>[GNU - 리눅스(Linux)] 우분투 20.04(20.10) / fcitx 한글...</td>\n",
              "      <td>도도의 초록누리</td>\n",
              "      <td>https://yyman.tistory.com/</td>\n",
              "    </tr>\n",
              "    <tr>\n",
              "      <th>99</th>\n",
              "      <td>Bandit 리눅스 워게임 : Level 8 → Level 9</td>\n",
              "      <td>https://blog.naver.com/nms200299?Redirect=Log&amp;...</td>\n",
              "      <td>중부대 SCP 정보보안 동아리 신입 부원 리눅스 멘토링 과제 신입부원 노무승 문제 ...</td>\n",
              "      <td>2N Security</td>\n",
              "      <td>https://blog.naver.com/nms200299</td>\n",
              "    </tr>\n",
              "  </tbody>\n",
              "</table>\n",
              "<p>100 rows × 5 columns</p>\n",
              "</div>"
            ],
            "text/plain": [
              "                                                Title  ...                       Blogger Link\n",
              "0              지는 Cent OS8의 대체 RedHat계열 리눅스 엔터프라이즈 버전  ...     https://blog.naver.com/kcallda\n",
              "1                                     유용한 리눅스 커맨드라인 앱  ...        http://madchick.egloos.com/\n",
              "2                                리눅스마스터 2급 시험일정과 준비방법  ...      https://blog.naver.com/skh556\n",
              "3                                      리눅스 취약점과 보안 강화  ...  https://blog.naver.com/leejjoo112\n",
              "4                      키크론 K3 | 기계식 키보드 맥북 윈도우 리눅스 지원  ...     https://blog.naver.com/ehdus85\n",
              "..                                                ...  ...                                ...\n",
              "95     [GNU(리눅스[Linux])] 우분투 20.04[외 리눅스] 단일 압축하기...   ...         https://yyman.tistory.com/\n",
              "96  [GNU - 리눅스(Linux)] 우분투 20.04(20.10) / fcitx 한글...  ...         https://yyman.tistory.com/\n",
              "97        [PHP] 리눅스, PHP 7.3(8.0) - CSS폰트, 자바스크립트...   ...         https://yyman.tistory.com/\n",
              "98  [GNU - 리눅스(Linux)] 우분투 20.04(20.10) / fcitx 한글...  ...         https://yyman.tistory.com/\n",
              "99                 Bandit 리눅스 워게임 : Level 8 → Level 9  ...   https://blog.naver.com/nms200299\n",
              "\n",
              "[100 rows x 5 columns]"
            ]
          },
          "metadata": {
            "tags": []
          },
          "execution_count": 24
        }
      ]
    }
  ]
}