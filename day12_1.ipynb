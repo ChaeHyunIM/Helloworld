{
  "nbformat": 4,
  "nbformat_minor": 0,
  "metadata": {
    "colab": {
      "name": "day12-1.ipynb",
      "private_outputs": true,
      "provenance": [],
      "authorship_tag": "ABX9TyO+qstput1Jiw/xgM9HObgX",
      "include_colab_link": true
    },
    "kernelspec": {
      "name": "python3",
      "display_name": "Python 3"
    },
    "language_info": {
      "name": "python"
    }
  },
  "cells": [
    {
      "cell_type": "markdown",
      "metadata": {
        "id": "view-in-github",
        "colab_type": "text"
      },
      "source": [
        "<a href=\"https://colab.research.google.com/github/ChaeHyunIM/Helloworld/blob/main/day12_1.ipynb\" target=\"_parent\"><img src=\"https://colab.research.google.com/assets/colab-badge.svg\" alt=\"Open In Colab\"/></a>"
      ]
    },
    {
      "cell_type": "markdown",
      "metadata": {
        "id": "20fkNtwISlSQ"
      },
      "source": [
        "####**colab 기초**"
      ]
    },
    {
      "cell_type": "code",
      "metadata": {
        "id": "JnCzFEDrQQUm"
      },
      "source": [
        " !ls"
      ],
      "execution_count": null,
      "outputs": []
    },
    {
      "cell_type": "markdown",
      "metadata": {
        "id": "p1vjPOyiRXh-"
      },
      "source": [
        "pwd: print working directory 현재 위치 확인"
      ]
    },
    {
      "cell_type": "code",
      "metadata": {
        "id": "2lNSdPp0Qen6"
      },
      "source": [
        "!pwd"
      ],
      "execution_count": null,
      "outputs": []
    },
    {
      "cell_type": "code",
      "metadata": {
        "id": "sU2YPxKsQf7B"
      },
      "source": [
        "%history"
      ],
      "execution_count": null,
      "outputs": []
    },
    {
      "cell_type": "code",
      "metadata": {
        "id": "5-8hp_zNQ-VP"
      },
      "source": [
        "!nl /etc/issue.net"
      ],
      "execution_count": null,
      "outputs": []
    },
    {
      "cell_type": "code",
      "metadata": {
        "id": "KPEWrIpYRuD5"
      },
      "source": [
        "!nl /proc/cpuinfo"
      ],
      "execution_count": null,
      "outputs": []
    },
    {
      "cell_type": "code",
      "metadata": {
        "id": "vJSY2FjLR6tm"
      },
      "source": [
        "!df -h ##disk free"
      ],
      "execution_count": null,
      "outputs": []
    },
    {
      "cell_type": "code",
      "metadata": {
        "id": "Rhqe757-ShqX"
      },
      "source": [
        "from google.colab import drive"
      ],
      "execution_count": null,
      "outputs": []
    },
    {
      "cell_type": "code",
      "metadata": {
        "id": "rn_ObMPRUJMB"
      },
      "source": [
        "drive.mount('/content/drive')"
      ],
      "execution_count": null,
      "outputs": []
    },
    {
      "cell_type": "code",
      "metadata": {
        "id": "V9Hg1eIKUxlN"
      },
      "source": [
        "import pandas as pd"
      ],
      "execution_count": null,
      "outputs": []
    },
    {
      "cell_type": "code",
      "metadata": {
        "id": "slYf11TqWGig"
      },
      "source": [
        "pd1 = pd.read_excel('/content/sample_data/ess.xlsx')"
      ],
      "execution_count": null,
      "outputs": []
    },
    {
      "cell_type": "code",
      "metadata": {
        "id": "OtcJJYY4WNpF"
      },
      "source": [
        "pd1"
      ],
      "execution_count": null,
      "outputs": []
    },
    {
      "cell_type": "markdown",
      "metadata": {
        "id": "gJJTeNxUYpVu"
      },
      "source": [
        "**굵은 텍스트** \n",
        "__bold__\n",
        "*기울기*\n",
        "\n",
        "*   **굵은 텍스트** \n",
        "*   __bold__\n",
        "\n",
        "\n",
        "> *기울기*\n",
        "> __목요일__\n",
        "\n",
        "\n",
        "[구글](https://www.google.com)\n",
        "[유튜브](https://www.youtube.com)\n",
        "\n",
        "\n",
        "\n"
      ]
    },
    {
      "cell_type": "code",
      "metadata": {
        "id": "p0tqBhxCe3zF"
      },
      "source": [
        " !ls"
      ],
      "execution_count": null,
      "outputs": []
    },
    {
      "cell_type": "code",
      "metadata": {
        "id": "mmKBdxOwfarq"
      },
      "source": [
        "cat -n ss.txt"
      ],
      "execution_count": null,
      "outputs": []
    },
    {
      "cell_type": "code",
      "metadata": {
        "id": "iCGbVXyOfxAV"
      },
      "source": [
        "pd1 = pd.read_csv('/content/ss.txt')"
      ],
      "execution_count": null,
      "outputs": []
    },
    {
      "cell_type": "code",
      "metadata": {
        "id": "2QhWROAkgqHe"
      },
      "source": [
        "pd1"
      ],
      "execution_count": null,
      "outputs": []
    },
    {
      "cell_type": "code",
      "metadata": {
        "id": "oFNsVR0ogrHs"
      },
      "source": [
        "d1 = pd.read_csv('/content/s1.csv', encoding='cp949')"
      ],
      "execution_count": null,
      "outputs": []
    },
    {
      "cell_type": "code",
      "metadata": {
        "id": "BsLPLGUrjypL"
      },
      "source": [
        "d1"
      ],
      "execution_count": null,
      "outputs": []
    },
    {
      "cell_type": "code",
      "metadata": {
        "id": "c72JnWxskjfa"
      },
      "source": [
        "d=pd1.copy()"
      ],
      "execution_count": null,
      "outputs": []
    },
    {
      "cell_type": "code",
      "metadata": {
        "id": "IIqLbNeSlylo"
      },
      "source": [
        "type(d)"
      ],
      "execution_count": null,
      "outputs": []
    },
    {
      "cell_type": "code",
      "metadata": {
        "id": "6oDPwALclzsN"
      },
      "source": [
        "dir(d)"
      ],
      "execution_count": null,
      "outputs": []
    },
    {
      "cell_type": "code",
      "metadata": {
        "id": "3HKBPPCimduu"
      },
      "source": [
        "d.shape"
      ],
      "execution_count": null,
      "outputs": []
    },
    {
      "cell_type": "code",
      "metadata": {
        "id": "CSk9czCwm6Rd"
      },
      "source": [
        "d.ndim"
      ],
      "execution_count": null,
      "outputs": []
    },
    {
      "cell_type": "code",
      "metadata": {
        "id": "lXN7xgyJnSgM"
      },
      "source": [
        "d5 = pd.read_excel('/content/sample_data/ess.xlsx', header=None)"
      ],
      "execution_count": null,
      "outputs": []
    },
    {
      "cell_type": "code",
      "metadata": {
        "id": "lLaiRlHHoVql"
      },
      "source": [
        "d5.columns=['이름', '국어', '영어', '수학']"
      ],
      "execution_count": null,
      "outputs": []
    },
    {
      "cell_type": "code",
      "metadata": {
        "id": "0ZA0j5Unoeyf"
      },
      "source": [
        "d5"
      ],
      "execution_count": null,
      "outputs": []
    },
    {
      "cell_type": "code",
      "metadata": {
        "id": "LiQBKWxWogno"
      },
      "source": [
        "d.head(3)"
      ],
      "execution_count": null,
      "outputs": []
    },
    {
      "cell_type": "code",
      "metadata": {
        "id": "x1MNAq3lpJnG"
      },
      "source": [
        "d.tail(2)"
      ],
      "execution_count": null,
      "outputs": []
    },
    {
      "cell_type": "code",
      "metadata": {
        "id": "kuCfEEjGpL_-"
      },
      "source": [
        "d.info()"
      ],
      "execution_count": null,
      "outputs": []
    },
    {
      "cell_type": "code",
      "metadata": {
        "id": "KP62mtTwpffY"
      },
      "source": [
        "d.describe()"
      ],
      "execution_count": null,
      "outputs": []
    },
    {
      "cell_type": "code",
      "metadata": {
        "id": "EK5ulhBWpjjo"
      },
      "source": [
        "d.describe"
      ],
      "execution_count": null,
      "outputs": []
    },
    {
      "cell_type": "code",
      "metadata": {
        "id": "0sz6BHs3pnv4"
      },
      "source": [
        "d.index"
      ],
      "execution_count": null,
      "outputs": []
    },
    {
      "cell_type": "code",
      "metadata": {
        "id": "hVPaNg1cpx2v"
      },
      "source": [
        "d.columns"
      ],
      "execution_count": null,
      "outputs": []
    },
    {
      "cell_type": "code",
      "metadata": {
        "id": "mmit5Yp6qEaw"
      },
      "source": [
        "d5"
      ],
      "execution_count": null,
      "outputs": []
    },
    {
      "cell_type": "code",
      "metadata": {
        "id": "OQJTiZgSqRV4"
      },
      "source": [
        "d5[['이름','영어']]"
      ],
      "execution_count": null,
      "outputs": []
    },
    {
      "cell_type": "code",
      "metadata": {
        "id": "ULDfn0w1rBPf"
      },
      "source": [
        "d5.loc[0]"
      ],
      "execution_count": null,
      "outputs": []
    },
    {
      "cell_type": "code",
      "metadata": {
        "id": "CP_meUeCrEJN"
      },
      "source": [
        "d5.loc[2]"
      ],
      "execution_count": null,
      "outputs": []
    },
    {
      "cell_type": "code",
      "metadata": {
        "id": "Maq5Abn0rXsQ"
      },
      "source": [
        "d5.loc[3:6]"
      ],
      "execution_count": null,
      "outputs": []
    },
    {
      "cell_type": "code",
      "metadata": {
        "id": "CxSba1rzrfgR"
      },
      "source": [
        "d5[:]"
      ],
      "execution_count": null,
      "outputs": []
    },
    {
      "cell_type": "code",
      "metadata": {
        "id": "HXSHrUZhrqBz"
      },
      "source": [
        "d5[: :]"
      ],
      "execution_count": null,
      "outputs": []
    },
    {
      "cell_type": "code",
      "metadata": {
        "id": "DH1DbxiMrwCE"
      },
      "source": [
        "d5[ : :2]"
      ],
      "execution_count": null,
      "outputs": []
    },
    {
      "cell_type": "code",
      "metadata": {
        "id": "hgK6U4Bsr2_o"
      },
      "source": [
        "d.tail()"
      ],
      "execution_count": null,
      "outputs": []
    },
    {
      "cell_type": "code",
      "metadata": {
        "id": "3g_GwGAusGB3"
      },
      "source": [
        "d5.loc[2:3,['영어', '수학']]"
      ],
      "execution_count": null,
      "outputs": []
    },
    {
      "cell_type": "code",
      "metadata": {
        "id": "7Dic3D3ysc3d"
      },
      "source": [
        "d5.loc[3]"
      ],
      "execution_count": null,
      "outputs": []
    },
    {
      "cell_type": "code",
      "metadata": {
        "id": "TjLv2bMutECt"
      },
      "source": [
        "d5['국어']"
      ],
      "execution_count": null,
      "outputs": []
    },
    {
      "cell_type": "code",
      "metadata": {
        "id": "b8FldK3CtLZD"
      },
      "source": [
        "d5.loc[::-2]"
      ],
      "execution_count": null,
      "outputs": []
    },
    {
      "cell_type": "code",
      "metadata": {
        "id": "hgfjMrtXtXu2"
      },
      "source": [
        "d5.loc[2:8:3]"
      ],
      "execution_count": null,
      "outputs": []
    },
    {
      "cell_type": "code",
      "metadata": {
        "id": "as1T7FHsthcK"
      },
      "source": [
        "d5.loc[:, ['수학', '영어']]"
      ],
      "execution_count": null,
      "outputs": []
    },
    {
      "cell_type": "code",
      "metadata": {
        "id": "OF9pE_nztvRc"
      },
      "source": [
        "d5.loc[['수학','영어']]"
      ],
      "execution_count": null,
      "outputs": []
    },
    {
      "cell_type": "code",
      "metadata": {
        "id": "UvynlHkauu01"
      },
      "source": [
        "d5.loc[3][2]"
      ],
      "execution_count": null,
      "outputs": []
    },
    {
      "cell_type": "code",
      "metadata": {
        "id": "5jDTqe0Iu8PK"
      },
      "source": [
        "d5.loc[0][0]"
      ],
      "execution_count": null,
      "outputs": []
    },
    {
      "cell_type": "code",
      "metadata": {
        "id": "cy6utOS4vGRw"
      },
      "source": [
        "d5.loc[2:4, '이름':'영어']"
      ],
      "execution_count": null,
      "outputs": []
    },
    {
      "cell_type": "code",
      "metadata": {
        "id": "BufsQDoCwm-M"
      },
      "source": [
        "d5.loc[3,'수학']"
      ],
      "execution_count": null,
      "outputs": []
    }
  ]
}