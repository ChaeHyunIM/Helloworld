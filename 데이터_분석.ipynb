{
  "nbformat": 4,
  "nbformat_minor": 0,
  "metadata": {
    "colab": {
      "name": "데이터 분석",
      "provenance": [],
      "collapsed_sections": [],
      "mount_file_id": "1UR817kZhDsW_UK7wE0RWO3UeOsDIxbZK",
      "authorship_tag": "ABX9TyPpFj0nCg6Vk25Y3YgO2d7x",
      "include_colab_link": true
    },
    "kernelspec": {
      "name": "python3",
      "display_name": "Python 3"
    },
    "language_info": {
      "name": "python"
    }
  },
  "cells": [
    {
      "cell_type": "markdown",
      "metadata": {
        "id": "view-in-github",
        "colab_type": "text"
      },
      "source": [
        "<a href=\"https://colab.research.google.com/github/ChaeHyunIM/Helloworld/blob/main/%EB%8D%B0%EC%9D%B4%ED%84%B0_%EB%B6%84%EC%84%9D.ipynb\" target=\"_parent\"><img src=\"https://colab.research.google.com/assets/colab-badge.svg\" alt=\"Open In Colab\"/></a>"
      ]
    },
    {
      "cell_type": "code",
      "metadata": {
        "id": "fug_ENDYCLYc"
      },
      "source": [
        "import numpy as mp\n",
        "import pandas as pd\n",
        "import matplotlib.pyplot as plt\n",
        "import seaborn as sns"
      ],
      "execution_count": 1,
      "outputs": []
    },
    {
      "cell_type": "code",
      "metadata": {
        "id": "fA-_VdejGvjb"
      },
      "source": [
        "d1=pd.read_excel('/content/drive/MyDrive/Colab Notebooks/Source/공공자전거 이용정보(총 이용건수) 2019_2020/공공자전거 대여소별 이용정보_201812_201905.xlsx')"
      ],
      "execution_count": 130,
      "outputs": []
    },
    {
      "cell_type": "code",
      "metadata": {
        "colab": {
          "base_uri": "https://localhost:8080/",
          "height": 419
        },
        "id": "nRvi3bQYHFXC",
        "outputId": "cb36ef83-c771-417d-e6f8-f19115cd27a3"
      },
      "source": [
        "d1"
      ],
      "execution_count": 131,
      "outputs": [
        {
          "output_type": "execute_result",
          "data": {
            "text/html": [
              "<div>\n",
              "<style scoped>\n",
              "    .dataframe tbody tr th:only-of-type {\n",
              "        vertical-align: middle;\n",
              "    }\n",
              "\n",
              "    .dataframe tbody tr th {\n",
              "        vertical-align: top;\n",
              "    }\n",
              "\n",
              "    .dataframe thead th {\n",
              "        text-align: right;\n",
              "    }\n",
              "</style>\n",
              "<table border=\"1\" class=\"dataframe\">\n",
              "  <thead>\n",
              "    <tr style=\"text-align: right;\">\n",
              "      <th></th>\n",
              "      <th>구분</th>\n",
              "      <th>대여소명</th>\n",
              "      <th>대여일자</th>\n",
              "      <th>대여건수</th>\n",
              "    </tr>\n",
              "  </thead>\n",
              "  <tbody>\n",
              "    <tr>\n",
              "      <th>0</th>\n",
              "      <td>강남구</td>\n",
              "      <td>2301. 현대고등학교 건너편</td>\n",
              "      <td>201812.0</td>\n",
              "      <td>364.0</td>\n",
              "    </tr>\n",
              "    <tr>\n",
              "      <th>1</th>\n",
              "      <td>강남구</td>\n",
              "      <td>2302. 교보타워 버스정류장(신논현역 3번출구 후면)</td>\n",
              "      <td>201812.0</td>\n",
              "      <td>500.0</td>\n",
              "    </tr>\n",
              "    <tr>\n",
              "      <th>2</th>\n",
              "      <td>강남구</td>\n",
              "      <td>2303. 논현역 7번출구</td>\n",
              "      <td>201812.0</td>\n",
              "      <td>286.0</td>\n",
              "    </tr>\n",
              "    <tr>\n",
              "      <th>3</th>\n",
              "      <td>강남구</td>\n",
              "      <td>2304. 신영 ROYAL PALACE 앞</td>\n",
              "      <td>201812.0</td>\n",
              "      <td>149.0</td>\n",
              "    </tr>\n",
              "    <tr>\n",
              "      <th>4</th>\n",
              "      <td>강남구</td>\n",
              "      <td>2305. MCM 본사 직영점 앞</td>\n",
              "      <td>201812.0</td>\n",
              "      <td>145.0</td>\n",
              "    </tr>\n",
              "    <tr>\n",
              "      <th>...</th>\n",
              "      <td>...</td>\n",
              "      <td>...</td>\n",
              "      <td>...</td>\n",
              "      <td>...</td>\n",
              "    </tr>\n",
              "    <tr>\n",
              "      <th>9184</th>\n",
              "      <td>중랑구</td>\n",
              "      <td>1455. 상봉역 2번 출구</td>\n",
              "      <td>201905.0</td>\n",
              "      <td>1362.0</td>\n",
              "    </tr>\n",
              "    <tr>\n",
              "      <th>9185</th>\n",
              "      <td>중랑구</td>\n",
              "      <td>1456. 상아빌딩(우림시장 교차로)</td>\n",
              "      <td>201905.0</td>\n",
              "      <td>826.0</td>\n",
              "    </tr>\n",
              "    <tr>\n",
              "      <th>9186</th>\n",
              "      <td>중랑구</td>\n",
              "      <td>1457. 동원사거리</td>\n",
              "      <td>201905.0</td>\n",
              "      <td>827.0</td>\n",
              "    </tr>\n",
              "    <tr>\n",
              "      <th>9187</th>\n",
              "      <td>중랑구</td>\n",
              "      <td>1458. 상봉터미널2</td>\n",
              "      <td>201905.0</td>\n",
              "      <td>1421.0</td>\n",
              "    </tr>\n",
              "    <tr>\n",
              "      <th>9188</th>\n",
              "      <td>중랑구</td>\n",
              "      <td>1459. 용마한신아파트사거리</td>\n",
              "      <td>201905.0</td>\n",
              "      <td>447.0</td>\n",
              "    </tr>\n",
              "  </tbody>\n",
              "</table>\n",
              "<p>9189 rows × 4 columns</p>\n",
              "</div>"
            ],
            "text/plain": [
              "       구분                            대여소명      대여일자    대여건수\n",
              "0     강남구                2301. 현대고등학교 건너편  201812.0   364.0\n",
              "1     강남구  2302. 교보타워 버스정류장(신논현역 3번출구 후면)  201812.0   500.0\n",
              "2     강남구                  2303. 논현역 7번출구  201812.0   286.0\n",
              "3     강남구         2304. 신영 ROYAL PALACE 앞  201812.0   149.0\n",
              "4     강남구              2305. MCM 본사 직영점 앞  201812.0   145.0\n",
              "...   ...                             ...       ...     ...\n",
              "9184  중랑구                 1455. 상봉역 2번 출구  201905.0  1362.0\n",
              "9185  중랑구            1456. 상아빌딩(우림시장 교차로)  201905.0   826.0\n",
              "9186  중랑구                     1457. 동원사거리  201905.0   827.0\n",
              "9187  중랑구                    1458. 상봉터미널2  201905.0  1421.0\n",
              "9188  중랑구                1459. 용마한신아파트사거리  201905.0   447.0\n",
              "\n",
              "[9189 rows x 4 columns]"
            ]
          },
          "metadata": {
            "tags": []
          },
          "execution_count": 131
        }
      ]
    },
    {
      "cell_type": "code",
      "metadata": {
        "colab": {
          "base_uri": "https://localhost:8080/"
        },
        "id": "ZY4g_iv-HR5C",
        "outputId": "7357b89a-e192-4ca5-896f-26c66db75b1c"
      },
      "source": [
        "total_d1=sum(d1[d1['구분']=='강남구'][d1['대여일자']==201905]['대여건수'])"
      ],
      "execution_count": 120,
      "outputs": [
        {
          "output_type": "stream",
          "text": [
            "/usr/local/lib/python3.7/dist-packages/ipykernel_launcher.py:1: UserWarning: Boolean Series key will be reindexed to match DataFrame index.\n",
            "  \"\"\"Entry point for launching an IPython kernel.\n"
          ],
          "name": "stderr"
        }
      ]
    },
    {
      "cell_type": "code",
      "metadata": {
        "colab": {
          "base_uri": "https://localhost:8080/"
        },
        "id": "fp0orIaFHiNu",
        "outputId": "a554196d-6632-4edc-ddd7-2287ad966a4a"
      },
      "source": [
        "d1.info()"
      ],
      "execution_count": 137,
      "outputs": [
        {
          "output_type": "stream",
          "text": [
            "<class 'pandas.core.frame.DataFrame'>\n",
            "RangeIndex: 9189 entries, 0 to 9188\n",
            "Data columns (total 4 columns):\n",
            " #   Column  Non-Null Count  Dtype  \n",
            "---  ------  --------------  -----  \n",
            " 0   구분      9184 non-null   object \n",
            " 1   대여소명    9184 non-null   object \n",
            " 2   대여일자    9184 non-null   float64\n",
            " 3   대여건수    9184 non-null   float64\n",
            "dtypes: float64(2), object(2)\n",
            "memory usage: 287.3+ KB\n"
          ],
          "name": "stdout"
        }
      ]
    },
    {
      "cell_type": "code",
      "metadata": {
        "colab": {
          "base_uri": "https://localhost:8080/"
        },
        "id": "z3I5wAhpIAzu",
        "outputId": "796aed76-04bf-4059-ddf8-7dc19a881ad4"
      },
      "source": [
        "d1[d1['구분']=='강남구'][d1['대여일자']==201905]['대여건수']"
      ],
      "execution_count": 114,
      "outputs": [
        {
          "output_type": "stream",
          "text": [
            "/usr/local/lib/python3.7/dist-packages/ipykernel_launcher.py:1: UserWarning: Boolean Series key will be reindexed to match DataFrame index.\n",
            "  \"\"\"Entry point for launching an IPython kernel.\n"
          ],
          "name": "stderr"
        },
        {
          "output_type": "execute_result",
          "data": {
            "text/plain": [
              "7653    4264.0\n",
              "7654    2375.0\n",
              "7655    1541.0\n",
              "7656     630.0\n",
              "7657     529.0\n",
              "         ...  \n",
              "7746     640.0\n",
              "7747    1114.0\n",
              "7748    1106.0\n",
              "7749     630.0\n",
              "7750    1288.0\n",
              "Name: 대여건수, Length: 98, dtype: float64"
            ]
          },
          "metadata": {
            "tags": []
          },
          "execution_count": 114
        }
      ]
    },
    {
      "cell_type": "code",
      "metadata": {
        "colab": {
          "base_uri": "https://localhost:8080/"
        },
        "id": "Q77VYC-Xb1Sk",
        "outputId": "7d376e6e-ffa6-4ddd-b303-57a8e08f485a"
      },
      "source": [
        "total_use = []\n",
        "for i in range(1, 5 + 1):\n",
        "  ym = '20190' + str(i)+'.0'\n",
        "  total_use.append(d1[d1['구분'] == '강남구'][d1['대여일자'] == float(ym)]['대여건수'].sum())\n",
        "total_use"
      ],
      "execution_count": 158,
      "outputs": [
        {
          "output_type": "stream",
          "text": [
            "/usr/local/lib/python3.7/dist-packages/ipykernel_launcher.py:4: UserWarning: Boolean Series key will be reindexed to match DataFrame index.\n",
            "  after removing the cwd from sys.path.\n",
            "/usr/local/lib/python3.7/dist-packages/ipykernel_launcher.py:4: UserWarning: Boolean Series key will be reindexed to match DataFrame index.\n",
            "  after removing the cwd from sys.path.\n",
            "/usr/local/lib/python3.7/dist-packages/ipykernel_launcher.py:4: UserWarning: Boolean Series key will be reindexed to match DataFrame index.\n",
            "  after removing the cwd from sys.path.\n",
            "/usr/local/lib/python3.7/dist-packages/ipykernel_launcher.py:4: UserWarning: Boolean Series key will be reindexed to match DataFrame index.\n",
            "  after removing the cwd from sys.path.\n",
            "/usr/local/lib/python3.7/dist-packages/ipykernel_launcher.py:4: UserWarning: Boolean Series key will be reindexed to match DataFrame index.\n",
            "  after removing the cwd from sys.path.\n"
          ],
          "name": "stderr"
        },
        {
          "output_type": "execute_result",
          "data": {
            "text/plain": [
              "[19773.0, 18740.0, 39697.0, 67015.0, 97410.0]"
            ]
          },
          "metadata": {
            "tags": []
          },
          "execution_count": 158
        }
      ]
    },
    {
      "cell_type": "code",
      "metadata": {
        "colab": {
          "base_uri": "https://localhost:8080/",
          "height": 204
        },
        "id": "KuZxMiuKb8yT",
        "outputId": "bfa52ed1-f8e7-4b74-e7d8-75e94d88f630"
      },
      "source": [
        "d1.iloc[1:6,:]"
      ],
      "execution_count": 95,
      "outputs": [
        {
          "output_type": "execute_result",
          "data": {
            "text/html": [
              "<div>\n",
              "<style scoped>\n",
              "    .dataframe tbody tr th:only-of-type {\n",
              "        vertical-align: middle;\n",
              "    }\n",
              "\n",
              "    .dataframe tbody tr th {\n",
              "        vertical-align: top;\n",
              "    }\n",
              "\n",
              "    .dataframe thead th {\n",
              "        text-align: right;\n",
              "    }\n",
              "</style>\n",
              "<table border=\"1\" class=\"dataframe\">\n",
              "  <thead>\n",
              "    <tr style=\"text-align: right;\">\n",
              "      <th></th>\n",
              "      <th>구분</th>\n",
              "      <th>대여소명</th>\n",
              "      <th>대여일자</th>\n",
              "      <th>대여건수</th>\n",
              "    </tr>\n",
              "  </thead>\n",
              "  <tbody>\n",
              "    <tr>\n",
              "      <th>1</th>\n",
              "      <td>강남구</td>\n",
              "      <td>2302. 교보타워 버스정류장(신논현역 3번출구 후면)</td>\n",
              "      <td>201812.0</td>\n",
              "      <td>500.0</td>\n",
              "    </tr>\n",
              "    <tr>\n",
              "      <th>2</th>\n",
              "      <td>강남구</td>\n",
              "      <td>2303. 논현역 7번출구</td>\n",
              "      <td>201812.0</td>\n",
              "      <td>286.0</td>\n",
              "    </tr>\n",
              "    <tr>\n",
              "      <th>3</th>\n",
              "      <td>강남구</td>\n",
              "      <td>2304. 신영 ROYAL PALACE 앞</td>\n",
              "      <td>201812.0</td>\n",
              "      <td>149.0</td>\n",
              "    </tr>\n",
              "    <tr>\n",
              "      <th>4</th>\n",
              "      <td>강남구</td>\n",
              "      <td>2305. MCM 본사 직영점 앞</td>\n",
              "      <td>201812.0</td>\n",
              "      <td>145.0</td>\n",
              "    </tr>\n",
              "    <tr>\n",
              "      <th>5</th>\n",
              "      <td>강남구</td>\n",
              "      <td>2306. 압구정역 2번 출구 옆</td>\n",
              "      <td>201812.0</td>\n",
              "      <td>457.0</td>\n",
              "    </tr>\n",
              "  </tbody>\n",
              "</table>\n",
              "</div>"
            ],
            "text/plain": [
              "    구분                            대여소명      대여일자   대여건수\n",
              "1  강남구  2302. 교보타워 버스정류장(신논현역 3번출구 후면)  201812.0  500.0\n",
              "2  강남구                  2303. 논현역 7번출구  201812.0  286.0\n",
              "3  강남구         2304. 신영 ROYAL PALACE 앞  201812.0  149.0\n",
              "4  강남구              2305. MCM 본사 직영점 앞  201812.0  145.0\n",
              "5  강남구              2306. 압구정역 2번 출구 옆  201812.0  457.0"
            ]
          },
          "metadata": {
            "tags": []
          },
          "execution_count": 95
        }
      ]
    },
    {
      "cell_type": "code",
      "metadata": {
        "id": "AvpB-uBmb_wY"
      },
      "source": [
        "d2=pd.read_excel('/content/drive/MyDrive/Colab Notebooks/Source/공공자전거 이용정보(총 이용건수) 2019_2020/공공자전거 대여소별 이용정보_201906_201911.xlsx')"
      ],
      "execution_count": 159,
      "outputs": []
    },
    {
      "cell_type": "code",
      "metadata": {
        "colab": {
          "base_uri": "https://localhost:8080/",
          "height": 419
        },
        "id": "FclsElDGhuwy",
        "outputId": "09e02ab4-59f3-44ec-8d55-2288f4b9d3fb"
      },
      "source": [
        "d2"
      ],
      "execution_count": 160,
      "outputs": [
        {
          "output_type": "execute_result",
          "data": {
            "text/html": [
              "<div>\n",
              "<style scoped>\n",
              "    .dataframe tbody tr th:only-of-type {\n",
              "        vertical-align: middle;\n",
              "    }\n",
              "\n",
              "    .dataframe tbody tr th {\n",
              "        vertical-align: top;\n",
              "    }\n",
              "\n",
              "    .dataframe thead th {\n",
              "        text-align: right;\n",
              "    }\n",
              "</style>\n",
              "<table border=\"1\" class=\"dataframe\">\n",
              "  <thead>\n",
              "    <tr style=\"text-align: right;\">\n",
              "      <th></th>\n",
              "      <th>대여소 그룹</th>\n",
              "      <th>대여소 명</th>\n",
              "      <th>대여 일자 / 월</th>\n",
              "      <th>대여 건수</th>\n",
              "    </tr>\n",
              "  </thead>\n",
              "  <tbody>\n",
              "    <tr>\n",
              "      <th>0</th>\n",
              "      <td>강남구</td>\n",
              "      <td>2301. 현대고등학교 건너편</td>\n",
              "      <td>201906</td>\n",
              "      <td>3909</td>\n",
              "    </tr>\n",
              "    <tr>\n",
              "      <th>1</th>\n",
              "      <td>강남구</td>\n",
              "      <td>2302. 교보타워 버스정류장(신논현역 3번출구 후면)</td>\n",
              "      <td>201906</td>\n",
              "      <td>2432</td>\n",
              "    </tr>\n",
              "    <tr>\n",
              "      <th>2</th>\n",
              "      <td>강남구</td>\n",
              "      <td>2303. 논현역 7번출구</td>\n",
              "      <td>201906</td>\n",
              "      <td>1567</td>\n",
              "    </tr>\n",
              "    <tr>\n",
              "      <th>3</th>\n",
              "      <td>강남구</td>\n",
              "      <td>2304. 신영 ROYAL PALACE 앞</td>\n",
              "      <td>201906</td>\n",
              "      <td>559</td>\n",
              "    </tr>\n",
              "    <tr>\n",
              "      <th>4</th>\n",
              "      <td>강남구</td>\n",
              "      <td>2305. MCM 본사 직영점 앞</td>\n",
              "      <td>201906</td>\n",
              "      <td>730</td>\n",
              "    </tr>\n",
              "    <tr>\n",
              "      <th>...</th>\n",
              "      <td>...</td>\n",
              "      <td>...</td>\n",
              "      <td>...</td>\n",
              "      <td>...</td>\n",
              "    </tr>\n",
              "    <tr>\n",
              "      <th>9267</th>\n",
              "      <td>중랑구</td>\n",
              "      <td>1455. 상봉역 2번 출구</td>\n",
              "      <td>201911</td>\n",
              "      <td>1205</td>\n",
              "    </tr>\n",
              "    <tr>\n",
              "      <th>9268</th>\n",
              "      <td>중랑구</td>\n",
              "      <td>1456. 상아빌딩(우림시장 교차로)</td>\n",
              "      <td>201911</td>\n",
              "      <td>764</td>\n",
              "    </tr>\n",
              "    <tr>\n",
              "      <th>9269</th>\n",
              "      <td>중랑구</td>\n",
              "      <td>1457. 동원사거리</td>\n",
              "      <td>201911</td>\n",
              "      <td>577</td>\n",
              "    </tr>\n",
              "    <tr>\n",
              "      <th>9270</th>\n",
              "      <td>중랑구</td>\n",
              "      <td>1458. 상봉터미널2</td>\n",
              "      <td>201911</td>\n",
              "      <td>1243</td>\n",
              "    </tr>\n",
              "    <tr>\n",
              "      <th>9271</th>\n",
              "      <td>중랑구</td>\n",
              "      <td>1459. 용마한신아파트사거리</td>\n",
              "      <td>201911</td>\n",
              "      <td>339</td>\n",
              "    </tr>\n",
              "  </tbody>\n",
              "</table>\n",
              "<p>9272 rows × 4 columns</p>\n",
              "</div>"
            ],
            "text/plain": [
              "     대여소 그룹                           대여소 명  대여 일자 / 월  대여 건수\n",
              "0       강남구                2301. 현대고등학교 건너편     201906   3909\n",
              "1       강남구  2302. 교보타워 버스정류장(신논현역 3번출구 후면)     201906   2432\n",
              "2       강남구                  2303. 논현역 7번출구     201906   1567\n",
              "3       강남구         2304. 신영 ROYAL PALACE 앞     201906    559\n",
              "4       강남구              2305. MCM 본사 직영점 앞     201906    730\n",
              "...     ...                             ...        ...    ...\n",
              "9267    중랑구                 1455. 상봉역 2번 출구     201911   1205\n",
              "9268    중랑구            1456. 상아빌딩(우림시장 교차로)     201911    764\n",
              "9269    중랑구                     1457. 동원사거리     201911    577\n",
              "9270    중랑구                    1458. 상봉터미널2     201911   1243\n",
              "9271    중랑구                1459. 용마한신아파트사거리     201911    339\n",
              "\n",
              "[9272 rows x 4 columns]"
            ]
          },
          "metadata": {
            "tags": []
          },
          "execution_count": 160
        }
      ]
    },
    {
      "cell_type": "code",
      "metadata": {
        "colab": {
          "base_uri": "https://localhost:8080/"
        },
        "id": "bVTdUYoMhkPv",
        "outputId": "f0ec5489-a4bd-4e89-9efa-526573475389"
      },
      "source": [
        "total_use = []\n",
        "for i in range(6, 9 + 1):\n",
        "  ym = '20190' + str(i)\n",
        "  total_use.append(d2[d2['대여소 그룹'] == '강남구'][d2['대여 일자 / 월'] == float(ym)]['대여 건수'].sum())\n",
        "total_use"
      ],
      "execution_count": 167,
      "outputs": [
        {
          "output_type": "stream",
          "text": [
            "/usr/local/lib/python3.7/dist-packages/ipykernel_launcher.py:4: UserWarning: Boolean Series key will be reindexed to match DataFrame index.\n",
            "  after removing the cwd from sys.path.\n",
            "/usr/local/lib/python3.7/dist-packages/ipykernel_launcher.py:4: UserWarning: Boolean Series key will be reindexed to match DataFrame index.\n",
            "  after removing the cwd from sys.path.\n",
            "/usr/local/lib/python3.7/dist-packages/ipykernel_launcher.py:4: UserWarning: Boolean Series key will be reindexed to match DataFrame index.\n",
            "  after removing the cwd from sys.path.\n",
            "/usr/local/lib/python3.7/dist-packages/ipykernel_launcher.py:4: UserWarning: Boolean Series key will be reindexed to match DataFrame index.\n",
            "  after removing the cwd from sys.path.\n"
          ],
          "name": "stderr"
        },
        {
          "output_type": "execute_result",
          "data": {
            "text/plain": [
              "[100524, 91847, 86363, 86234]"
            ]
          },
          "metadata": {
            "tags": []
          },
          "execution_count": 167
        }
      ]
    },
    {
      "cell_type": "code",
      "metadata": {
        "colab": {
          "base_uri": "https://localhost:8080/"
        },
        "id": "2FY07Dt1hs0P",
        "outputId": "e1f0721e-9d1d-4683-885a-c0ce556348ce"
      },
      "source": [
        "total_use = []\n",
        "for i in range(10, 11 + 1):\n",
        "  ym = '2019' + str(i)\n",
        "  total_use.append(d2[d2['대여소 그룹'] == '강남구'][d2['대여 일자 / 월'] == float(ym)]['대여 건수'].sum())\n",
        "total_use"
      ],
      "execution_count": 168,
      "outputs": [
        {
          "output_type": "stream",
          "text": [
            "/usr/local/lib/python3.7/dist-packages/ipykernel_launcher.py:4: UserWarning: Boolean Series key will be reindexed to match DataFrame index.\n",
            "  after removing the cwd from sys.path.\n",
            "/usr/local/lib/python3.7/dist-packages/ipykernel_launcher.py:4: UserWarning: Boolean Series key will be reindexed to match DataFrame index.\n",
            "  after removing the cwd from sys.path.\n"
          ],
          "name": "stderr"
        },
        {
          "output_type": "execute_result",
          "data": {
            "text/plain": [
              "[99586, 63257]"
            ]
          },
          "metadata": {
            "tags": []
          },
          "execution_count": 168
        }
      ]
    },
    {
      "cell_type": "code",
      "metadata": {
        "colab": {
          "base_uri": "https://localhost:8080/",
          "height": 855
        },
        "id": "7iSOnBHnl05I",
        "outputId": "32316918-7b0d-41f6-aecc-0ad4abb299ea"
      },
      "source": [
        "d1.groupby('구분').sum()"
      ],
      "execution_count": 173,
      "outputs": [
        {
          "output_type": "execute_result",
          "data": {
            "text/html": [
              "<div>\n",
              "<style scoped>\n",
              "    .dataframe tbody tr th:only-of-type {\n",
              "        vertical-align: middle;\n",
              "    }\n",
              "\n",
              "    .dataframe tbody tr th {\n",
              "        vertical-align: top;\n",
              "    }\n",
              "\n",
              "    .dataframe thead th {\n",
              "        text-align: right;\n",
              "    }\n",
              "</style>\n",
              "<table border=\"1\" class=\"dataframe\">\n",
              "  <thead>\n",
              "    <tr style=\"text-align: right;\">\n",
              "      <th></th>\n",
              "      <th>대여일자</th>\n",
              "      <th>대여건수</th>\n",
              "    </tr>\n",
              "    <tr>\n",
              "      <th>구분</th>\n",
              "      <th></th>\n",
              "      <th></th>\n",
              "    </tr>\n",
              "  </thead>\n",
              "  <tbody>\n",
              "    <tr>\n",
              "      <th>강남구</th>\n",
              "      <td>117498816.0</td>\n",
              "      <td>262926.0</td>\n",
              "    </tr>\n",
              "    <tr>\n",
              "      <th>강동구</th>\n",
              "      <td>69247450.0</td>\n",
              "      <td>189744.0</td>\n",
              "    </tr>\n",
              "    <tr>\n",
              "      <th>강북구</th>\n",
              "      <td>47241753.0</td>\n",
              "      <td>100717.0</td>\n",
              "    </tr>\n",
              "    <tr>\n",
              "      <th>강서구</th>\n",
              "      <td>102962795.0</td>\n",
              "      <td>301710.0</td>\n",
              "    </tr>\n",
              "    <tr>\n",
              "      <th>관악구</th>\n",
              "      <td>62989004.0</td>\n",
              "      <td>219669.0</td>\n",
              "    </tr>\n",
              "    <tr>\n",
              "      <th>광진구</th>\n",
              "      <td>72477808.0</td>\n",
              "      <td>380451.0</td>\n",
              "    </tr>\n",
              "    <tr>\n",
              "      <th>구로구</th>\n",
              "      <td>74900559.0</td>\n",
              "      <td>198094.0</td>\n",
              "    </tr>\n",
              "    <tr>\n",
              "      <th>금천구</th>\n",
              "      <td>53904100.0</td>\n",
              "      <td>91736.0</td>\n",
              "    </tr>\n",
              "    <tr>\n",
              "      <th>노원구</th>\n",
              "      <td>81764621.0</td>\n",
              "      <td>284358.0</td>\n",
              "    </tr>\n",
              "    <tr>\n",
              "      <th>도봉구</th>\n",
              "      <td>42396445.0</td>\n",
              "      <td>90915.0</td>\n",
              "    </tr>\n",
              "    <tr>\n",
              "      <th>동대문구</th>\n",
              "      <td>61777677.0</td>\n",
              "      <td>204159.0</td>\n",
              "    </tr>\n",
              "    <tr>\n",
              "      <th>동작구</th>\n",
              "      <td>51077637.0</td>\n",
              "      <td>147005.0</td>\n",
              "    </tr>\n",
              "    <tr>\n",
              "      <th>마포구</th>\n",
              "      <td>94887312.0</td>\n",
              "      <td>438010.0</td>\n",
              "    </tr>\n",
              "    <tr>\n",
              "      <th>서대문구</th>\n",
              "      <td>61777587.0</td>\n",
              "      <td>193442.0</td>\n",
              "    </tr>\n",
              "    <tr>\n",
              "      <th>서초구</th>\n",
              "      <td>106394970.0</td>\n",
              "      <td>261202.0</td>\n",
              "    </tr>\n",
              "    <tr>\n",
              "      <th>성동구</th>\n",
              "      <td>76515594.0</td>\n",
              "      <td>292787.0</td>\n",
              "    </tr>\n",
              "    <tr>\n",
              "      <th>성북구</th>\n",
              "      <td>70458871.0</td>\n",
              "      <td>192398.0</td>\n",
              "    </tr>\n",
              "    <tr>\n",
              "      <th>송파구</th>\n",
              "      <td>119315847.0</td>\n",
              "      <td>472000.0</td>\n",
              "    </tr>\n",
              "    <tr>\n",
              "      <th>양천구</th>\n",
              "      <td>64402236.0</td>\n",
              "      <td>157971.0</td>\n",
              "    </tr>\n",
              "    <tr>\n",
              "      <th>영등포구</th>\n",
              "      <td>106596776.0</td>\n",
              "      <td>491894.0</td>\n",
              "    </tr>\n",
              "    <tr>\n",
              "      <th>용산구</th>\n",
              "      <td>47241753.0</td>\n",
              "      <td>120681.0</td>\n",
              "    </tr>\n",
              "    <tr>\n",
              "      <th>은평구</th>\n",
              "      <td>75102274.0</td>\n",
              "      <td>171528.0</td>\n",
              "    </tr>\n",
              "    <tr>\n",
              "      <th>종로구</th>\n",
              "      <td>77323116.0</td>\n",
              "      <td>280894.0</td>\n",
              "    </tr>\n",
              "    <tr>\n",
              "      <th>중구</th>\n",
              "      <td>52894579.0</td>\n",
              "      <td>156061.0</td>\n",
              "    </tr>\n",
              "    <tr>\n",
              "      <th>중랑구</th>\n",
              "      <td>62989004.0</td>\n",
              "      <td>142214.0</td>\n",
              "    </tr>\n",
              "  </tbody>\n",
              "</table>\n",
              "</div>"
            ],
            "text/plain": [
              "             대여일자      대여건수\n",
              "구분                         \n",
              "강남구   117498816.0  262926.0\n",
              "강동구    69247450.0  189744.0\n",
              "강북구    47241753.0  100717.0\n",
              "강서구   102962795.0  301710.0\n",
              "관악구    62989004.0  219669.0\n",
              "광진구    72477808.0  380451.0\n",
              "구로구    74900559.0  198094.0\n",
              "금천구    53904100.0   91736.0\n",
              "노원구    81764621.0  284358.0\n",
              "도봉구    42396445.0   90915.0\n",
              "동대문구   61777677.0  204159.0\n",
              "동작구    51077637.0  147005.0\n",
              "마포구    94887312.0  438010.0\n",
              "서대문구   61777587.0  193442.0\n",
              "서초구   106394970.0  261202.0\n",
              "성동구    76515594.0  292787.0\n",
              "성북구    70458871.0  192398.0\n",
              "송파구   119315847.0  472000.0\n",
              "양천구    64402236.0  157971.0\n",
              "영등포구  106596776.0  491894.0\n",
              "용산구    47241753.0  120681.0\n",
              "은평구    75102274.0  171528.0\n",
              "종로구    77323116.0  280894.0\n",
              "중구     52894579.0  156061.0\n",
              "중랑구    62989004.0  142214.0"
            ]
          },
          "metadata": {
            "tags": []
          },
          "execution_count": 173
        }
      ]
    },
    {
      "cell_type": "code",
      "metadata": {
        "id": "gjRvdHDB8qa_"
      },
      "source": [
        "d1."
      ],
      "execution_count": null,
      "outputs": []
    }
  ]
}