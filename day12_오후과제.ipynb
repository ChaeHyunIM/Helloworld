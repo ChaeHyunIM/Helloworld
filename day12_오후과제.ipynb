{
  "nbformat": 4,
  "nbformat_minor": 0,
  "metadata": {
    "colab": {
      "name": "day12 오후과제.ipynb",
      "provenance": [],
      "toc_visible": true,
      "authorship_tag": "ABX9TyMEV4wZITPS9A2Mpujxcafa",
      "include_colab_link": true
    },
    "kernelspec": {
      "name": "python3",
      "display_name": "Python 3"
    },
    "language_info": {
      "name": "python"
    }
  },
  "cells": [
    {
      "cell_type": "markdown",
      "metadata": {
        "id": "view-in-github",
        "colab_type": "text"
      },
      "source": [
        "<a href=\"https://colab.research.google.com/github/ChaeHyunIM/Helloworld/blob/main/day12_%EC%98%A4%ED%9B%84%EA%B3%BC%EC%A0%9C.ipynb\" target=\"_parent\"><img src=\"https://colab.research.google.com/assets/colab-badge.svg\" alt=\"Open In Colab\"/></a>"
      ]
    },
    {
      "cell_type": "code",
      "metadata": {
        "id": "ZvGc0VD-4w-b"
      },
      "source": [
        "import pandas as pd"
      ],
      "execution_count": 1,
      "outputs": []
    },
    {
      "cell_type": "code",
      "metadata": {
        "id": "2o_-QmVT_-Mz"
      },
      "source": [
        "from google.colab import drive"
      ],
      "execution_count": 35,
      "outputs": []
    },
    {
      "cell_type": "code",
      "metadata": {
        "colab": {
          "base_uri": "https://localhost:8080/"
        },
        "id": "emADgMTMAAXb",
        "outputId": "36728e3d-19c3-4f54-e66b-3c2780deb68a"
      },
      "source": [
        "drive.mount('/content/drive')"
      ],
      "execution_count": 36,
      "outputs": [
        {
          "output_type": "stream",
          "text": [
            "Mounted at /content/drive\n"
          ],
          "name": "stdout"
        }
      ]
    },
    {
      "cell_type": "code",
      "metadata": {
        "id": "LmxcwZ-t5JVE"
      },
      "source": [
        "p=pd.read_csv('/content/sample_data/pop3.csv')"
      ],
      "execution_count": 32,
      "outputs": []
    },
    {
      "cell_type": "code",
      "metadata": {
        "colab": {
          "base_uri": "https://localhost:8080/",
          "height": 824
        },
        "id": "H111IgfB8ELF",
        "outputId": "85fa8c03-513c-49c8-8fcd-92e69d10328d"
      },
      "source": [
        "p"
      ],
      "execution_count": 26,
      "outputs": [
        {
          "output_type": "execute_result",
          "data": {
            "text/html": [
              "<div>\n",
              "<style scoped>\n",
              "    .dataframe tbody tr th:only-of-type {\n",
              "        vertical-align: middle;\n",
              "    }\n",
              "\n",
              "    .dataframe tbody tr th {\n",
              "        vertical-align: top;\n",
              "    }\n",
              "\n",
              "    .dataframe thead th {\n",
              "        text-align: right;\n",
              "    }\n",
              "</style>\n",
              "<table border=\"1\" class=\"dataframe\">\n",
              "  <thead>\n",
              "    <tr style=\"text-align: right;\">\n",
              "      <th></th>\n",
              "      <th>73,389</th>\n",
              "      <th>78,228</th>\n",
              "      <th>77,842</th>\n",
              "      <th>79,991</th>\n",
              "    </tr>\n",
              "  </thead>\n",
              "  <tbody>\n",
              "    <tr>\n",
              "      <th>0</th>\n",
              "      <td>1,266</td>\n",
              "      <td>1,378</td>\n",
              "      <td>1,353</td>\n",
              "      <td>1,344</td>\n",
              "    </tr>\n",
              "    <tr>\n",
              "      <th>1</th>\n",
              "      <td>949</td>\n",
              "      <td>1,017</td>\n",
              "      <td>1,075</td>\n",
              "      <td>1,069</td>\n",
              "    </tr>\n",
              "    <tr>\n",
              "      <th>2</th>\n",
              "      <td>2,111</td>\n",
              "      <td>2,351</td>\n",
              "      <td>1,942</td>\n",
              "      <td>1,940</td>\n",
              "    </tr>\n",
              "    <tr>\n",
              "      <th>3</th>\n",
              "      <td>2,282</td>\n",
              "      <td>2,374</td>\n",
              "      <td>2,575</td>\n",
              "      <td>2,466</td>\n",
              "    </tr>\n",
              "    <tr>\n",
              "      <th>4</th>\n",
              "      <td>2,551</td>\n",
              "      <td>2,881</td>\n",
              "      <td>2,775</td>\n",
              "      <td>3,052</td>\n",
              "    </tr>\n",
              "    <tr>\n",
              "      <th>5</th>\n",
              "      <td>2,802</td>\n",
              "      <td>2,838</td>\n",
              "      <td>2,766</td>\n",
              "      <td>2,778</td>\n",
              "    </tr>\n",
              "    <tr>\n",
              "      <th>6</th>\n",
              "      <td>2,534</td>\n",
              "      <td>2,595</td>\n",
              "      <td>2,860</td>\n",
              "      <td>2,792</td>\n",
              "    </tr>\n",
              "    <tr>\n",
              "      <th>7</th>\n",
              "      <td>3,180</td>\n",
              "      <td>3,581</td>\n",
              "      <td>3,386</td>\n",
              "      <td>3,563</td>\n",
              "    </tr>\n",
              "    <tr>\n",
              "      <th>8</th>\n",
              "      <td>1,865</td>\n",
              "      <td>1,937</td>\n",
              "      <td>2,121</td>\n",
              "      <td>2,165</td>\n",
              "    </tr>\n",
              "    <tr>\n",
              "      <th>9</th>\n",
              "      <td>1,831</td>\n",
              "      <td>1,923</td>\n",
              "      <td>2,122</td>\n",
              "      <td>2,197</td>\n",
              "    </tr>\n",
              "    <tr>\n",
              "      <th>10</th>\n",
              "      <td>3,075</td>\n",
              "      <td>3,297</td>\n",
              "      <td>3,479</td>\n",
              "      <td>3,570</td>\n",
              "    </tr>\n",
              "    <tr>\n",
              "      <th>11</th>\n",
              "      <td>2,859</td>\n",
              "      <td>3,162</td>\n",
              "      <td>3,231</td>\n",
              "      <td>3,420</td>\n",
              "    </tr>\n",
              "    <tr>\n",
              "      <th>12</th>\n",
              "      <td>2,252</td>\n",
              "      <td>2,678</td>\n",
              "      <td>2,455</td>\n",
              "      <td>2,635</td>\n",
              "    </tr>\n",
              "    <tr>\n",
              "      <th>13</th>\n",
              "      <td>3,104</td>\n",
              "      <td>3,495</td>\n",
              "      <td>3,162</td>\n",
              "      <td>3,624</td>\n",
              "    </tr>\n",
              "    <tr>\n",
              "      <th>14</th>\n",
              "      <td>3,048</td>\n",
              "      <td>3,114</td>\n",
              "      <td>3,256</td>\n",
              "      <td>3,146</td>\n",
              "    </tr>\n",
              "    <tr>\n",
              "      <th>15</th>\n",
              "      <td>4,708</td>\n",
              "      <td>5,029</td>\n",
              "      <td>4,733</td>\n",
              "      <td>4,758</td>\n",
              "    </tr>\n",
              "    <tr>\n",
              "      <th>16</th>\n",
              "      <td>2,591</td>\n",
              "      <td>2,584</td>\n",
              "      <td>2,685</td>\n",
              "      <td>2,736</td>\n",
              "    </tr>\n",
              "    <tr>\n",
              "      <th>17</th>\n",
              "      <td>1,732</td>\n",
              "      <td>1,656</td>\n",
              "      <td>1,766</td>\n",
              "      <td>1,674</td>\n",
              "    </tr>\n",
              "    <tr>\n",
              "      <th>18</th>\n",
              "      <td>3,027</td>\n",
              "      <td>3,179</td>\n",
              "      <td>3,129</td>\n",
              "      <td>3,091</td>\n",
              "    </tr>\n",
              "    <tr>\n",
              "      <th>19</th>\n",
              "      <td>3,504</td>\n",
              "      <td>3,741</td>\n",
              "      <td>3,326</td>\n",
              "      <td>3,530</td>\n",
              "    </tr>\n",
              "    <tr>\n",
              "      <th>20</th>\n",
              "      <td>5,001</td>\n",
              "      <td>4,970</td>\n",
              "      <td>5,193</td>\n",
              "      <td>5,055</td>\n",
              "    </tr>\n",
              "    <tr>\n",
              "      <th>21</th>\n",
              "      <td>2,914</td>\n",
              "      <td>3,188</td>\n",
              "      <td>3,392</td>\n",
              "      <td>3,735</td>\n",
              "    </tr>\n",
              "    <tr>\n",
              "      <th>22</th>\n",
              "      <td>4,298</td>\n",
              "      <td>4,570</td>\n",
              "      <td>4,954</td>\n",
              "      <td>5,191</td>\n",
              "    </tr>\n",
              "    <tr>\n",
              "      <th>23</th>\n",
              "      <td>5,079</td>\n",
              "      <td>5,574</td>\n",
              "      <td>6,230</td>\n",
              "      <td>6,513</td>\n",
              "    </tr>\n",
              "    <tr>\n",
              "      <th>24</th>\n",
              "      <td>4,826</td>\n",
              "      <td>5,116</td>\n",
              "      <td>3,876</td>\n",
              "      <td>3,947</td>\n",
              "    </tr>\n",
              "  </tbody>\n",
              "</table>\n",
              "</div>"
            ],
            "text/plain": [
              "   73,389 78,228 77,842 79,991\n",
              "0   1,266  1,378  1,353  1,344\n",
              "1     949  1,017  1,075  1,069\n",
              "2   2,111  2,351  1,942  1,940\n",
              "3   2,282  2,374  2,575  2,466\n",
              "4   2,551  2,881  2,775  3,052\n",
              "5   2,802  2,838  2,766  2,778\n",
              "6   2,534  2,595  2,860  2,792\n",
              "7   3,180  3,581  3,386  3,563\n",
              "8   1,865  1,937  2,121  2,165\n",
              "9   1,831  1,923  2,122  2,197\n",
              "10  3,075  3,297  3,479  3,570\n",
              "11  2,859  3,162  3,231  3,420\n",
              "12  2,252  2,678  2,455  2,635\n",
              "13  3,104  3,495  3,162  3,624\n",
              "14  3,048  3,114  3,256  3,146\n",
              "15  4,708  5,029  4,733  4,758\n",
              "16  2,591  2,584  2,685  2,736\n",
              "17  1,732  1,656  1,766  1,674\n",
              "18  3,027  3,179  3,129  3,091\n",
              "19  3,504  3,741  3,326  3,530\n",
              "20  5,001  4,970  5,193  5,055\n",
              "21  2,914  3,188  3,392  3,735\n",
              "22  4,298  4,570  4,954  5,191\n",
              "23  5,079  5,574  6,230  6,513\n",
              "24  4,826  5,116  3,876  3,947"
            ]
          },
          "metadata": {
            "tags": []
          },
          "execution_count": 26
        }
      ]
    },
    {
      "cell_type": "code",
      "metadata": {
        "colab": {
          "base_uri": "https://localhost:8080/",
          "height": 35
        },
        "id": "umdSJE1D7mHk",
        "outputId": "89007aa3-d6d3-42e9-8533-6fba974362cf"
      },
      "source": [
        "p.iloc[3,3]"
      ],
      "execution_count": 27,
      "outputs": [
        {
          "output_type": "execute_result",
          "data": {
            "application/vnd.google.colaboratory.intrinsic+json": {
              "type": "string"
            },
            "text/plain": [
              "'2,466'"
            ]
          },
          "metadata": {
            "tags": []
          },
          "execution_count": 27
        }
      ]
    },
    {
      "cell_type": "code",
      "metadata": {
        "colab": {
          "base_uri": "https://localhost:8080/"
        },
        "id": "aP1BcQ_68PjH",
        "outputId": "5dad4a0d-90b7-409b-c92c-dd14a4745b4b"
      },
      "source": [
        "type(p.iloc[3,3])"
      ],
      "execution_count": 28,
      "outputs": [
        {
          "output_type": "execute_result",
          "data": {
            "text/plain": [
              "str"
            ]
          },
          "metadata": {
            "tags": []
          },
          "execution_count": 28
        }
      ]
    },
    {
      "cell_type": "code",
      "metadata": {
        "colab": {
          "base_uri": "https://localhost:8080/",
          "height": 298
        },
        "id": "IO3PWNTJ8S9-",
        "outputId": "9ff0b04b-eae3-427a-e1f3-96503f7ea95d"
      },
      "source": [
        "pd.to_numeric(p)"
      ],
      "execution_count": 34,
      "outputs": [
        {
          "output_type": "error",
          "ename": "TypeError",
          "evalue": "ignored",
          "traceback": [
            "\u001b[0;31m---------------------------------------------------------------------------\u001b[0m",
            "\u001b[0;31mTypeError\u001b[0m                                 Traceback (most recent call last)",
            "\u001b[0;32m<ipython-input-34-b14e32a466f1>\u001b[0m in \u001b[0;36m<module>\u001b[0;34m()\u001b[0m\n\u001b[0;32m----> 1\u001b[0;31m \u001b[0mpd\u001b[0m\u001b[0;34m.\u001b[0m\u001b[0mto_numeric\u001b[0m\u001b[0;34m(\u001b[0m\u001b[0mp\u001b[0m\u001b[0;34m)\u001b[0m\u001b[0;34m\u001b[0m\u001b[0;34m\u001b[0m\u001b[0m\n\u001b[0m",
            "\u001b[0;32m/usr/local/lib/python3.7/dist-packages/pandas/core/tools/numeric.py\u001b[0m in \u001b[0;36mto_numeric\u001b[0;34m(arg, errors, downcast)\u001b[0m\n\u001b[1;32m    137\u001b[0m         \u001b[0mvalues\u001b[0m \u001b[0;34m=\u001b[0m \u001b[0mnp\u001b[0m\u001b[0;34m.\u001b[0m\u001b[0marray\u001b[0m\u001b[0;34m(\u001b[0m\u001b[0;34m[\u001b[0m\u001b[0marg\u001b[0m\u001b[0;34m]\u001b[0m\u001b[0;34m,\u001b[0m \u001b[0mdtype\u001b[0m\u001b[0;34m=\u001b[0m\u001b[0;34m\"O\"\u001b[0m\u001b[0;34m)\u001b[0m\u001b[0;34m\u001b[0m\u001b[0;34m\u001b[0m\u001b[0m\n\u001b[1;32m    138\u001b[0m     \u001b[0;32melif\u001b[0m \u001b[0mgetattr\u001b[0m\u001b[0;34m(\u001b[0m\u001b[0marg\u001b[0m\u001b[0;34m,\u001b[0m \u001b[0;34m\"ndim\"\u001b[0m\u001b[0;34m,\u001b[0m \u001b[0;36m1\u001b[0m\u001b[0;34m)\u001b[0m \u001b[0;34m>\u001b[0m \u001b[0;36m1\u001b[0m\u001b[0;34m:\u001b[0m\u001b[0;34m\u001b[0m\u001b[0;34m\u001b[0m\u001b[0m\n\u001b[0;32m--> 139\u001b[0;31m         \u001b[0;32mraise\u001b[0m \u001b[0mTypeError\u001b[0m\u001b[0;34m(\u001b[0m\u001b[0;34m\"arg must be a list, tuple, 1-d array, or Series\"\u001b[0m\u001b[0;34m)\u001b[0m\u001b[0;34m\u001b[0m\u001b[0;34m\u001b[0m\u001b[0m\n\u001b[0m\u001b[1;32m    140\u001b[0m     \u001b[0;32melse\u001b[0m\u001b[0;34m:\u001b[0m\u001b[0;34m\u001b[0m\u001b[0;34m\u001b[0m\u001b[0m\n\u001b[1;32m    141\u001b[0m         \u001b[0mvalues\u001b[0m \u001b[0;34m=\u001b[0m \u001b[0marg\u001b[0m\u001b[0;34m\u001b[0m\u001b[0;34m\u001b[0m\u001b[0m\n",
            "\u001b[0;31mTypeError\u001b[0m: arg must be a list, tuple, 1-d array, or Series"
          ]
        }
      ]
    },
    {
      "cell_type": "code",
      "metadata": {
        "id": "h5r4Fqzn9JZN"
      },
      "source": [
        ""
      ],
      "execution_count": null,
      "outputs": []
    }
  ]
}