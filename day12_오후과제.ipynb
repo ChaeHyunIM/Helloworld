{
  "nbformat": 4,
  "nbformat_minor": 0,
  "metadata": {
    "colab": {
      "name": "day12 오후과제.ipynb",
      "provenance": [],
      "collapsed_sections": [],
      "toc_visible": true,
      "authorship_tag": "ABX9TyO6KA79MKE2oeOAx9psubCl",
      "include_colab_link": true
    },
    "kernelspec": {
      "name": "python3",
      "display_name": "Python 3"
    },
    "language_info": {
      "name": "python"
    }
  },
  "cells": [
    {
      "cell_type": "markdown",
      "metadata": {
        "id": "view-in-github",
        "colab_type": "text"
      },
      "source": [
        "<a href=\"https://colab.research.google.com/github/ChaeHyunIM/Helloworld/blob/main/day12_%EC%98%A4%ED%9B%84%EA%B3%BC%EC%A0%9C.ipynb\" target=\"_parent\"><img src=\"https://colab.research.google.com/assets/colab-badge.svg\" alt=\"Open In Colab\"/></a>"
      ]
    },
    {
      "cell_type": "code",
      "metadata": {
        "id": "ZvGc0VD-4w-b"
      },
      "source": [
        "import pandas as pd"
      ],
      "execution_count": null,
      "outputs": []
    },
    {
      "cell_type": "code",
      "metadata": {
        "id": "D2ac6uGBIsOJ"
      },
      "source": [
        "import numpy as np"
      ],
      "execution_count": null,
      "outputs": []
    },
    {
      "cell_type": "code",
      "metadata": {
        "id": "2o_-QmVT_-Mz"
      },
      "source": [
        "from google.colab import drive"
      ],
      "execution_count": null,
      "outputs": []
    },
    {
      "cell_type": "code",
      "metadata": {
        "colab": {
          "base_uri": "https://localhost:8080/"
        },
        "id": "emADgMTMAAXb",
        "outputId": "1ada0a85-360c-4c56-bc29-9bbad4acc4c2"
      },
      "source": [
        "drive.mount('/content/drive')"
      ],
      "execution_count": null,
      "outputs": [
        {
          "output_type": "stream",
          "text": [
            "Mounted at /content/drive\n"
          ],
          "name": "stdout"
        }
      ]
    },
    {
      "cell_type": "markdown",
      "metadata": {
        "id": "Ycpw4F6ZNEZY"
      },
      "source": [
        "공공데이터 csv파일은 인코딩방식이 대부분 cp949나 euc-kr 방식\n",
        "   https://teddylee777.github.io/pandas/%EA%B3%B5%EA%B3%B5%EB%8D%B0%EC%9D%B4%ED%84%B0-%ED%95%9C%EA%B8%80%EA%B9%A8%EC%A7%90%ED%98%84%EC%83%81-%ED%95%B4%EA%B2%B0%EB%B0%A9%EB%B2%95\n",
        "   \n",
        "   위 링크의 해결책 (4)를 이용하여 csv파일을 다시만듬"
      ]
    },
    {
      "cell_type": "code",
      "metadata": {
        "id": "LmxcwZ-t5JVE"
      },
      "source": [
        "p=pd.read_csv('/content/drive/MyDrive/pop5.csv')"
      ],
      "execution_count": null,
      "outputs": []
    },
    {
      "cell_type": "code",
      "metadata": {
        "colab": {
          "base_uri": "https://localhost:8080/",
          "height": 855
        },
        "id": "H111IgfB8ELF",
        "outputId": "6c2a7aa1-59e9-4c9e-fb13-584f654120df"
      },
      "source": [
        "p"
      ],
      "execution_count": null,
      "outputs": [
        {
          "output_type": "execute_result",
          "data": {
            "text/html": [
              "<div>\n",
              "<style scoped>\n",
              "    .dataframe tbody tr th:only-of-type {\n",
              "        vertical-align: middle;\n",
              "    }\n",
              "\n",
              "    .dataframe tbody tr th {\n",
              "        vertical-align: top;\n",
              "    }\n",
              "\n",
              "    .dataframe thead th {\n",
              "        text-align: right;\n",
              "    }\n",
              "</style>\n",
              "<table border=\"1\" class=\"dataframe\">\n",
              "  <thead>\n",
              "    <tr style=\"text-align: right;\">\n",
              "      <th></th>\n",
              "      <th>Column1</th>\n",
              "      <th>Column2</th>\n",
              "      <th>Column3</th>\n",
              "      <th>Column4</th>\n",
              "    </tr>\n",
              "  </thead>\n",
              "  <tbody>\n",
              "    <tr>\n",
              "      <th>0</th>\n",
              "      <td>73389</td>\n",
              "      <td>78228</td>\n",
              "      <td>77842</td>\n",
              "      <td>79991</td>\n",
              "    </tr>\n",
              "    <tr>\n",
              "      <th>1</th>\n",
              "      <td>1266</td>\n",
              "      <td>1378</td>\n",
              "      <td>1353</td>\n",
              "      <td>1344</td>\n",
              "    </tr>\n",
              "    <tr>\n",
              "      <th>2</th>\n",
              "      <td>949</td>\n",
              "      <td>1017</td>\n",
              "      <td>1075</td>\n",
              "      <td>1069</td>\n",
              "    </tr>\n",
              "    <tr>\n",
              "      <th>3</th>\n",
              "      <td>2111</td>\n",
              "      <td>2351</td>\n",
              "      <td>1942</td>\n",
              "      <td>1940</td>\n",
              "    </tr>\n",
              "    <tr>\n",
              "      <th>4</th>\n",
              "      <td>2282</td>\n",
              "      <td>2374</td>\n",
              "      <td>2575</td>\n",
              "      <td>2466</td>\n",
              "    </tr>\n",
              "    <tr>\n",
              "      <th>5</th>\n",
              "      <td>2551</td>\n",
              "      <td>2881</td>\n",
              "      <td>2775</td>\n",
              "      <td>3052</td>\n",
              "    </tr>\n",
              "    <tr>\n",
              "      <th>6</th>\n",
              "      <td>2802</td>\n",
              "      <td>2838</td>\n",
              "      <td>2766</td>\n",
              "      <td>2778</td>\n",
              "    </tr>\n",
              "    <tr>\n",
              "      <th>7</th>\n",
              "      <td>2534</td>\n",
              "      <td>2595</td>\n",
              "      <td>2860</td>\n",
              "      <td>2792</td>\n",
              "    </tr>\n",
              "    <tr>\n",
              "      <th>8</th>\n",
              "      <td>3180</td>\n",
              "      <td>3581</td>\n",
              "      <td>3386</td>\n",
              "      <td>3563</td>\n",
              "    </tr>\n",
              "    <tr>\n",
              "      <th>9</th>\n",
              "      <td>1865</td>\n",
              "      <td>1937</td>\n",
              "      <td>2121</td>\n",
              "      <td>2165</td>\n",
              "    </tr>\n",
              "    <tr>\n",
              "      <th>10</th>\n",
              "      <td>1831</td>\n",
              "      <td>1923</td>\n",
              "      <td>2122</td>\n",
              "      <td>2197</td>\n",
              "    </tr>\n",
              "    <tr>\n",
              "      <th>11</th>\n",
              "      <td>3075</td>\n",
              "      <td>3297</td>\n",
              "      <td>3479</td>\n",
              "      <td>3570</td>\n",
              "    </tr>\n",
              "    <tr>\n",
              "      <th>12</th>\n",
              "      <td>2859</td>\n",
              "      <td>3162</td>\n",
              "      <td>3231</td>\n",
              "      <td>3420</td>\n",
              "    </tr>\n",
              "    <tr>\n",
              "      <th>13</th>\n",
              "      <td>2252</td>\n",
              "      <td>2678</td>\n",
              "      <td>2455</td>\n",
              "      <td>2635</td>\n",
              "    </tr>\n",
              "    <tr>\n",
              "      <th>14</th>\n",
              "      <td>3104</td>\n",
              "      <td>3495</td>\n",
              "      <td>3162</td>\n",
              "      <td>3624</td>\n",
              "    </tr>\n",
              "    <tr>\n",
              "      <th>15</th>\n",
              "      <td>3048</td>\n",
              "      <td>3114</td>\n",
              "      <td>3256</td>\n",
              "      <td>3146</td>\n",
              "    </tr>\n",
              "    <tr>\n",
              "      <th>16</th>\n",
              "      <td>4708</td>\n",
              "      <td>5029</td>\n",
              "      <td>4733</td>\n",
              "      <td>4758</td>\n",
              "    </tr>\n",
              "    <tr>\n",
              "      <th>17</th>\n",
              "      <td>2591</td>\n",
              "      <td>2584</td>\n",
              "      <td>2685</td>\n",
              "      <td>2736</td>\n",
              "    </tr>\n",
              "    <tr>\n",
              "      <th>18</th>\n",
              "      <td>1732</td>\n",
              "      <td>1656</td>\n",
              "      <td>1766</td>\n",
              "      <td>1674</td>\n",
              "    </tr>\n",
              "    <tr>\n",
              "      <th>19</th>\n",
              "      <td>3027</td>\n",
              "      <td>3179</td>\n",
              "      <td>3129</td>\n",
              "      <td>3091</td>\n",
              "    </tr>\n",
              "    <tr>\n",
              "      <th>20</th>\n",
              "      <td>3504</td>\n",
              "      <td>3741</td>\n",
              "      <td>3326</td>\n",
              "      <td>3530</td>\n",
              "    </tr>\n",
              "    <tr>\n",
              "      <th>21</th>\n",
              "      <td>5001</td>\n",
              "      <td>4970</td>\n",
              "      <td>5193</td>\n",
              "      <td>5055</td>\n",
              "    </tr>\n",
              "    <tr>\n",
              "      <th>22</th>\n",
              "      <td>2914</td>\n",
              "      <td>3188</td>\n",
              "      <td>3392</td>\n",
              "      <td>3735</td>\n",
              "    </tr>\n",
              "    <tr>\n",
              "      <th>23</th>\n",
              "      <td>4298</td>\n",
              "      <td>4570</td>\n",
              "      <td>4954</td>\n",
              "      <td>5191</td>\n",
              "    </tr>\n",
              "    <tr>\n",
              "      <th>24</th>\n",
              "      <td>5079</td>\n",
              "      <td>5574</td>\n",
              "      <td>6230</td>\n",
              "      <td>6513</td>\n",
              "    </tr>\n",
              "    <tr>\n",
              "      <th>25</th>\n",
              "      <td>4826</td>\n",
              "      <td>5116</td>\n",
              "      <td>3876</td>\n",
              "      <td>3947</td>\n",
              "    </tr>\n",
              "  </tbody>\n",
              "</table>\n",
              "</div>"
            ],
            "text/plain": [
              "    Column1  Column2  Column3  Column4\n",
              "0     73389    78228    77842    79991\n",
              "1      1266     1378     1353     1344\n",
              "2       949     1017     1075     1069\n",
              "3      2111     2351     1942     1940\n",
              "4      2282     2374     2575     2466\n",
              "5      2551     2881     2775     3052\n",
              "6      2802     2838     2766     2778\n",
              "7      2534     2595     2860     2792\n",
              "8      3180     3581     3386     3563\n",
              "9      1865     1937     2121     2165\n",
              "10     1831     1923     2122     2197\n",
              "11     3075     3297     3479     3570\n",
              "12     2859     3162     3231     3420\n",
              "13     2252     2678     2455     2635\n",
              "14     3104     3495     3162     3624\n",
              "15     3048     3114     3256     3146\n",
              "16     4708     5029     4733     4758\n",
              "17     2591     2584     2685     2736\n",
              "18     1732     1656     1766     1674\n",
              "19     3027     3179     3129     3091\n",
              "20     3504     3741     3326     3530\n",
              "21     5001     4970     5193     5055\n",
              "22     2914     3188     3392     3735\n",
              "23     4298     4570     4954     5191\n",
              "24     5079     5574     6230     6513\n",
              "25     4826     5116     3876     3947"
            ]
          },
          "metadata": {
            "tags": []
          },
          "execution_count": 47
        }
      ]
    },
    {
      "cell_type": "code",
      "metadata": {
        "colab": {
          "base_uri": "https://localhost:8080/"
        },
        "id": "umdSJE1D7mHk",
        "outputId": "1eee5c13-c5dd-4c71-d64b-129c32e99d66"
      },
      "source": [
        "p.iloc[3,3]"
      ],
      "execution_count": null,
      "outputs": [
        {
          "output_type": "execute_result",
          "data": {
            "text/plain": [
              "1940"
            ]
          },
          "metadata": {
            "tags": []
          },
          "execution_count": 37
        }
      ]
    },
    {
      "cell_type": "code",
      "metadata": {
        "colab": {
          "base_uri": "https://localhost:8080/"
        },
        "id": "aP1BcQ_68PjH",
        "outputId": "bb780cc6-92bf-4fc8-d6a4-159edeb5ab4d"
      },
      "source": [
        "type(p.iloc[3,3])"
      ],
      "execution_count": null,
      "outputs": [
        {
          "output_type": "execute_result",
          "data": {
            "text/plain": [
              "numpy.int64"
            ]
          },
          "metadata": {
            "tags": []
          },
          "execution_count": 43
        }
      ]
    },
    {
      "cell_type": "markdown",
      "metadata": {
        "id": "mNEvPx9CQ1-L"
      },
      "source": [
        ""
      ]
    },
    {
      "cell_type": "code",
      "metadata": {
        "id": "-YUbNPgMLRY2"
      },
      "source": [
        "p.columns=['남자이동1', '여자이동1', '남자이동2', '여자이동2']"
      ],
      "execution_count": null,
      "outputs": []
    },
    {
      "cell_type": "code",
      "metadata": {
        "id": "S9nAnzDSUKQw"
      },
      "source": [
        "p.index=['서울특별시','종로구','중구','용산구','성동구','광진구','동대문구','중랑구','성북구','강북구','도봉구','노원구','은평구','서대문구','마포구','양천구','강서구','구로구','금천구','영등포구','동작구','관악구','서초구','강남구','송파구','강동구']"
      ],
      "execution_count": null,
      "outputs": []
    },
    {
      "cell_type": "code",
      "metadata": {
        "id": "w36HbrCwL0Au"
      },
      "source": [
        "p['소계1']=p['남자이동1']+p['여자이동1']\n",
        "p['소계2']=p['남자이동2']+p['여자이동2']"
      ],
      "execution_count": null,
      "outputs": []
    },
    {
      "cell_type": "code",
      "metadata": {
        "colab": {
          "base_uri": "https://localhost:8080/",
          "height": 855
        },
        "id": "rGfprXGCRR47",
        "outputId": "051090f4-4be8-4840-fcdf-818c6d12342e"
      },
      "source": [
        "p"
      ],
      "execution_count": null,
      "outputs": [
        {
          "output_type": "execute_result",
          "data": {
            "text/html": [
              "<div>\n",
              "<style scoped>\n",
              "    .dataframe tbody tr th:only-of-type {\n",
              "        vertical-align: middle;\n",
              "    }\n",
              "\n",
              "    .dataframe tbody tr th {\n",
              "        vertical-align: top;\n",
              "    }\n",
              "\n",
              "    .dataframe thead th {\n",
              "        text-align: right;\n",
              "    }\n",
              "</style>\n",
              "<table border=\"1\" class=\"dataframe\">\n",
              "  <thead>\n",
              "    <tr style=\"text-align: right;\">\n",
              "      <th></th>\n",
              "      <th>남자이동1</th>\n",
              "      <th>여자이동1</th>\n",
              "      <th>남자이동2</th>\n",
              "      <th>여자이동2</th>\n",
              "      <th>소계1</th>\n",
              "      <th>소계2</th>\n",
              "    </tr>\n",
              "  </thead>\n",
              "  <tbody>\n",
              "    <tr>\n",
              "      <th>서울특별시</th>\n",
              "      <td>73389</td>\n",
              "      <td>78228</td>\n",
              "      <td>77842</td>\n",
              "      <td>79991</td>\n",
              "      <td>151617</td>\n",
              "      <td>157833</td>\n",
              "    </tr>\n",
              "    <tr>\n",
              "      <th>종로구</th>\n",
              "      <td>1266</td>\n",
              "      <td>1378</td>\n",
              "      <td>1353</td>\n",
              "      <td>1344</td>\n",
              "      <td>2644</td>\n",
              "      <td>2697</td>\n",
              "    </tr>\n",
              "    <tr>\n",
              "      <th>중구</th>\n",
              "      <td>949</td>\n",
              "      <td>1017</td>\n",
              "      <td>1075</td>\n",
              "      <td>1069</td>\n",
              "      <td>1966</td>\n",
              "      <td>2144</td>\n",
              "    </tr>\n",
              "    <tr>\n",
              "      <th>용산구</th>\n",
              "      <td>2111</td>\n",
              "      <td>2351</td>\n",
              "      <td>1942</td>\n",
              "      <td>1940</td>\n",
              "      <td>4462</td>\n",
              "      <td>3882</td>\n",
              "    </tr>\n",
              "    <tr>\n",
              "      <th>성동구</th>\n",
              "      <td>2282</td>\n",
              "      <td>2374</td>\n",
              "      <td>2575</td>\n",
              "      <td>2466</td>\n",
              "      <td>4656</td>\n",
              "      <td>5041</td>\n",
              "    </tr>\n",
              "    <tr>\n",
              "      <th>광진구</th>\n",
              "      <td>2551</td>\n",
              "      <td>2881</td>\n",
              "      <td>2775</td>\n",
              "      <td>3052</td>\n",
              "      <td>5432</td>\n",
              "      <td>5827</td>\n",
              "    </tr>\n",
              "    <tr>\n",
              "      <th>동대문구</th>\n",
              "      <td>2802</td>\n",
              "      <td>2838</td>\n",
              "      <td>2766</td>\n",
              "      <td>2778</td>\n",
              "      <td>5640</td>\n",
              "      <td>5544</td>\n",
              "    </tr>\n",
              "    <tr>\n",
              "      <th>중랑구</th>\n",
              "      <td>2534</td>\n",
              "      <td>2595</td>\n",
              "      <td>2860</td>\n",
              "      <td>2792</td>\n",
              "      <td>5129</td>\n",
              "      <td>5652</td>\n",
              "    </tr>\n",
              "    <tr>\n",
              "      <th>성북구</th>\n",
              "      <td>3180</td>\n",
              "      <td>3581</td>\n",
              "      <td>3386</td>\n",
              "      <td>3563</td>\n",
              "      <td>6761</td>\n",
              "      <td>6949</td>\n",
              "    </tr>\n",
              "    <tr>\n",
              "      <th>강북구</th>\n",
              "      <td>1865</td>\n",
              "      <td>1937</td>\n",
              "      <td>2121</td>\n",
              "      <td>2165</td>\n",
              "      <td>3802</td>\n",
              "      <td>4286</td>\n",
              "    </tr>\n",
              "    <tr>\n",
              "      <th>도봉구</th>\n",
              "      <td>1831</td>\n",
              "      <td>1923</td>\n",
              "      <td>2122</td>\n",
              "      <td>2197</td>\n",
              "      <td>3754</td>\n",
              "      <td>4319</td>\n",
              "    </tr>\n",
              "    <tr>\n",
              "      <th>노원구</th>\n",
              "      <td>3075</td>\n",
              "      <td>3297</td>\n",
              "      <td>3479</td>\n",
              "      <td>3570</td>\n",
              "      <td>6372</td>\n",
              "      <td>7049</td>\n",
              "    </tr>\n",
              "    <tr>\n",
              "      <th>은평구</th>\n",
              "      <td>2859</td>\n",
              "      <td>3162</td>\n",
              "      <td>3231</td>\n",
              "      <td>3420</td>\n",
              "      <td>6021</td>\n",
              "      <td>6651</td>\n",
              "    </tr>\n",
              "    <tr>\n",
              "      <th>서대문구</th>\n",
              "      <td>2252</td>\n",
              "      <td>2678</td>\n",
              "      <td>2455</td>\n",
              "      <td>2635</td>\n",
              "      <td>4930</td>\n",
              "      <td>5090</td>\n",
              "    </tr>\n",
              "    <tr>\n",
              "      <th>마포구</th>\n",
              "      <td>3104</td>\n",
              "      <td>3495</td>\n",
              "      <td>3162</td>\n",
              "      <td>3624</td>\n",
              "      <td>6599</td>\n",
              "      <td>6786</td>\n",
              "    </tr>\n",
              "    <tr>\n",
              "      <th>양천구</th>\n",
              "      <td>3048</td>\n",
              "      <td>3114</td>\n",
              "      <td>3256</td>\n",
              "      <td>3146</td>\n",
              "      <td>6162</td>\n",
              "      <td>6402</td>\n",
              "    </tr>\n",
              "    <tr>\n",
              "      <th>강서구</th>\n",
              "      <td>4708</td>\n",
              "      <td>5029</td>\n",
              "      <td>4733</td>\n",
              "      <td>4758</td>\n",
              "      <td>9737</td>\n",
              "      <td>9491</td>\n",
              "    </tr>\n",
              "    <tr>\n",
              "      <th>구로구</th>\n",
              "      <td>2591</td>\n",
              "      <td>2584</td>\n",
              "      <td>2685</td>\n",
              "      <td>2736</td>\n",
              "      <td>5175</td>\n",
              "      <td>5421</td>\n",
              "    </tr>\n",
              "    <tr>\n",
              "      <th>금천구</th>\n",
              "      <td>1732</td>\n",
              "      <td>1656</td>\n",
              "      <td>1766</td>\n",
              "      <td>1674</td>\n",
              "      <td>3388</td>\n",
              "      <td>3440</td>\n",
              "    </tr>\n",
              "    <tr>\n",
              "      <th>영등포구</th>\n",
              "      <td>3027</td>\n",
              "      <td>3179</td>\n",
              "      <td>3129</td>\n",
              "      <td>3091</td>\n",
              "      <td>6206</td>\n",
              "      <td>6220</td>\n",
              "    </tr>\n",
              "    <tr>\n",
              "      <th>동작구</th>\n",
              "      <td>3504</td>\n",
              "      <td>3741</td>\n",
              "      <td>3326</td>\n",
              "      <td>3530</td>\n",
              "      <td>7245</td>\n",
              "      <td>6856</td>\n",
              "    </tr>\n",
              "    <tr>\n",
              "      <th>관악구</th>\n",
              "      <td>5001</td>\n",
              "      <td>4970</td>\n",
              "      <td>5193</td>\n",
              "      <td>5055</td>\n",
              "      <td>9971</td>\n",
              "      <td>10248</td>\n",
              "    </tr>\n",
              "    <tr>\n",
              "      <th>서초구</th>\n",
              "      <td>2914</td>\n",
              "      <td>3188</td>\n",
              "      <td>3392</td>\n",
              "      <td>3735</td>\n",
              "      <td>6102</td>\n",
              "      <td>7127</td>\n",
              "    </tr>\n",
              "    <tr>\n",
              "      <th>강남구</th>\n",
              "      <td>4298</td>\n",
              "      <td>4570</td>\n",
              "      <td>4954</td>\n",
              "      <td>5191</td>\n",
              "      <td>8868</td>\n",
              "      <td>10145</td>\n",
              "    </tr>\n",
              "    <tr>\n",
              "      <th>송파구</th>\n",
              "      <td>5079</td>\n",
              "      <td>5574</td>\n",
              "      <td>6230</td>\n",
              "      <td>6513</td>\n",
              "      <td>10653</td>\n",
              "      <td>12743</td>\n",
              "    </tr>\n",
              "    <tr>\n",
              "      <th>강동구</th>\n",
              "      <td>4826</td>\n",
              "      <td>5116</td>\n",
              "      <td>3876</td>\n",
              "      <td>3947</td>\n",
              "      <td>9942</td>\n",
              "      <td>7823</td>\n",
              "    </tr>\n",
              "  </tbody>\n",
              "</table>\n",
              "</div>"
            ],
            "text/plain": [
              "       남자이동1  여자이동1  남자이동2  여자이동2     소계1     소계2\n",
              "서울특별시  73389  78228  77842  79991  151617  157833\n",
              "종로구     1266   1378   1353   1344    2644    2697\n",
              "중구       949   1017   1075   1069    1966    2144\n",
              "용산구     2111   2351   1942   1940    4462    3882\n",
              "성동구     2282   2374   2575   2466    4656    5041\n",
              "광진구     2551   2881   2775   3052    5432    5827\n",
              "동대문구    2802   2838   2766   2778    5640    5544\n",
              "중랑구     2534   2595   2860   2792    5129    5652\n",
              "성북구     3180   3581   3386   3563    6761    6949\n",
              "강북구     1865   1937   2121   2165    3802    4286\n",
              "도봉구     1831   1923   2122   2197    3754    4319\n",
              "노원구     3075   3297   3479   3570    6372    7049\n",
              "은평구     2859   3162   3231   3420    6021    6651\n",
              "서대문구    2252   2678   2455   2635    4930    5090\n",
              "마포구     3104   3495   3162   3624    6599    6786\n",
              "양천구     3048   3114   3256   3146    6162    6402\n",
              "강서구     4708   5029   4733   4758    9737    9491\n",
              "구로구     2591   2584   2685   2736    5175    5421\n",
              "금천구     1732   1656   1766   1674    3388    3440\n",
              "영등포구    3027   3179   3129   3091    6206    6220\n",
              "동작구     3504   3741   3326   3530    7245    6856\n",
              "관악구     5001   4970   5193   5055    9971   10248\n",
              "서초구     2914   3188   3392   3735    6102    7127\n",
              "강남구     4298   4570   4954   5191    8868   10145\n",
              "송파구     5079   5574   6230   6513   10653   12743\n",
              "강동구     4826   5116   3876   3947    9942    7823"
            ]
          },
          "metadata": {
            "tags": []
          },
          "execution_count": 62
        }
      ]
    },
    {
      "cell_type": "code",
      "metadata": {
        "id": "gDFqC9HXTzn4"
      },
      "source": [
        ""
      ],
      "execution_count": null,
      "outputs": []
    }
  ]
}